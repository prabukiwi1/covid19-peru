{
 "cells": [
  {
   "cell_type": "code",
   "execution_count": 2,
   "metadata": {},
   "outputs": [],
   "source": [
    "import time\n",
    "import pandas as pd\n",
    "import dask.dataframe as dd\n",
    "import numpy as np\n",
    "\n",
    "from epiweeks import Week"
   ]
  },
  {
   "cell_type": "code",
   "execution_count": 3,
   "metadata": {},
   "outputs": [],
   "source": [
    "vac_url = '../RawData/TB_VACUNACION_COVID19.csv'\n",
    "fal_url = '../RawData/fallecidos_covid.csv'"
   ]
  },
  {
   "cell_type": "code",
   "execution_count": null,
   "metadata": {},
   "outputs": [],
   "source": [
    "start = time.time()\n",
    "ddf = dd.read_csv(vac_url, sep = \",\" )\n",
    "end = time.time()\n",
    "print(\"Read csv with dask: \",(end-start),\"sec\")\n",
    "ddf.head()"
   ]
  },
  {
   "cell_type": "code",
   "execution_count": null,
   "metadata": {},
   "outputs": [],
   "source": [
    "ddf = ddf.assign(fecha_vacunacion = dd.to_datetime(ddf[\"fecha_vacunacion\"], format = \"%Y%m%d\", errors=\"coerce\"))\n",
    "ddf.head()"
   ]
  },
  {
   "cell_type": "code",
   "execution_count": null,
   "metadata": {},
   "outputs": [],
   "source": [
    "ddf['isoformat'] = ddf['fecha_vacunacion'].apply(lambda date : Week.fromdate(date).isoformat(), meta=('isoformat', 'object'))\n",
    "ddf.head()"
   ]
  },
  {
   "cell_type": "code",
   "execution_count": null,
   "metadata": {},
   "outputs": [],
   "source": [
    "ddf[['epi_week4','epi_week5']] = ddf['isoformat'].str.split(\"W\", 1, expand=True)\n",
    "ddf.head()"
   ]
  },
  {
   "cell_type": "code",
   "execution_count": null,
   "metadata": {},
   "outputs": [],
   "source": [
    "%reset "
   ]
  },
  {
   "cell_type": "code",
   "execution_count": null,
   "metadata": {},
   "outputs": [],
   "source": [
    "#ddf.loc[ddf['dosis'] == 4].compute()\n",
    "#ddf.loc[ddf['dosis'] == 5].compute()\n",
    "#ddf.groupby(\"id_vacuna\").edad.mean().compute()\n",
    "#ddf.partitions[4].compute()\n",
    "#type(ddf.partitions[4].compute())\n",
    "#print(\"Número de dosis aplicadas:\"), \n",
    "#ddf.dosis.value_counts().compute()\n",
    "#ddf.map_partitions(len).compute()\n",
    "\n",
    "#def variable_fecha(ddf, date_name):\n",
    "#    return ddf.assign(fecha_vacunacion = dd.to_datetime(ddf[date_name], format = \"%Y%m%d\", errors=\"coerce\"))\n",
    "\n",
    "#ddf = ddf.map_partitions(variable_fecha, \"fecha_vacunacion\")\n",
    "#ddf.head(10)\n",
    "\n",
    "##test = dd.to_datetime(ddf[\"fecha_vacunacion\"], format = \"%Y%m%d\").compute().to_frame()\n",
    "#test"
   ]
  },
  {
   "cell_type": "code",
   "execution_count": 55,
   "metadata": {},
   "outputs": [],
   "source": [
    "import pandas as pd\n",
    "import dask.dataframe as dd\n",
    "\n",
    "df = pd.DataFrame({'x': [1, 2, 3, 4, 5],\n",
    "                   'y': [1., 2., 3., 4., 5.]})\n",
    "ddf = dd.from_pandas(df, npartitions=2)"
   ]
  },
  {
   "cell_type": "code",
   "execution_count": 56,
   "metadata": {},
   "outputs": [
    {
     "data": {
      "text/plain": [
       "dtype('float64')"
      ]
     },
     "execution_count": 56,
     "metadata": {},
     "output_type": "execute_result"
    }
   ],
   "source": [
    "def myadd(df, a, b=1):\n",
    "    return df.x + df.y + a + b\n",
    "\n",
    "res = ddf.map_partitions(myadd, 1, b=2)\n",
    "res.dtype\n",
    "\n",
    "#ddf.partitions[1].compute().head()"
   ]
  },
  {
   "cell_type": "markdown",
   "metadata": {},
   "source": [
    "### ==========================================================================================================="
   ]
  },
  {
   "cell_type": "code",
   "execution_count": 54,
   "metadata": {},
   "outputs": [
    {
     "ename": "NameError",
     "evalue": "name 'fal_url' is not defined",
     "output_type": "error",
     "traceback": [
      "\u001b[0;31m---------------------------------------------------------------------------\u001b[0m",
      "\u001b[0;31mNameError\u001b[0m                                 Traceback (most recent call last)",
      "\u001b[0;32m/tmp/ipykernel_21624/1062392396.py\u001b[0m in \u001b[0;36m<module>\u001b[0;34m\u001b[0m\n\u001b[0;32m----> 1\u001b[0;31m df_fal = dd.read_csv(fal_url, sep = ';', dtype={'UBIGEO': 'object', 'id_persona': 'float64'},\n\u001b[0m\u001b[1;32m      2\u001b[0m                      usecols = ['FECHA_FALLECIMIENTO'])\n\u001b[1;32m      3\u001b[0m \u001b[0mdf_fal\u001b[0m \u001b[0;34m=\u001b[0m \u001b[0mdf_fal\u001b[0m\u001b[0;34m.\u001b[0m\u001b[0massign\u001b[0m\u001b[0;34m(\u001b[0m\u001b[0mFECHA_FALLECIMIENTO\u001b[0m \u001b[0;34m=\u001b[0m \u001b[0mdd\u001b[0m\u001b[0;34m.\u001b[0m\u001b[0mto_datetime\u001b[0m\u001b[0;34m(\u001b[0m\u001b[0mdf_fal\u001b[0m\u001b[0;34m[\u001b[0m\u001b[0;34m\"FECHA_FALLECIMIENTO\"\u001b[0m\u001b[0;34m]\u001b[0m\u001b[0;34m,\u001b[0m \u001b[0mformat\u001b[0m \u001b[0;34m=\u001b[0m \u001b[0;34m\"%Y%m%d\"\u001b[0m\u001b[0;34m,\u001b[0m \u001b[0merrors\u001b[0m\u001b[0;34m=\u001b[0m\u001b[0;34m\"coerce\"\u001b[0m\u001b[0;34m)\u001b[0m\u001b[0;34m)\u001b[0m\u001b[0;34m\u001b[0m\u001b[0;34m\u001b[0m\u001b[0m\n\u001b[1;32m      4\u001b[0m \u001b[0mdf_fal\u001b[0m\u001b[0;34m\u001b[0m\u001b[0;34m\u001b[0m\u001b[0m\n",
      "\u001b[0;31mNameError\u001b[0m: name 'fal_url' is not defined"
     ]
    }
   ],
   "source": [
    "df_fal = dd.read_csv(fal_url, sep = ';', dtype={'UBIGEO': 'object', 'id_persona': 'float64'},\n",
    "                     usecols = ['FECHA_FALLECIMIENTO'])\n",
    "df_fal = df_fal.assign(FECHA_FALLECIMIENTO = dd.to_datetime(df_fal[\"FECHA_FALLECIMIENTO\"], format = \"%Y%m%d\", errors=\"coerce\"))\n",
    "df_fal"
   ]
  },
  {
   "cell_type": "code",
   "execution_count": null,
   "metadata": {},
   "outputs": [
    {
     "data": {
      "text/html": [
       "<div>\n",
       "<style scoped>\n",
       "    .dataframe tbody tr th:only-of-type {\n",
       "        vertical-align: middle;\n",
       "    }\n",
       "\n",
       "    .dataframe tbody tr th {\n",
       "        vertical-align: top;\n",
       "    }\n",
       "\n",
       "    .dataframe thead th {\n",
       "        text-align: right;\n",
       "    }\n",
       "</style>\n",
       "<table border=\"1\" class=\"dataframe\">\n",
       "  <thead>\n",
       "    <tr style=\"text-align: right;\">\n",
       "      <th></th>\n",
       "      <th>FECHA_FALLECIMIENTO</th>\n",
       "      <th>isoformat</th>\n",
       "      <th>epi_week4</th>\n",
       "      <th>epi_week5</th>\n",
       "    </tr>\n",
       "  </thead>\n",
       "  <tbody>\n",
       "    <tr>\n",
       "      <th>0</th>\n",
       "      <td>2021-06-11</td>\n",
       "      <td>2021W23</td>\n",
       "      <td>2021</td>\n",
       "      <td>23</td>\n",
       "    </tr>\n",
       "    <tr>\n",
       "      <th>1</th>\n",
       "      <td>2021-03-17</td>\n",
       "      <td>2021W11</td>\n",
       "      <td>2021</td>\n",
       "      <td>11</td>\n",
       "    </tr>\n",
       "    <tr>\n",
       "      <th>2</th>\n",
       "      <td>2021-06-02</td>\n",
       "      <td>2021W22</td>\n",
       "      <td>2021</td>\n",
       "      <td>22</td>\n",
       "    </tr>\n",
       "    <tr>\n",
       "      <th>3</th>\n",
       "      <td>2021-07-03</td>\n",
       "      <td>2021W26</td>\n",
       "      <td>2021</td>\n",
       "      <td>26</td>\n",
       "    </tr>\n",
       "    <tr>\n",
       "      <th>4</th>\n",
       "      <td>2021-05-06</td>\n",
       "      <td>2021W18</td>\n",
       "      <td>2021</td>\n",
       "      <td>18</td>\n",
       "    </tr>\n",
       "  </tbody>\n",
       "</table>\n",
       "</div>"
      ],
      "text/plain": [
       "  FECHA_FALLECIMIENTO isoformat epi_week4 epi_week5\n",
       "0          2021-06-11   2021W23      2021        23\n",
       "1          2021-03-17   2021W11      2021        11\n",
       "2          2021-06-02   2021W22      2021        22\n",
       "3          2021-07-03   2021W26      2021        26\n",
       "4          2021-05-06   2021W18      2021        18"
      ]
     },
     "execution_count": 8,
     "metadata": {},
     "output_type": "execute_result"
    }
   ],
   "source": [
    "df_fal['isoformat'] = df_fal['FECHA_FALLECIMIENTO'].apply(lambda date : Week.fromdate(date).isoformat(), meta=('object'))\n",
    "df_fal[['epi_week4','epi_week5']] = df_fal['isoformat'].str.split(\"W\", 1, expand=True)\n",
    "df_fal.head()"
   ]
  },
  {
   "cell_type": "code",
   "execution_count": null,
   "metadata": {},
   "outputs": [],
   "source": [
    "df_fal['epi_week1'] = df_fal['FECHA_FALLECIMIENTO'].apply(lambda date : Week.fromdate(date).cdcformat(), meta=('FECHA_FALLECIMIENTO', 'object'))\n",
    "df_fal.head()"
   ]
  },
  {
   "cell_type": "code",
   "execution_count": null,
   "metadata": {},
   "outputs": [],
   "source": [
    "df_fal['epi_week2'] = df_fal['FECHA_FALLECIMIENTO'].apply(lambda date : Week.fromdate(date).weektuple(), meta=('FECHA_FALLECIMIENTO', 'object'))\n",
    "df_fal.head()"
   ]
  },
  {
   "cell_type": "code",
   "execution_count": null,
   "metadata": {},
   "outputs": [],
   "source": [
    "df_fal['epi_week1'] = df_fal['epi_week1'].apply(np.uint32)\n",
    "df_fal['epi_week4'] = df_fal['epi_week4'].apply(np.uint16)\n",
    "df_fal['epi_week5'] = df_fal['epi_week5'].apply(np.uint8)\n",
    "df_fal.head()"
   ]
  },
  {
   "cell_type": "code",
   "execution_count": null,
   "metadata": {},
   "outputs": [],
   "source": [
    "df_fal.memory_usage()"
   ]
  }
 ],
 "metadata": {
  "interpreter": {
   "hash": "c5969b0444520e9aeee25788533910dfe0ee1a9ff4ff2cc0b07d55f5d197aaba"
  },
  "kernelspec": {
   "display_name": "Python 3 (Spyder)",
   "language": "python3",
   "name": "python3"
  },
  "language_info": {
   "codemirror_mode": {
    "name": "ipython",
    "version": 3
   },
   "file_extension": ".py",
   "mimetype": "text/x-python",
   "name": "python",
   "nbconvert_exporter": "python",
   "pygments_lexer": "ipython3",
   "version": "3.8.12"
  }
 },
 "nbformat": 4,
 "nbformat_minor": 4
}
