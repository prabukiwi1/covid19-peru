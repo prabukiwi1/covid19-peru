{
 "cells": [
  {
   "cell_type": "markdown",
   "metadata": {},
   "source": [
    "# Análisis exploratorio y descripción general de los datos a usar (RawData)\n",
    "\n",
    "## 0. Introducción\n",
    "\n",
    "(Añadir descripción de cómo usar DataFiltering)"
   ]
  },
  {
   "cell_type": "markdown",
   "metadata": {},
   "source": [
    "## 1. Cargar librerías"
   ]
  },
  {
   "cell_type": "code",
   "execution_count": 161,
   "metadata": {},
   "outputs": [],
   "source": [
    "import pandas as pd\n",
    "import numpy as np\n",
    "\n",
    "import functions as fn"
   ]
  },
  {
   "cell_type": "markdown",
   "metadata": {},
   "source": [
    "## 2. Leer las direcciones de RawData"
   ]
  },
  {
   "cell_type": "code",
   "execution_count": 117,
   "metadata": {},
   "outputs": [],
   "source": [
    "fal_url = 'RawData/fallecidos_covid.csv'\n",
    "vac_url = 'RawData/TB_VACUNACION_COVID19.csv'"
   ]
  },
  {
   "cell_type": "markdown",
   "metadata": {},
   "source": [
    "## 3. Cargar el dataset de fallecidos por COVID-19"
   ]
  },
  {
   "cell_type": "markdown",
   "metadata": {},
   "source": [
    "### 3.1. Cargamos una parte del dataset"
   ]
  },
  {
   "cell_type": "code",
   "execution_count": 166,
   "metadata": {},
   "outputs": [
    {
     "name": "stdout",
     "output_type": "stream",
     "text": [
      "Read csv with dask:  0.2541205883026123 sec\n",
      "<class 'pandas.core.frame.DataFrame'>\n",
      "RangeIndex: 201527 entries, 0 to 201526\n",
      "Columns: 10 entries, FECHA_CORTE to id_persona\n",
      "dtypes: category(8), float64(1), int64(1)\n",
      "memory usage: 5.6 MB\n"
     ]
    }
   ],
   "source": [
    "df_fal = fn.complete_largeCSV_file(fal_url, ';')"
   ]
  },
  {
   "cell_type": "markdown",
   "metadata": {},
   "source": [
    "### 3.2. Información general del dataset"
   ]
  },
  {
   "cell_type": "code",
   "execution_count": 167,
   "metadata": {},
   "outputs": [
    {
     "name": "stdout",
     "output_type": "stream",
     "text": [
      "<class 'pandas.core.frame.DataFrame'>\n",
      "RangeIndex: 201527 entries, 0 to 201526\n",
      "Data columns (total 10 columns):\n",
      " #   Column               Non-Null Count   Dtype   \n",
      "---  ------               --------------   -----   \n",
      " 0   FECHA_CORTE          201527 non-null  category\n",
      " 1   FECHA_FALLECIMIENTO  201527 non-null  int64   \n",
      " 2   EDAD_DECLARADA       201527 non-null  category\n",
      " 3   SEXO                 201527 non-null  category\n",
      " 4   CLASIFICACION_DEF    201527 non-null  category\n",
      " 5   DEPARTAMENTO         201527 non-null  category\n",
      " 6   PROVINCIA            201522 non-null  category\n",
      " 7   DISTRITO             201522 non-null  category\n",
      " 8   UBIGEO               201527 non-null  category\n",
      " 9   id_persona           198129 non-null  float64 \n",
      "dtypes: category(8), float64(1), int64(1)\n",
      "memory usage: 5.4 MB\n"
     ]
    }
   ],
   "source": [
    "df_fal.info()"
   ]
  },
  {
   "cell_type": "markdown",
   "metadata": {},
   "source": [
    "### 3.3. Porcentaje de datos perdidos de cada variable"
   ]
  },
  {
   "cell_type": "code",
   "execution_count": 164,
   "metadata": {},
   "outputs": [
    {
     "data": {
      "text/html": [
       "<div>\n",
       "<style scoped>\n",
       "    .dataframe tbody tr th:only-of-type {\n",
       "        vertical-align: middle;\n",
       "    }\n",
       "\n",
       "    .dataframe tbody tr th {\n",
       "        vertical-align: top;\n",
       "    }\n",
       "\n",
       "    .dataframe thead th {\n",
       "        text-align: right;\n",
       "    }\n",
       "</style>\n",
       "<table border=\"1\" class=\"dataframe\">\n",
       "  <thead>\n",
       "    <tr style=\"text-align: right;\">\n",
       "      <th></th>\n",
       "      <th>index</th>\n",
       "      <th>percent_missing</th>\n",
       "    </tr>\n",
       "  </thead>\n",
       "  <tbody>\n",
       "    <tr>\n",
       "      <th>0</th>\n",
       "      <td>FECHA_CORTE</td>\n",
       "      <td>0.000000</td>\n",
       "    </tr>\n",
       "    <tr>\n",
       "      <th>1</th>\n",
       "      <td>FECHA_FALLECIMIENTO</td>\n",
       "      <td>0.000000</td>\n",
       "    </tr>\n",
       "    <tr>\n",
       "      <th>2</th>\n",
       "      <td>EDAD_DECLARADA</td>\n",
       "      <td>0.000000</td>\n",
       "    </tr>\n",
       "    <tr>\n",
       "      <th>3</th>\n",
       "      <td>SEXO</td>\n",
       "      <td>0.000000</td>\n",
       "    </tr>\n",
       "    <tr>\n",
       "      <th>4</th>\n",
       "      <td>CLASIFICACION_DEF</td>\n",
       "      <td>0.000000</td>\n",
       "    </tr>\n",
       "    <tr>\n",
       "      <th>5</th>\n",
       "      <td>DEPARTAMENTO</td>\n",
       "      <td>0.000000</td>\n",
       "    </tr>\n",
       "    <tr>\n",
       "      <th>6</th>\n",
       "      <td>PROVINCIA</td>\n",
       "      <td>0.002481</td>\n",
       "    </tr>\n",
       "    <tr>\n",
       "      <th>7</th>\n",
       "      <td>DISTRITO</td>\n",
       "      <td>0.002481</td>\n",
       "    </tr>\n",
       "    <tr>\n",
       "      <th>8</th>\n",
       "      <td>UBIGEO</td>\n",
       "      <td>0.000000</td>\n",
       "    </tr>\n",
       "    <tr>\n",
       "      <th>9</th>\n",
       "      <td>id_persona</td>\n",
       "      <td>1.686126</td>\n",
       "    </tr>\n",
       "  </tbody>\n",
       "</table>\n",
       "</div>"
      ],
      "text/plain": [
       "                 index  percent_missing\n",
       "0          FECHA_CORTE         0.000000\n",
       "1  FECHA_FALLECIMIENTO         0.000000\n",
       "2       EDAD_DECLARADA         0.000000\n",
       "3                 SEXO         0.000000\n",
       "4    CLASIFICACION_DEF         0.000000\n",
       "5         DEPARTAMENTO         0.000000\n",
       "6            PROVINCIA         0.002481\n",
       "7             DISTRITO         0.002481\n",
       "8               UBIGEO         0.000000\n",
       "9           id_persona         1.686126"
      ]
     },
     "execution_count": 164,
     "metadata": {},
     "output_type": "execute_result"
    }
   ],
   "source": [
    "fn.missing_values(df_fal)"
   ]
  },
  {
   "cell_type": "markdown",
   "metadata": {},
   "source": [
    "## 4. Analizar cada variable del dataset de fallecidos"
   ]
  },
  {
   "cell_type": "markdown",
   "metadata": {},
   "source": [
    "### 4.1. FECHA_CORTE"
   ]
  },
  {
   "cell_type": "code",
   "execution_count": 173,
   "metadata": {},
   "outputs": [
    {
     "name": "stdout",
     "output_type": "stream",
     "text": [
      "Fecha de corte:\n",
      "20211208    201527\n"
     ]
    }
   ],
   "source": [
    "fal_cor = df_fal['FECHA_CORTE'].value_counts().sort_index()\n",
    "print('Fecha de corte:'), print(fal_cor.to_string(header=False))\n",
    "del fal_cor"
   ]
  },
  {
   "cell_type": "markdown",
   "metadata": {},
   "source": [
    "Todos los valores son iguales. La misma fecha de corte para n número de casos, variable no necesaria."
   ]
  },
  {
   "cell_type": "markdown",
   "metadata": {},
   "source": [
    "### 4.2. FECHA_FALLECIMIENTO"
   ]
  },
  {
   "cell_type": "code",
   "execution_count": 169,
   "metadata": {},
   "outputs": [
    {
     "name": "stdout",
     "output_type": "stream",
     "text": [
      "Fecha del primer fallecido reportado: 2020-03-03\n",
      "Fecha del último fallecido reportado: 2021-12-08\n"
     ]
    }
   ],
   "source": [
    "# Fecha del primer fallecido reportado\n",
    "date_a = pd.DataFrame({'date':[df_fal['FECHA_FALLECIMIENTO'].min()]})\n",
    "date_a = pd.to_datetime(date_a['date'], format = '%Y%m%d').dt.date\n",
    "print(f'Fecha del primer fallecido reportado: {date_a[0]}')\n",
    "del date_a\n",
    "\n",
    "# Fecha del último fallecido reportado\n",
    "date_b = pd.DataFrame({'date':[df_fal['FECHA_FALLECIMIENTO'].max()]})\n",
    "date_b = pd.to_datetime(date_b['date'], format = '%Y%m%d').dt.date\n",
    "print(f'Fecha del último fallecido reportado: {date_b[0]}')\n",
    "del date_b"
   ]
  },
  {
   "cell_type": "markdown",
   "metadata": {},
   "source": [
    "### 4.3. EDAD_DECLARADA"
   ]
  },
  {
   "cell_type": "code",
   "execution_count": 170,
   "metadata": {},
   "outputs": [
    {
     "name": "stdout",
     "output_type": "stream",
     "text": [
      "Edad (años): no_casos\n",
      "Desde la edad más común a la menos común.\n",
      "\n",
      "66: 5479 80: 4115 48: 2214 34: 640   1: 145   5: 40\n",
      "67: 5379 58: 4011 89: 2069 33: 622  20: 109 102: 40\n",
      "65: 5373 79: 3994 47: 2015 95: 557  19: 109   6: 38\n",
      "68: 5317 57: 3986 90: 1850 32: 553 100: 103 103: 21\n",
      "70: 5230 82: 3825 46: 1850 96: 454   18: 88 104: 16\n",
      "72: 5174 81: 3795 45: 1767 31: 431    2: 83  106: 9\n",
      "73: 5158 56: 3698 44: 1668 30: 425   17: 75  108: 6\n",
      "69: 5136 55: 3679 43: 1500 29: 343   16: 75  105: 5\n",
      "64: 5079 83: 3543 91: 1425 27: 311  101: 68  107: 3\n",
      "74: 5053 54: 3422 42: 1346 28: 310    4: 63  113: 2\n",
      "71: 5039 84: 3364 92: 1331 97: 306   15: 56  110: 2\n",
      "63: 5039 85: 3188 41: 1259 26: 266    9: 52   -9: 1\n",
      "61: 5019 53: 3103 40: 1090 25: 243   11: 52  117: 1\n",
      "75: 4899 86: 2816 39: 1058 98: 243   14: 52  109: 1\n",
      "62: 4885 52: 2797 93: 1002 24: 198    8: 52  114: 1\n",
      "76: 4765 51: 2696  38: 973 23: 189   10: 50    None\n",
      "60: 4578 87: 2638  37: 830 99: 189    3: 50    None\n",
      "77: 4566 50: 2560  94: 752 21: 172    7: 45    None\n",
      "78: 4399 49: 2387  36: 684 22: 156   13: 43    None\n",
      "59: 4274 88: 2384  35: 644  0: 152   12: 42    None\n"
     ]
    }
   ],
   "source": [
    "fal_edad = df_fal['EDAD_DECLARADA'].value_counts()\n",
    "\n",
    "print('Edad (años): no_casos\\nDesde la edad más común a la menos común.\\n')\n",
    "lst = []\n",
    "\n",
    "for idx, edad in enumerate(fal_edad):\n",
    "    index = fal_edad.index\n",
    "    lst.append(f'{index[idx]}: {edad}')\n",
    "    \n",
    "chunks = [lst[x:x+20] for x in range(0, len(lst), 20)]\n",
    "df = pd.DataFrame.from_records(chunks)\n",
    "df = df.transpose()\n",
    "print(df.to_string(index=False, header=False))\n",
    "\n",
    "del fal_edad, chunks, df, lst"
   ]
  },
  {
   "cell_type": "markdown",
   "metadata": {},
   "source": [
    "Existen valores negativos, necesario correguir. Edad mínima 0 años y edad máxima 117 años."
   ]
  },
  {
   "cell_type": "markdown",
   "metadata": {},
   "source": [
    "### 4.4. SEXO"
   ]
  },
  {
   "cell_type": "code",
   "execution_count": 148,
   "metadata": {},
   "outputs": [
    {
     "name": "stdout",
     "output_type": "stream",
     "text": [
      ".: 2\n",
      "FEMENINO: 73165\n",
      "MASCULINO: 128360\n"
     ]
    }
   ],
   "source": [
    "fal_sexo = df_fal['SEXO'].value_counts().sort_index()\n",
    "\n",
    "for idx, sex in enumerate(fal_sexo):\n",
    "    index = fal_sexo.index\n",
    "    print(f'{index[idx]}: {sex}')"
   ]
  },
  {
   "cell_type": "markdown",
   "metadata": {},
   "source": [
    "Hay puntos en lugar de vacíos."
   ]
  },
  {
   "cell_type": "markdown",
   "metadata": {},
   "source": [
    "### 4.5. CLASIFICACION_DEF"
   ]
  },
  {
   "cell_type": "code",
   "execution_count": 149,
   "metadata": {},
   "outputs": [
    {
     "name": "stdout",
     "output_type": "stream",
     "text": [
      "Criterio SINADEF: 57725\n",
      "Criterio clÃ­nico: 9814\n",
      "Criterio investigaciÃ³n EpidemiolÃ³gica: 16085\n",
      "Criterio nexo epidemiolÃ³gico: 2968\n",
      "Criterio radiolÃ³gico: 6722\n",
      "Criterio serolÃ³gico: 43942\n",
      "Criterio virolÃ³gico: 64271\n"
     ]
    }
   ],
   "source": [
    "fal_cla = df_fal['CLASIFICACION_DEF'].value_counts().sort_index()\n",
    "\n",
    "for idx, clase in enumerate(fal_cla):\n",
    "    index = fal_cla.index\n",
    "    print(f'{index[idx]}: {clase}')\n",
    "\n",
    "del fal_cla\n",
    "# Se encuentran los 7 criterios de clasificación, corregir tíldes"
   ]
  },
  {
   "cell_type": "markdown",
   "metadata": {},
   "source": [
    "### 4.6. DEPARTAMENTO"
   ]
  },
  {
   "cell_type": "code",
   "execution_count": 150,
   "metadata": {},
   "outputs": [
    {
     "name": "stdout",
     "output_type": "stream",
     "text": [
      "Fallecidos por departamentos: \n",
      "\n",
      "AMAZONAS: 1273\n",
      "ANCASH: 6728\n",
      "APURIMAC: 1519\n",
      "AREQUIPA: 9718\n",
      "AYACUCHO: 2148\n",
      "CAJAMARCA: 4149\n",
      "CALLAO: 10055\n",
      "CUSCO: 4812\n",
      "HUANCAVELICA: 1176\n",
      "HUANUCO: 2701\n",
      "ICA: 8569\n",
      "JUNIN: 7061\n",
      "LA LIBERTAD: 10324\n",
      "LAMBAYEQUE: 8642\n",
      "LIMA: 89006\n",
      "LORETO: 4266\n",
      "MADRE DE DIOS: 772\n",
      "MOQUEGUA: 1526\n",
      "PASCO: 1046\n",
      "PIURA: 12163\n",
      "PUNO: 4228\n",
      "SAN MARTIN: 3030\n",
      "TACNA: 1970\n",
      "TUMBES: 1586\n",
      "UCAYALI: 3059\n",
      "\n",
      "Total fallecidos: 201527\n"
     ]
    }
   ],
   "source": [
    "fal_dep = df_fal['DEPARTAMENTO'].value_counts().sort_index()\n",
    "\n",
    "print('Fallecidos por departamentos: \\n')\n",
    "for idx, dep in enumerate(fal_dep):\n",
    "    index = fal_dep.index\n",
    "    print(f'{index[idx]}: {dep}')\n",
    "print(f'\\nTotal fallecidos: {fal_dep.sum()}')\n",
    "\n",
    "del fal_dep"
   ]
  },
  {
   "cell_type": "markdown",
   "metadata": {},
   "source": [
    "### 4.7. PROVINCIAS"
   ]
  },
  {
   "cell_type": "code",
   "execution_count": 151,
   "metadata": {},
   "outputs": [
    {
     "name": "stdout",
     "output_type": "stream",
     "text": [
      "Igual que la variable departamento pero con 196 provincias\n"
     ]
    }
   ],
   "source": [
    "fal_pro = df_fal['PROVINCIA'].value_counts().sort_index()\n",
    "print(f'Igual que la variable departamento pero con {len(fal_pro)} provincias')\n",
    "del fal_pro"
   ]
  },
  {
   "cell_type": "markdown",
   "metadata": {},
   "source": [
    "### 4.8. DISTRITO"
   ]
  },
  {
   "cell_type": "code",
   "execution_count": 152,
   "metadata": {},
   "outputs": [
    {
     "name": "stdout",
     "output_type": "stream",
     "text": [
      "Igual que la variable departamento pero con 1643 distritos\n"
     ]
    }
   ],
   "source": [
    "fal_dis = df_fal['DISTRITO'].value_counts().sort_index()\n",
    "print(f'Igual que la variable departamento pero con {len(fal_dis)} distritos')\n",
    "del fal_dis"
   ]
  },
  {
   "cell_type": "markdown",
   "metadata": {},
   "source": [
    "### 4.9. UBIGEO"
   ]
  },
  {
   "cell_type": "code",
   "execution_count": 153,
   "metadata": {},
   "outputs": [
    {
     "name": "stdout",
     "output_type": "stream",
     "text": [
      "1778 códigos de UBIGEO, para localizar zonas\n"
     ]
    }
   ],
   "source": [
    "fal_ubi = df_fal['UBIGEO'].value_counts().sort_index()\n",
    "print(f'{len(fal_ubi)} códigos de UBIGEO, para localizar zonas')\n",
    "del fal_ubi"
   ]
  },
  {
   "cell_type": "markdown",
   "metadata": {},
   "source": [
    "### 4.10. id_persona"
   ]
  },
  {
   "cell_type": "code",
   "execution_count": 158,
   "metadata": {},
   "outputs": [
    {
     "name": "stdout",
     "output_type": "stream",
     "text": [
      "ID únicos para identificar a cada persona: \n",
      "\n",
      "0    24833991\n",
      "1    24761117\n",
      "2    24767070\n",
      "3    24751741\n",
      "4    24671820\n",
      "5    24709216\n",
      "6    24709228\n",
      "7    25670721\n",
      "8    25670904\n",
      "9    25671021\n",
      "Name: id_persona, dtype: int64\n"
     ]
    }
   ],
   "source": [
    "df_fal['id_persona'] = df_fal['id_persona'].fillna(0)\n",
    "df_fal['id_persona'] = df_fal['id_persona'].apply(np.int64)\n",
    "\n",
    "print('ID únicos para identificar a cada persona: \\n')\n",
    "print(df_fal['id_persona'].head(10))"
   ]
  },
  {
   "cell_type": "markdown",
   "metadata": {},
   "source": [
    "## 5. Cargar el dataset de vacunados contra COVID-19\n",
    "\n",
    "### 5.1. Cargamos una parte del dataset"
   ]
  },
  {
   "cell_type": "code",
   "execution_count": 40,
   "metadata": {},
   "outputs": [
    {
     "name": "stdout",
     "output_type": "stream",
     "text": [
      "Dataset de todos los vacunados contra COVID-19 en Perú: \n",
      "\n",
      "  id_persona,id_vacunados_covid19,fecha_vacunacion,id_eess,id_centro_vacunacion,id_vacuna,id_grupo_riesgo,dosis,edad\n",
      "0       10789963,3575662,20210701,18536,62,5,54,2,73                                                                \n",
      "1        9193576,3575918,20210703,4482,752,5,54,2,60                                                                \n"
     ]
    }
   ],
   "source": [
    "df_vac = pd.read_csv(vac_url, sep=';', nrows= 2)\n",
    "print(\"Dataset de todos los vacunados contra COVID-19 en Perú: \\n\")\n",
    "print(df_vac.head())"
   ]
  },
  {
   "cell_type": "markdown",
   "metadata": {},
   "source": [
    "Todas las variables son numéricas."
   ]
  },
  {
   "cell_type": "code",
   "execution_count": 4,
   "metadata": {},
   "outputs": [
    {
     "name": "stdout",
     "output_type": "stream",
     "text": [
      "<class 'pandas.core.frame.DataFrame'>\n",
      "RangeIndex: 2 entries, 0 to 1\n",
      "Data columns (total 9 columns):\n",
      " #   Column                Non-Null Count  Dtype\n",
      "---  ------                --------------  -----\n",
      " 0   id_persona            2 non-null      int64\n",
      " 1   id_vacunados_covid19  2 non-null      int64\n",
      " 2   fecha_vacunacion      2 non-null      int64\n",
      " 3   id_eess               2 non-null      int64\n",
      " 4   id_centro_vacunacion  2 non-null      int64\n",
      " 5   id_vacuna             2 non-null      int64\n",
      " 6   id_grupo_riesgo       2 non-null      int64\n",
      " 7   dosis                 2 non-null      int64\n",
      " 8   edad                  2 non-null      int64\n",
      "dtypes: int64(9)\n",
      "memory usage: 272.0 bytes\n"
     ]
    }
   ],
   "source": [
    "df_vac.info()"
   ]
  }
 ],
 "metadata": {
  "interpreter": {
   "hash": "c5969b0444520e9aeee25788533910dfe0ee1a9ff4ff2cc0b07d55f5d197aaba"
  },
  "kernelspec": {
   "display_name": "Python 3 (Spyder)",
   "language": "python3",
   "name": "python3"
  },
  "language_info": {
   "codemirror_mode": {
    "name": "ipython",
    "version": 3
   },
   "file_extension": ".py",
   "mimetype": "text/x-python",
   "name": "python",
   "nbconvert_exporter": "python",
   "pygments_lexer": "ipython3",
   "version": "3.9.7"
  }
 },
 "nbformat": 4,
 "nbformat_minor": 4
}
