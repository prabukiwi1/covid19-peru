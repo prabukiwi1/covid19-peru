{
 "cells": [
  {
   "cell_type": "markdown",
   "metadata": {},
   "source": [
    "# Análisis exploratorio y descripción general de los datos a usar (RawData)\n",
    "\n",
    "## 0. Introducción\n",
    "\n",
    "(Añadir descripción de cómo usar DataFiltering)"
   ]
  },
  {
   "cell_type": "code",
   "execution_count": 4,
   "metadata": {},
   "outputs": [],
   "source": [
    "import pandas as pd"
   ]
  },
  {
   "cell_type": "markdown",
   "metadata": {},
   "source": [
    "## 1. Cargar los datos de RawData\n",
    "### 1.1. Cargar el dataset de vacunados"
   ]
  },
  {
   "cell_type": "code",
   "execution_count": 2,
   "metadata": {},
   "outputs": [
    {
     "name": "stdout",
     "output_type": "stream",
     "text": [
      "Dataset of all those vaccinated against COVID-19 in Peru:\n",
      "   id_persona  id_vacunados_covid19  ... dosis  edad\n",
      "0    14395344              11932154  ...     2    57\n",
      "1    15330904              13342810  ...     2    69\n",
      "\n",
      "[2 rows x 9 columns]\n"
     ]
    }
   ],
   "source": [
    "vac_url = 'RawData/TB_VACUNACION_COVID19.csv'\n",
    "\n",
    "df_vac = pd.read_csv(vac_url, sep=',', nrows= 2)\n",
    "print(\"Dataset of all those vaccinated against COVID-19 in Peru:\")\n",
    "print(df_vac)\n",
    "\n",
    "del vac_url"
   ]
  },
  {
   "cell_type": "markdown",
   "metadata": {},
   "source": [
    "(Añadir descripción del dataset de vacunados)\n",
    "\n",
    "### 1.2. Cargar el dataset de fallecidos"
   ]
  },
  {
   "cell_type": "code",
   "execution_count": 3,
   "metadata": {},
   "outputs": [
    {
     "name": "stdout",
     "output_type": "stream",
     "text": [
      "Dataset of all those deceased by COVID-19 in Peru:\n",
      "   FECHA_CORTE  FECHA_FALLECIMIENTO  ...  UBIGEO id_persona\n",
      "0     20211030             20210425  ...  150143   24693187\n",
      "1     20211030             20210428  ...  150133   24693271\n",
      "\n",
      "[2 rows x 10 columns]\n"
     ]
    }
   ],
   "source": [
    "fal_url = 'RawData/fallecidos_covid.csv'\n",
    "\n",
    "df_fal = pd.read_csv(fal_url, sep=';', nrows= 2)\n",
    "print(\"Dataset of all those deceased by COVID-19 in Peru:\")\n",
    "print(df_fal)\n",
    "\n",
    "del fal_url"
   ]
  },
  {
   "cell_type": "markdown",
   "metadata": {},
   "source": [
    "(Añadir descripción del dataset de fallecidos)\n",
    "\n",
    "## 2. Comprobar el formato de los datos sin procesar (RawData)\n",
    "\n",
    "### 2.1. Información del dataset de vacunados"
   ]
  },
  {
   "cell_type": "code",
   "execution_count": 12,
   "metadata": {},
   "outputs": [
    {
     "name": "stdout",
     "output_type": "stream",
     "text": [
      "<class 'pandas.core.frame.DataFrame'>\n",
      "RangeIndex: 2 entries, 0 to 1\n",
      "Data columns (total 9 columns):\n",
      " #   Column                Non-Null Count  Dtype \n",
      "---  ------                --------------  ----- \n",
      " 0   id_persona            2 non-null      int64 \n",
      " 1   id_vacunados_covid19  2 non-null      int64 \n",
      " 2   fecha_vacunacion      2 non-null      object\n",
      " 3   id_eess               2 non-null      int64 \n",
      " 4   id_centro_vacunacion  2 non-null      int64 \n",
      " 5   id_vacuna             2 non-null      int64 \n",
      " 6   id_grupo_riesgo       2 non-null      int64 \n",
      " 7   dosis                 2 non-null      int64 \n",
      " 8   edad                  2 non-null      int64 \n",
      "dtypes: int64(8), object(1)\n",
      "memory usage: 272.0+ bytes\n"
     ]
    }
   ],
   "source": [
    "df_vac.info()"
   ]
  },
  {
   "cell_type": "markdown",
   "metadata": {},
   "source": [
    "### 2.2 Información del dataset de fallecidos"
   ]
  },
  {
   "cell_type": "code",
   "execution_count": 14,
   "metadata": {},
   "outputs": [
    {
     "name": "stdout",
     "output_type": "stream",
     "text": [
      "<class 'pandas.core.frame.DataFrame'>\n",
      "RangeIndex: 2 entries, 0 to 1\n",
      "Data columns (total 10 columns):\n",
      " #   Column               Non-Null Count  Dtype \n",
      "---  ------               --------------  ----- \n",
      " 0   FECHA_CORTE          2 non-null      int64 \n",
      " 1   FECHA_FALLECIMIENTO  2 non-null      int64 \n",
      " 2   EDAD_DECLARADA       2 non-null      int64 \n",
      " 3   SEXO                 2 non-null      object\n",
      " 4   CLASIFICACION_DEF    2 non-null      object\n",
      " 5   DEPARTAMENTO         2 non-null      object\n",
      " 6   PROVINCIA            2 non-null      object\n",
      " 7   DISTRITO             2 non-null      object\n",
      " 8   UBIGEO               2 non-null      int64 \n",
      " 9   id_persona           2 non-null      int64 \n",
      "dtypes: int64(5), object(5)\n",
      "memory usage: 288.0+ bytes\n"
     ]
    }
   ],
   "source": [
    "df_fal.info()"
   ]
  }
 ],
 "metadata": {
  "interpreter": {
   "hash": "c5969b0444520e9aeee25788533910dfe0ee1a9ff4ff2cc0b07d55f5d197aaba"
  },
  "kernelspec": {
   "display_name": "Python 3 (Spyder)",
   "language": "python3",
   "name": "python3"
  },
  "language_info": {
   "codemirror_mode": {
    "name": "ipython",
    "version": 3
   },
   "file_extension": ".py",
   "mimetype": "text/x-python",
   "name": "python",
   "nbconvert_exporter": "python",
   "pygments_lexer": "ipython3",
   "version": "3.8.8"
  }
 },
 "nbformat": 4,
 "nbformat_minor": 4
}
