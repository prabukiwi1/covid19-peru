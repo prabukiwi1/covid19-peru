{
 "cells": [
  {
   "cell_type": "markdown",
   "metadata": {},
   "source": [
    "# Obteniendo el **número de dosis aplicada** contra COVID-19 por semana epidemiológica de todo el Perú\n",
    "\n",
    "## 0. Cargar librerías"
   ]
  },
  {
   "cell_type": "code",
   "execution_count": 45,
   "metadata": {},
   "outputs": [],
   "source": [
    "import pandas as pd\n",
    "import numpy as np\n",
    "\n",
    "import functions as fn"
   ]
  },
  {
   "cell_type": "code",
   "execution_count": 51,
   "metadata": {},
   "outputs": [],
   "source": [
    "def vac_dose(vac_url):\n",
    "    \"\"\"\n",
    "    Función que toma la dirección del dataset de vacunados y devuelve el TOTAL DE DOSIS APLICADAS \n",
    "    (1ra,2nda y 3era dosis) por semana epidemiológica\n",
    "    \"\"\"\n",
    "    vac_cols = ['fecha_vacunacion', 'dosis']                     \n",
    "    df_vac = fn.read_largeCSV_file(vac_url, ',', vac_cols)    \n",
    "    lst_vac = fn.df_into_chunks(df_vac)               \n",
    " \n",
    "    for idx, chunk in enumerate(lst_vac):\n",
    "        chunk = fn.variable_fecha_ymd(chunk, 'fecha_vacunacion')\n",
    "\n",
    "    for idx, chunk in enumerate(lst_vac):\n",
    "        chunk = fn.date_to_epiweek(chunk, \"fecha_vacunacion\")\n",
    "        \n",
    "    return lst_vac \n",
    "    "
   ]
  },
  {
   "cell_type": "markdown",
   "metadata": {},
   "source": [
    "## 1. Cargar el dataset de **personas vacunadas (1era y 2nda dosis)** por semana epidemiológica"
   ]
  },
  {
   "cell_type": "code",
   "execution_count": 52,
   "metadata": {},
   "outputs": [
    {
     "name": "stderr",
     "output_type": "stream",
     "text": [
      "/home/xxotto/Documents/GitHub/covid19-peru/functions.py:55: SettingWithCopyWarning: \n",
      "A value is trying to be set on a copy of a slice from a DataFrame.\n",
      "Try using .loc[row_indexer,col_indexer] = value instead\n",
      "\n",
      "See the caveats in the documentation: https://pandas.pydata.org/pandas-docs/stable/user_guide/indexing.html#returning-a-view-versus-a-copy\n",
      "  df.loc[:,date_name] = pd.to_datetime(df.loc[:,date_name], format = '%d/%m/%Y')\n"
     ]
    },
    {
     "ename": "TypeError",
     "evalue": "'NoneType' object is not subscriptable",
     "output_type": "error",
     "traceback": [
      "\u001b[0;31m---------------------------------------------------------------------------\u001b[0m",
      "\u001b[0;31mTypeError\u001b[0m                                 Traceback (most recent call last)",
      "\u001b[0;32m/tmp/ipykernel_12024/3720029520.py\u001b[0m in \u001b[0;36m<module>\u001b[0;34m\u001b[0m\n\u001b[1;32m      1\u001b[0m \u001b[0mvac_url\u001b[0m \u001b[0;34m=\u001b[0m \u001b[0;34m\"RawData/TB_VACUNACION_COVID19.csv\"\u001b[0m\u001b[0;34m\u001b[0m\u001b[0;34m\u001b[0m\u001b[0m\n\u001b[0;32m----> 2\u001b[0;31m \u001b[0mvacDose\u001b[0m \u001b[0;34m=\u001b[0m \u001b[0mvac_dose\u001b[0m\u001b[0;34m(\u001b[0m\u001b[0mvac_url\u001b[0m\u001b[0;34m)\u001b[0m\u001b[0;34m\u001b[0m\u001b[0;34m\u001b[0m\u001b[0m\n\u001b[0m\u001b[1;32m      3\u001b[0m \u001b[0;32mdel\u001b[0m \u001b[0mvac_url\u001b[0m\u001b[0;34m\u001b[0m\u001b[0;34m\u001b[0m\u001b[0m\n",
      "\u001b[0;32m/tmp/ipykernel_12024/1242834940.py\u001b[0m in \u001b[0;36mvac_dose\u001b[0;34m(vac_url)\u001b[0m\n\u001b[1;32m     12\u001b[0m \u001b[0;34m\u001b[0m\u001b[0m\n\u001b[1;32m     13\u001b[0m     \u001b[0;32mfor\u001b[0m \u001b[0midx\u001b[0m\u001b[0;34m,\u001b[0m \u001b[0mchunk\u001b[0m \u001b[0;32min\u001b[0m \u001b[0menumerate\u001b[0m\u001b[0;34m(\u001b[0m\u001b[0mlst_vac\u001b[0m\u001b[0;34m)\u001b[0m\u001b[0;34m:\u001b[0m\u001b[0;34m\u001b[0m\u001b[0;34m\u001b[0m\u001b[0m\n\u001b[0;32m---> 14\u001b[0;31m         \u001b[0mchunk\u001b[0m \u001b[0;34m=\u001b[0m \u001b[0mfn\u001b[0m\u001b[0;34m.\u001b[0m\u001b[0mdate_to_epiweek\u001b[0m\u001b[0;34m(\u001b[0m\u001b[0mchunk\u001b[0m\u001b[0;34m,\u001b[0m \u001b[0;34m\"fecha_vacunacion\"\u001b[0m\u001b[0;34m)\u001b[0m\u001b[0;34m\u001b[0m\u001b[0;34m\u001b[0m\u001b[0m\n\u001b[0m\u001b[1;32m     15\u001b[0m \u001b[0;34m\u001b[0m\u001b[0m\n\u001b[1;32m     16\u001b[0m     \u001b[0;32mreturn\u001b[0m \u001b[0mlst_vac\u001b[0m\u001b[0;34m\u001b[0m\u001b[0;34m\u001b[0m\u001b[0m\n",
      "\u001b[0;32m~/Documents/GitHub/covid19-peru/functions.py\u001b[0m in \u001b[0;36mdate_to_epiweek\u001b[0;34m(df, date_name)\u001b[0m\n\u001b[1;32m    113\u001b[0m     \u001b[0mY\u001b[0m \u001b[0mguardamos\u001b[0m \u001b[0men\u001b[0m \u001b[0mun\u001b[0m \u001b[0mnuevo\u001b[0m \u001b[0mcsv\u001b[0m\u001b[0;34m\u001b[0m\u001b[0;34m\u001b[0m\u001b[0m\n\u001b[1;32m    114\u001b[0m     '''\n\u001b[0;32m--> 115\u001b[0;31m     \u001b[0mdf\u001b[0m\u001b[0;34m[\u001b[0m\u001b[0;34m[\u001b[0m\u001b[0;34m'epi_year'\u001b[0m\u001b[0;34m,\u001b[0m\u001b[0;34m'epi_week'\u001b[0m\u001b[0;34m]\u001b[0m\u001b[0;34m]\u001b[0m \u001b[0;34m=\u001b[0m \u001b[0mdf\u001b[0m\u001b[0;34m[\u001b[0m\u001b[0mdate_name\u001b[0m\u001b[0;34m]\u001b[0m\u001b[0;34m.\u001b[0m\u001b[0mapply\u001b[0m\u001b[0;34m(\u001b[0m\u001b[0;32mlambda\u001b[0m \u001b[0mdate_name\u001b[0m \u001b[0;34m:\u001b[0m \u001b[0mWeek\u001b[0m\u001b[0;34m.\u001b[0m\u001b[0mfromdate\u001b[0m\u001b[0;34m(\u001b[0m\u001b[0mdate_name\u001b[0m\u001b[0;34m)\u001b[0m\u001b[0;34m.\u001b[0m\u001b[0mweektuple\u001b[0m\u001b[0;34m(\u001b[0m\u001b[0;34m)\u001b[0m\u001b[0;34m)\u001b[0m\u001b[0;34m.\u001b[0m\u001b[0mtolist\u001b[0m\u001b[0;34m(\u001b[0m\u001b[0;34m)\u001b[0m\u001b[0;34m\u001b[0m\u001b[0;34m\u001b[0m\u001b[0m\n\u001b[0m\u001b[1;32m    116\u001b[0m \u001b[0;34m\u001b[0m\u001b[0m\n\u001b[1;32m    117\u001b[0m     \u001b[0mdf\u001b[0m\u001b[0;34m[\u001b[0m\u001b[0;34m'epi_year'\u001b[0m\u001b[0;34m]\u001b[0m \u001b[0;34m=\u001b[0m \u001b[0mdf\u001b[0m\u001b[0;34m[\u001b[0m\u001b[0;34m'epi_year'\u001b[0m\u001b[0;34m]\u001b[0m\u001b[0;34m.\u001b[0m\u001b[0mapply\u001b[0m\u001b[0;34m(\u001b[0m\u001b[0mnp\u001b[0m\u001b[0;34m.\u001b[0m\u001b[0mint16\u001b[0m\u001b[0;34m)\u001b[0m\u001b[0;34m\u001b[0m\u001b[0;34m\u001b[0m\u001b[0m\n",
      "\u001b[0;31mTypeError\u001b[0m: 'NoneType' object is not subscriptable"
     ]
    }
   ],
   "source": [
    "vac_url = \"RawData/TB_VACUNACION_COVID19.csv\"\n",
    "vacDose = vac_dose(vac_url)\n",
    "del vac_url"
   ]
  },
  {
   "cell_type": "markdown",
   "metadata": {},
   "source": [
    "## 0. Usamos la data incial de vacunados por departamento (vacDose)"
   ]
  },
  {
   "cell_type": "code",
   "execution_count": 50,
   "metadata": {},
   "outputs": [
    {
     "name": "stdout",
     "output_type": "stream",
     "text": [
      "   dosis  epi_year  epi_week\n",
      "0      2      2021        29\n",
      "1      2      2021        24\n",
      "2      2      2021        23\n",
      "3      2      2021        30\n",
      "4      1      2021        18\n"
     ]
    }
   ],
   "source": [
    "print(vacDose[0].head())"
   ]
  },
  {
   "cell_type": "code",
   "execution_count": null,
   "metadata": {},
   "outputs": [],
   "source": [
    "def vacDose_chunks(dfs_vac):\n",
    "    \"\"\"\n",
    "    Devuelve un dataframe con el TOTAL DE VACUNADOS por DEPARTAMENTO \n",
    "    del PERÚ (recibe una lista de dataframes o chunks)\n",
    "    \"\"\"\n",
    "    var_holder = {}     # Diccionario para guardar nombres                                             \n",
    "    lst_epi_vac = []    # Lista de dfs para cada sumatoria de chunks\n",
    "                                         \n",
    "    for i, chunk in enumerate(dfs_vac):\n",
    "        var_holder['epi_vac_' + str(i)]= pd.crosstab(index = [chunk['epi_year'], chunk['epi_week']],\n",
    "                                                     columns = [chunk['dosis']])\n",
    "        lst_epi_vac.append(var_holder['epi_vac_' + str(i)])\n",
    "\n",
    "    merged_epivac = pd.concat(lst_epi_vac, axis=1)  # Merge all dfs\n",
    "    merged_epivac = merged_epivac.fillna(0).astype(np.int64)\n",
    "    merged_epivac = merged_epivac.groupby(level=0, axis=1).sum()\n",
    "\n",
    "    return merged_epivac"
   ]
  },
  {
   "cell_type": "code",
   "execution_count": null,
   "metadata": {},
   "outputs": [],
   "source": [
    "vacDosexsemEpi = vacDose_chunks(vacDose)\n",
    "print(vacDosexsemEpi.head(50))"
   ]
  },
  {
   "cell_type": "markdown",
   "metadata": {},
   "source": [
    "Guardar el dataframe:"
   ]
  },
  {
   "cell_type": "code",
   "execution_count": null,
   "metadata": {},
   "outputs": [],
   "source": [
    "vacDosexsemEpi.to_csv('Data/dosis_vacuna_x_semanaEpi.csv')"
   ]
  },
  {
   "cell_type": "markdown",
   "metadata": {},
   "source": []
  }
 ],
 "metadata": {
  "interpreter": {
   "hash": "bea6116dd68ddf91c3cc5a29b631ef213aeb122ee277ca2ecd46a4cdc426254a"
  },
  "kernelspec": {
   "display_name": "Python 3 (ipykernel)",
   "language": "python",
   "name": "python3"
  },
  "language_info": {
   "codemirror_mode": {
    "name": "ipython",
    "version": 3
   },
   "file_extension": ".py",
   "mimetype": "text/x-python",
   "name": "python",
   "nbconvert_exporter": "python",
   "pygments_lexer": "ipython3",
   "version": "3.8.8"
  }
 },
 "nbformat": 4,
 "nbformat_minor": 4
}
