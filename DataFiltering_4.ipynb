{
 "cells": [
  {
   "cell_type": "markdown",
   "metadata": {},
   "source": [
    "# Obteniendo el **número de dosis aplicada** contra COVID-19 por semana epidemiológica de todo el Perú\n",
    "\n",
    "## 0. Cargar librerías y funciones"
   ]
  },
  {
   "cell_type": "code",
   "execution_count": 1,
   "metadata": {},
   "outputs": [],
   "source": [
    "import pandas as pd\n",
    "import numpy as np\n",
    "\n",
    "import functions as fn"
   ]
  },
  {
   "cell_type": "code",
   "execution_count": 2,
   "metadata": {},
   "outputs": [],
   "source": [
    "def vac_dose(vac_url):\n",
    "    \"\"\"\n",
    "    Función que toma la dirección del dataset de vacunados y devuelve el TOTAL DE DOSIS APLICADAS \n",
    "    (1ra,2nda y 3era dosis) por semana epidemiológica\n",
    "    \"\"\"\n",
    "    vac_cols = ['fecha_vacunacion', 'dosis']                     \n",
    "    df_vac = fn.read_largeCSV_file(vac_url, ',', vac_cols)    \n",
    "    lst_vac = fn.df_into_chunks(df_vac)               \n",
    " \n",
    "    for idx, chunk in enumerate(lst_vac):\n",
    "        chunk = fn.variable_fecha_ymd(chunk, 'fecha_vacunacion')\n",
    "\n",
    "    for idx, chunk in enumerate(lst_vac):\n",
    "        chunk = fn.date_to_epiweek(chunk, \"fecha_vacunacion\")\n",
    "        \n",
    "    return lst_vac \n",
    "    "
   ]
  },
  {
   "cell_type": "markdown",
   "metadata": {},
   "source": [
    "## 1. Cargar el dataset de **personas vacunadas (1era y 2nda dosis)** por semana epidemiológica"
   ]
  },
  {
   "cell_type": "code",
   "execution_count": null,
   "metadata": {},
   "outputs": [],
   "source": [
    "vac_url = \"RawData/TB_VACUNACION_COVID19.csv\"\n",
    "vacDose = vac_dose(vac_url)\n",
    "del vac_url"
   ]
  },
  {
   "cell_type": "markdown",
   "metadata": {},
   "source": [
    "Dataset resultante:"
   ]
  },
  {
   "cell_type": "code",
   "execution_count": 5,
   "metadata": {},
   "outputs": [
    {
     "name": "stdout",
     "output_type": "stream",
     "text": [
      "   dosis  epi_year  epi_week\n",
      "0      2      2021        29\n",
      "1      2      2021        24\n",
      "2      2      2021        23\n",
      "3      2      2021        30\n",
      "4      1      2021        18\n"
     ]
    }
   ],
   "source": [
    "print(vacDose[0].head())"
   ]
  },
  {
   "cell_type": "markdown",
   "metadata": {},
   "source": [
    "## 2. Crosstab del número de dosis (1,2 y 3) respecto a la semana epidemiológica"
   ]
  },
  {
   "cell_type": "code",
   "execution_count": 6,
   "metadata": {},
   "outputs": [],
   "source": [
    "def vacDose_chunks(dfs_vac):\n",
    "    \"\"\"\n",
    "    Devuelve un dataframe con el TOTAL DE VACUNADOS por DEPARTAMENTO \n",
    "    del PERÚ (recibe una lista de dataframes o chunks)\n",
    "    \"\"\"\n",
    "    var_holder = {}     # Diccionario para guardar nombres                                             \n",
    "    lst_epi_vac = []    # Lista de dfs para cada sumatoria de chunks\n",
    "                                         \n",
    "    for i, chunk in enumerate(dfs_vac):\n",
    "        var_holder['epi_vac_' + str(i)]= pd.crosstab(index = [chunk['epi_year'], chunk['epi_week']],\n",
    "                                                     columns = [chunk['dosis']])\n",
    "        lst_epi_vac.append(var_holder['epi_vac_' + str(i)])\n",
    "\n",
    "    merged_epivac = pd.concat(lst_epi_vac, axis=1)  # Merge all dfs\n",
    "    merged_epivac = merged_epivac.fillna(0).astype(np.int64)\n",
    "    merged_epivac = merged_epivac.groupby(level=0, axis=1).sum()\n",
    "\n",
    "    return merged_epivac"
   ]
  },
  {
   "cell_type": "code",
   "execution_count": 7,
   "metadata": {},
   "outputs": [
    {
     "name": "stdout",
     "output_type": "stream",
     "text": [
      "dosis                    1        2       3\n",
      "epi_year epi_week                          \n",
      "2021     6          105755        1       0\n",
      "         7           92287        4       0\n",
      "         8          123882       19       0\n",
      "         9           35142    93044       0\n",
      "         10          74236    80891       0\n",
      "         11         133491   120498       0\n",
      "         12          80275    38699       0\n",
      "         13          25407    65417       0\n",
      "         14          69399   101913       0\n",
      "         15          56525   111395       0\n",
      "         16         117949    29749       0\n",
      "         17         278608    60094       0\n",
      "         18         283547    51057       0\n",
      "         19         394910   106779       0\n",
      "         20         452380   174047       0\n",
      "         21         563328   239365       0\n",
      "         22         316680   209601       0\n",
      "         23         515857   560825       0\n",
      "         24         253304   618950       0\n",
      "         25         344743   364838       0\n",
      "         26         544901   447494       0\n",
      "         27        1038354   258135       0\n",
      "         28         962900   322031       0\n",
      "         29         881222   484105       0\n",
      "         30         426998   830158       0\n",
      "         31         675063   931170       0\n",
      "         32         488621   687158       0\n",
      "         33         436029   595969       0\n",
      "         34         632454   583498       0\n",
      "         35         887851   554480       0\n",
      "         36        1935313   396321       0\n",
      "         37        1838463   538237       0\n",
      "         38         845435   726539       0\n",
      "         39         786898  1444448       0\n",
      "         40         582697  1560272       0\n",
      "         41         725984   891207   45176\n",
      "         42         574475   708451  124576\n",
      "         43         380255   467432   52464\n"
     ]
    }
   ],
   "source": [
    "vacDosexsemEpi = vacDose_chunks(vacDose)\n",
    "print(vacDosexsemEpi.head(50))"
   ]
  },
  {
   "cell_type": "markdown",
   "metadata": {},
   "source": [
    "Guardar el dataframe:"
   ]
  },
  {
   "cell_type": "code",
   "execution_count": 8,
   "metadata": {},
   "outputs": [],
   "source": [
    "vacDosexsemEpi.to_csv('Data/dosis_vacuna_x_semanaEpi.csv')"
   ]
  }
 ],
 "metadata": {
  "interpreter": {
   "hash": "bea6116dd68ddf91c3cc5a29b631ef213aeb122ee277ca2ecd46a4cdc426254a"
  },
  "kernelspec": {
   "display_name": "Python 3 (Spyder)",
   "language": "python3",
   "name": "python3"
  },
  "language_info": {
   "codemirror_mode": {
    "name": "ipython",
    "version": 3
   },
   "file_extension": ".py",
   "mimetype": "text/x-python",
   "name": "python",
   "nbconvert_exporter": "python",
   "pygments_lexer": "ipython3",
   "version": "3.9.7"
  }
 },
 "nbformat": 4,
 "nbformat_minor": 4
}
