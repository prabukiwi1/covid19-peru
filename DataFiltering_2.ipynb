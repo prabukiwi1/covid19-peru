{
 "cells": [
  {
   "cell_type": "markdown",
   "metadata": {},
   "source": [
    "# Obteniendo el **número de muertes**  confirmadas por COVID-19 por **semana epidemiológica** de cada uno de los **24 departamentos** del Perú\n",
    "\n",
    "## 0. Run libraries and functions\n",
    "Empezamos cargando las librerías que necesitamos y leyendo nuestro csv actualizado de fallecidos por COVID-19."
   ]
  },
  {
   "cell_type": "code",
   "execution_count": 20,
   "metadata": {},
   "outputs": [],
   "source": [
    "import pandas as pd\n",
    "import numpy as np\n",
    "\n",
    "import functions as fn"
   ]
  },
  {
   "cell_type": "code",
   "execution_count": 21,
   "metadata": {},
   "outputs": [],
   "source": [
    "def just_cities(fal_url):\n",
    "    \"\"\"\n",
    "    Función para filtrar a cada fallecido reportado en su año\n",
    "    y semana epidemiológica en ciudad (Fallecidos = fal, Vacunados = vac)\n",
    "    \"\"\"         \n",
    "    fal_col = ['FECHA_FALLECIMIENTO', 'DEPARTAMENTO']   # Get only date and department \n",
    "    df_fal = fn.read_largeCSV_file(fal_url, ';', fal_col)\n",
    "    fn.variable_fecha(df_fal, 'FECHA_FALLECIMIENTO')\n",
    "    fn.date_to_epiweek(df_fal,'FECHA_FALLECIMIENTO')\n",
    "    df_fal['fallecido'] = 1     # To count cases                                   \n",
    "    df_fal['fallecido'].apply(np.int8) \n",
    "    \n",
    "    return df_fal"
   ]
  },
  {
   "cell_type": "markdown",
   "metadata": {},
   "source": [
    "## 1. Add the year and epidemiological week per each death case"
   ]
  },
  {
   "cell_type": "code",
   "execution_count": 22,
   "metadata": {},
   "outputs": [],
   "source": [
    "fal_url = \"RawData/fallecidos_covid.csv\"\n",
    "falxdep = just_cities(fal_url)\n",
    "del fal_url"
   ]
  },
  {
   "cell_type": "markdown",
   "metadata": {},
   "source": [
    "Print the result of the falxdep (**d**eaths confirmed from COVID-19 by de**p**artment a**n**d by Epidemiological **w**eek)"
   ]
  },
  {
   "cell_type": "code",
   "execution_count": 23,
   "metadata": {},
   "outputs": [
    {
     "name": "stdout",
     "output_type": "stream",
     "text": [
      "Head of the 'falxdep' dataframe of each death confirmed case from COVID-19 in Peru:\n",
      "  DEPARTAMENTO  epi_year  epi_week  fallecido\n",
      "0         LIMA      2021        17          1\n",
      "1         LIMA      2021        17          1\n",
      "2     AYACUCHO      2021        17          1\n",
      "3         LIMA      2021        16          1\n",
      "4     AREQUIPA      2021        31          1\n",
      "\n",
      "\n",
      "TOTAL of confirmed death cases from COVID-19 in Peru: 200246\n"
     ]
    }
   ],
   "source": [
    "print(\"Head of the 'falxdep' dataframe of each death confirmed case from COVID-19 in Peru:\")\n",
    "print(falxdep.head()), print(\"\\n\")\n",
    "\n",
    "print('TOTAL of confirmed death cases from COVID-19 in Peru: ' + str(falxdep['fallecido'].sum())) "
   ]
  },
  {
   "cell_type": "markdown",
   "metadata": {},
   "source": [
    "Crosstab of the total deaths from COVID-19 by department of Peru, for each epidemiological week and year"
   ]
  },
  {
   "cell_type": "code",
   "execution_count": 25,
   "metadata": {},
   "outputs": [],
   "source": [
    "ct_falxdep = pd.crosstab(index=[falxdep['epi_year'], falxdep['epi_week']],\n",
    "                       columns=[falxdep['fallecido'], falxdep['DEPARTAMENTO']],\n",
    "                       margins = True)\n",
    "\n",
    "ct_falxdep.to_csv('Data/fallecidos_x_departamentos_semanasEpi.csv')"
   ]
  },
  {
   "cell_type": "markdown",
   "metadata": {},
   "source": [
    "Fix the indexs and print the **c**ross**t**ab result of the **falxdep**"
   ]
  },
  {
   "cell_type": "code",
   "execution_count": 18,
   "metadata": {},
   "outputs": [
    {
     "name": "stdout",
     "output_type": "stream",
     "text": [
      "Head of the crosstab of each death confirmed case from COVID-19 by year and epidemiological week:\n",
      "  epi_year epi_week AMAZONAS ANCASH APURIMAC AREQUIPA AYACUCHO CAJAMARCA  \\\n",
      "0     2020       10        0      0        0        0        0         0   \n",
      "1     2020       11        0      0        0        0        0         0   \n",
      "2     2020       12        0      0        0        0        1         0   \n",
      "3     2020       13        0      3        0        0        0         0   \n",
      "4     2020       14        0      0        0       15        0         2   \n",
      "5     2020       15        1      9        1        7        1         4   \n",
      "6     2020       16        0     24        0        7        2         4   \n",
      "7     2020       17        0     47        3       13        3         4   \n",
      "8     2020       18        2     67        0       14        1         5   \n",
      "9     2020       19        7    102        1       18        7         4   \n",
      "\n",
      "  CALLAO CUSCO  ... MADRE DE DIOS MOQUEGUA PASCO PIURA PUNO SAN MARTIN TACNA  \\\n",
      "0      0     0  ...             0        0     0     0    0          1     0   \n",
      "1      0     0  ...             0        0     0     1    0          0     0   \n",
      "2      0     1  ...             0        0     0     1    0          0     0   \n",
      "3      2     5  ...             1        0     0     2    1          0     0   \n",
      "4     15     1  ...             0        0     0     9    0          2     1   \n",
      "5     42     1  ...             0        0     1    25    1          1     0   \n",
      "6     75     0  ...             0        0     1    64    1          1     0   \n",
      "7    142     2  ...             1        1     1   127    2          4     1   \n",
      "8    151     1  ...             0        1     5   222    3          2     1   \n",
      "9    217     2  ...             2        1     3   352    5          8     2   \n",
      "\n",
      "  TUMBES UCAYALI     NaN  \n",
      "0      0       0     2.0  \n",
      "1      0       0     3.0  \n",
      "2      0       2    30.0  \n",
      "3      0       3    62.0  \n",
      "4      3      11   223.0  \n",
      "5      7       9   530.0  \n",
      "6      7      18   941.0  \n",
      "7     16      77  1708.0  \n",
      "8      6     170  2517.0  \n",
      "9     19     162  3246.0  \n",
      "\n",
      "[10 rows x 28 columns]\n"
     ]
    }
   ],
   "source": [
    "ct_falxdep = pd.read_csv('Data/fallecidos_x_departamentos_semanasEpi.csv')\n",
    "\n",
    "def filtering_data_dep(falxdep_df):\n",
    "    \"\"\"Function to fix the indexes of the data of deceased by department of Peru.\n",
    "    IMPORTANT: There are more efficient ways to modify indexes using 'loc' and \n",
    "    'iloc' but this method at least 'works'\"\"\"\n",
    "\n",
    "    time = falxdep_df[[\"fallecido\", \"Unnamed: 1\"]]   # Get the col of epidemiological weeks\n",
    "    time = time.rename(columns=time.iloc[1])     # Put the first row (epi_week) as header\n",
    "    time = time.drop([0,1, len(time)-1],axis=0)  # Drop the first and last row (header, nan and total)\n",
    "    time = time.reset_index(drop=True)           # Reset index\n",
    "\n",
    "    departments = falxdep_df.drop([\"Unnamed: 1\", 'fallecido'], axis=1)    # Drop cols that are not departments\n",
    "    departments = departments.rename(columns=departments.iloc[0])     # Put the first row (epi_week) as header\n",
    "    departments = departments.drop([0,1, len(departments)-1],axis=0)  # Drop the first and last row (header, nan and total)\n",
    "    departments = departments.reset_index(drop=True)                  # Reset index\n",
    "\n",
    "    falxdep_df = pd.concat([time, departments], axis=1)\n",
    "    return falxdep_df\n",
    "\n",
    "ct_falxdep_fix = filtering_data_dep(ct_falxdep)\n",
    "\n",
    "print(\"Head of the crosstab of each death confirmed case from COVID-19 by year and epidemiological week:\")\n",
    "print(ct_falxdep_fix.head(10))\n",
    "\n",
    "del ct_falxdep\n",
    "ct_falxdep_fix.to_csv('Data/fallecidos_x_departamentos_semanasEpi.csv', index = False)"
   ]
  },
  {
   "cell_type": "markdown",
   "metadata": {},
   "source": [
    "# Obteniendo el número **total de personas completamente vacunadas (2 dosis)** y el número **total de muertes** confirmadas por COVID-19 por cada uno de los **24 departamentos** del Perú \n",
    "\n",
    "## 0. Crosstab of the TOTAL confirmed deaths from COVID-19 by department.\n",
    "Use 'falxdep' dataframe"
   ]
  },
  {
   "cell_type": "code",
   "execution_count": 26,
   "metadata": {},
   "outputs": [],
   "source": [
    "dep_deaths = pd.crosstab(index = falxdep['DEPARTAMENTO'], columns = falxdep['fallecido'])\n",
    "dep_deaths.columns = ['fallecidos']\n",
    "\n",
    "# Adding an extra row of the total deaths for the whole country\n",
    "dep_deaths.loc['PERU']= dep_deaths.sum()"
   ]
  },
  {
   "cell_type": "markdown",
   "metadata": {},
   "source": [
    "## 1. Get the TOTAL confirmed DEATHS from COVID-19 by each of the 24 departments of Peru"
   ]
  },
  {
   "cell_type": "code",
   "execution_count": 27,
   "metadata": {},
   "outputs": [
    {
     "name": "stdout",
     "output_type": "stream",
     "text": [
      "Head of a SUMMARY dataframe of all fully vaccinated people in Peru (2 doses) per place of vaccination:\n",
      "               fallecidos\n",
      "DEPARTAMENTO             \n",
      "AMAZONAS             1258\n",
      "ANCASH               6674\n",
      "APURIMAC             1510\n",
      "AREQUIPA             9680\n",
      "AYACUCHO             2121\n",
      "CAJAMARCA            4135\n",
      "CALLAO               9982\n",
      "CUSCO                4794\n",
      "HUANCAVELICA         1161\n",
      "HUANUCO              2700\n",
      "ICA                  8367\n",
      "JUNIN                7020\n",
      "LA LIBERTAD         10196\n",
      "LAMBAYEQUE           8610\n",
      "LIMA                88734\n",
      "LORETO               4174\n",
      "MADRE DE DIOS         773\n",
      "MOQUEGUA             1516\n",
      "PASCO                1048\n",
      "PIURA               11996\n",
      "PUNO                 4174\n",
      "SAN MARTIN           3012\n",
      "TACNA                1954\n",
      "TUMBES               1566\n",
      "UCAYALI              3091\n",
      "PERU               200246\n"
     ]
    }
   ],
   "source": [
    "print(\"Head of a SUMMARY dataframe of all fully vaccinated people in Peru (2 doses) per place of vaccination:\")\n",
    "print(dep_deaths)"
   ]
  },
  {
   "cell_type": "markdown",
   "metadata": {},
   "source": [
    "## 2. Get the total of people FULLY VACCINATED (2 doses) by the 24 departments of Peru\n",
    "\n",
    "There are no direct way to found the total of people fully vaccinated per departments. To achieve this the following is planned:\n",
    "\n",
    "1. The vaccination dataset **(RawData/TB_VACUNACION_COVID19.csv)** only gives information about the vaccination center called *id_centro_vacunacion*. NOT the department or another relevant location.\n",
    "\n",
    "2. The vaccination centers dataset **(RawData/TB_CENTRO_VACUNACION.csv)** can be used to \"match\" the *id_centro_vacunacion* with the *id_ubigeo*. Which is a numeric variable from 0 to 1894 of the specifict district.\n",
    "\n",
    "3.  Finally with the UBIGEO dataset **(RawData/TB_UBIGEOS.csv)** it is possible to \"match\" each *id_ubigeo* with the correct department.\n"
   ]
  },
  {
   "cell_type": "code",
   "execution_count": 28,
   "metadata": {},
   "outputs": [],
   "source": [
    "def vac_department(vac_url):\n",
    "    \"\"\"\n",
    "    Función que toma la dirección del dataset de vacunados y devuelve el número de VACUNADOS \n",
    "    por los 24 departamentos del Perú\n",
    "    \"\"\"\n",
    "    vac_col = ['id_centro_vacunacion', 'dosis','fecha_vacunacion']                     \n",
    "    df_vac = fn.read_largeCSV_file(vac_url, ',', vac_col)    \n",
    "    lst_vac = fn.df_into_chunks(df_vac)               \n",
    "    \n",
    "    for df in lst_vac:                                           \n",
    "        df = df.drop(df[df[\"dosis\"] == 1].index,  inplace=True)     # Drop non fully vaccinated (1 dose)\n",
    "\n",
    "    for df in lst_vac:\n",
    "        df['vacunado'] = 1  # To count each case\n",
    "        df['vacunado'] = df['vacunado'].apply(np.int8)\n",
    "        del df['dosis']     # Dose var is no needed anymore\n",
    "\n",
    "    return lst_vac"
   ]
  },
  {
   "cell_type": "code",
   "execution_count": 29,
   "metadata": {},
   "outputs": [
    {
     "name": "stderr",
     "output_type": "stream",
     "text": [
      "/home/xxotto/anaconda3/lib/python3.8/site-packages/pandas/core/frame.py:4308: SettingWithCopyWarning: \n",
      "A value is trying to be set on a copy of a slice from a DataFrame\n",
      "\n",
      "See the caveats in the documentation: https://pandas.pydata.org/pandas-docs/stable/user_guide/indexing.html#returning-a-view-versus-a-copy\n",
      "  return super().drop(\n",
      "/home/xxotto/anaconda3/lib/python3.8/site-packages/pandas/core/frame.py:4308: SettingWithCopyWarning: \n",
      "A value is trying to be set on a copy of a slice from a DataFrame\n",
      "\n",
      "See the caveats in the documentation: https://pandas.pydata.org/pandas-docs/stable/user_guide/indexing.html#returning-a-view-versus-a-copy\n",
      "  return super().drop(\n",
      "/home/xxotto/anaconda3/lib/python3.8/site-packages/pandas/core/frame.py:4308: SettingWithCopyWarning: \n",
      "A value is trying to be set on a copy of a slice from a DataFrame\n",
      "\n",
      "See the caveats in the documentation: https://pandas.pydata.org/pandas-docs/stable/user_guide/indexing.html#returning-a-view-versus-a-copy\n",
      "  return super().drop(\n",
      "/home/xxotto/anaconda3/lib/python3.8/site-packages/pandas/core/frame.py:4308: SettingWithCopyWarning: \n",
      "A value is trying to be set on a copy of a slice from a DataFrame\n",
      "\n",
      "See the caveats in the documentation: https://pandas.pydata.org/pandas-docs/stable/user_guide/indexing.html#returning-a-view-versus-a-copy\n",
      "  return super().drop(\n",
      "/home/xxotto/anaconda3/lib/python3.8/site-packages/pandas/core/frame.py:4308: SettingWithCopyWarning: \n",
      "A value is trying to be set on a copy of a slice from a DataFrame\n",
      "\n",
      "See the caveats in the documentation: https://pandas.pydata.org/pandas-docs/stable/user_guide/indexing.html#returning-a-view-versus-a-copy\n",
      "  return super().drop(\n",
      "/home/xxotto/anaconda3/lib/python3.8/site-packages/pandas/core/frame.py:4308: SettingWithCopyWarning: \n",
      "A value is trying to be set on a copy of a slice from a DataFrame\n",
      "\n",
      "See the caveats in the documentation: https://pandas.pydata.org/pandas-docs/stable/user_guide/indexing.html#returning-a-view-versus-a-copy\n",
      "  return super().drop(\n",
      "/home/xxotto/anaconda3/lib/python3.8/site-packages/pandas/core/frame.py:4308: SettingWithCopyWarning: \n",
      "A value is trying to be set on a copy of a slice from a DataFrame\n",
      "\n",
      "See the caveats in the documentation: https://pandas.pydata.org/pandas-docs/stable/user_guide/indexing.html#returning-a-view-versus-a-copy\n",
      "  return super().drop(\n",
      "/home/xxotto/anaconda3/lib/python3.8/site-packages/pandas/core/frame.py:4308: SettingWithCopyWarning: \n",
      "A value is trying to be set on a copy of a slice from a DataFrame\n",
      "\n",
      "See the caveats in the documentation: https://pandas.pydata.org/pandas-docs/stable/user_guide/indexing.html#returning-a-view-versus-a-copy\n",
      "  return super().drop(\n",
      "/home/xxotto/anaconda3/lib/python3.8/site-packages/pandas/core/frame.py:4308: SettingWithCopyWarning: \n",
      "A value is trying to be set on a copy of a slice from a DataFrame\n",
      "\n",
      "See the caveats in the documentation: https://pandas.pydata.org/pandas-docs/stable/user_guide/indexing.html#returning-a-view-versus-a-copy\n",
      "  return super().drop(\n",
      "/home/xxotto/anaconda3/lib/python3.8/site-packages/pandas/core/frame.py:4308: SettingWithCopyWarning: \n",
      "A value is trying to be set on a copy of a slice from a DataFrame\n",
      "\n",
      "See the caveats in the documentation: https://pandas.pydata.org/pandas-docs/stable/user_guide/indexing.html#returning-a-view-versus-a-copy\n",
      "  return super().drop(\n",
      "/home/xxotto/anaconda3/lib/python3.8/site-packages/pandas/core/frame.py:4308: SettingWithCopyWarning: \n",
      "A value is trying to be set on a copy of a slice from a DataFrame\n",
      "\n",
      "See the caveats in the documentation: https://pandas.pydata.org/pandas-docs/stable/user_guide/indexing.html#returning-a-view-versus-a-copy\n",
      "  return super().drop(\n",
      "/home/xxotto/anaconda3/lib/python3.8/site-packages/pandas/core/frame.py:4308: SettingWithCopyWarning: \n",
      "A value is trying to be set on a copy of a slice from a DataFrame\n",
      "\n",
      "See the caveats in the documentation: https://pandas.pydata.org/pandas-docs/stable/user_guide/indexing.html#returning-a-view-versus-a-copy\n",
      "  return super().drop(\n",
      "/home/xxotto/anaconda3/lib/python3.8/site-packages/pandas/core/frame.py:4308: SettingWithCopyWarning: \n",
      "A value is trying to be set on a copy of a slice from a DataFrame\n",
      "\n",
      "See the caveats in the documentation: https://pandas.pydata.org/pandas-docs/stable/user_guide/indexing.html#returning-a-view-versus-a-copy\n",
      "  return super().drop(\n",
      "/home/xxotto/anaconda3/lib/python3.8/site-packages/pandas/core/frame.py:4308: SettingWithCopyWarning: \n",
      "A value is trying to be set on a copy of a slice from a DataFrame\n",
      "\n",
      "See the caveats in the documentation: https://pandas.pydata.org/pandas-docs/stable/user_guide/indexing.html#returning-a-view-versus-a-copy\n",
      "  return super().drop(\n",
      "/home/xxotto/anaconda3/lib/python3.8/site-packages/pandas/core/frame.py:4308: SettingWithCopyWarning: \n",
      "A value is trying to be set on a copy of a slice from a DataFrame\n",
      "\n",
      "See the caveats in the documentation: https://pandas.pydata.org/pandas-docs/stable/user_guide/indexing.html#returning-a-view-versus-a-copy\n",
      "  return super().drop(\n",
      "/home/xxotto/anaconda3/lib/python3.8/site-packages/pandas/core/frame.py:4308: SettingWithCopyWarning: \n",
      "A value is trying to be set on a copy of a slice from a DataFrame\n",
      "\n",
      "See the caveats in the documentation: https://pandas.pydata.org/pandas-docs/stable/user_guide/indexing.html#returning-a-view-versus-a-copy\n",
      "  return super().drop(\n",
      "/home/xxotto/anaconda3/lib/python3.8/site-packages/pandas/core/frame.py:4308: SettingWithCopyWarning: \n",
      "A value is trying to be set on a copy of a slice from a DataFrame\n",
      "\n",
      "See the caveats in the documentation: https://pandas.pydata.org/pandas-docs/stable/user_guide/indexing.html#returning-a-view-versus-a-copy\n",
      "  return super().drop(\n",
      "/home/xxotto/anaconda3/lib/python3.8/site-packages/pandas/core/frame.py:4308: SettingWithCopyWarning: \n",
      "A value is trying to be set on a copy of a slice from a DataFrame\n",
      "\n",
      "See the caveats in the documentation: https://pandas.pydata.org/pandas-docs/stable/user_guide/indexing.html#returning-a-view-versus-a-copy\n",
      "  return super().drop(\n",
      "/home/xxotto/anaconda3/lib/python3.8/site-packages/pandas/core/frame.py:4308: SettingWithCopyWarning: \n",
      "A value is trying to be set on a copy of a slice from a DataFrame\n",
      "\n",
      "See the caveats in the documentation: https://pandas.pydata.org/pandas-docs/stable/user_guide/indexing.html#returning-a-view-versus-a-copy\n",
      "  return super().drop(\n",
      "/home/xxotto/anaconda3/lib/python3.8/site-packages/pandas/core/frame.py:4308: SettingWithCopyWarning: \n",
      "A value is trying to be set on a copy of a slice from a DataFrame\n",
      "\n",
      "See the caveats in the documentation: https://pandas.pydata.org/pandas-docs/stable/user_guide/indexing.html#returning-a-view-versus-a-copy\n",
      "  return super().drop(\n",
      "/home/xxotto/anaconda3/lib/python3.8/site-packages/pandas/core/frame.py:4308: SettingWithCopyWarning: \n",
      "A value is trying to be set on a copy of a slice from a DataFrame\n",
      "\n",
      "See the caveats in the documentation: https://pandas.pydata.org/pandas-docs/stable/user_guide/indexing.html#returning-a-view-versus-a-copy\n",
      "  return super().drop(\n",
      "/home/xxotto/anaconda3/lib/python3.8/site-packages/pandas/core/frame.py:4308: SettingWithCopyWarning: \n",
      "A value is trying to be set on a copy of a slice from a DataFrame\n",
      "\n",
      "See the caveats in the documentation: https://pandas.pydata.org/pandas-docs/stable/user_guide/indexing.html#returning-a-view-versus-a-copy\n",
      "  return super().drop(\n",
      "/home/xxotto/anaconda3/lib/python3.8/site-packages/pandas/core/frame.py:4308: SettingWithCopyWarning: \n",
      "A value is trying to be set on a copy of a slice from a DataFrame\n",
      "\n",
      "See the caveats in the documentation: https://pandas.pydata.org/pandas-docs/stable/user_guide/indexing.html#returning-a-view-versus-a-copy\n",
      "  return super().drop(\n",
      "/home/xxotto/anaconda3/lib/python3.8/site-packages/pandas/core/frame.py:4308: SettingWithCopyWarning: \n",
      "A value is trying to be set on a copy of a slice from a DataFrame\n",
      "\n",
      "See the caveats in the documentation: https://pandas.pydata.org/pandas-docs/stable/user_guide/indexing.html#returning-a-view-versus-a-copy\n",
      "  return super().drop(\n",
      "/home/xxotto/anaconda3/lib/python3.8/site-packages/pandas/core/frame.py:4308: SettingWithCopyWarning: \n",
      "A value is trying to be set on a copy of a slice from a DataFrame\n",
      "\n",
      "See the caveats in the documentation: https://pandas.pydata.org/pandas-docs/stable/user_guide/indexing.html#returning-a-view-versus-a-copy\n",
      "  return super().drop(\n",
      "/home/xxotto/anaconda3/lib/python3.8/site-packages/pandas/core/frame.py:4308: SettingWithCopyWarning: \n",
      "A value is trying to be set on a copy of a slice from a DataFrame\n",
      "\n",
      "See the caveats in the documentation: https://pandas.pydata.org/pandas-docs/stable/user_guide/indexing.html#returning-a-view-versus-a-copy\n",
      "  return super().drop(\n",
      "/home/xxotto/anaconda3/lib/python3.8/site-packages/pandas/core/frame.py:4308: SettingWithCopyWarning: \n",
      "A value is trying to be set on a copy of a slice from a DataFrame\n",
      "\n",
      "See the caveats in the documentation: https://pandas.pydata.org/pandas-docs/stable/user_guide/indexing.html#returning-a-view-versus-a-copy\n",
      "  return super().drop(\n",
      "/home/xxotto/anaconda3/lib/python3.8/site-packages/pandas/core/frame.py:4308: SettingWithCopyWarning: \n",
      "A value is trying to be set on a copy of a slice from a DataFrame\n",
      "\n",
      "See the caveats in the documentation: https://pandas.pydata.org/pandas-docs/stable/user_guide/indexing.html#returning-a-view-versus-a-copy\n",
      "  return super().drop(\n",
      "/home/xxotto/anaconda3/lib/python3.8/site-packages/pandas/core/frame.py:4308: SettingWithCopyWarning: \n",
      "A value is trying to be set on a copy of a slice from a DataFrame\n",
      "\n",
      "See the caveats in the documentation: https://pandas.pydata.org/pandas-docs/stable/user_guide/indexing.html#returning-a-view-versus-a-copy\n",
      "  return super().drop(\n",
      "/home/xxotto/anaconda3/lib/python3.8/site-packages/pandas/core/frame.py:4308: SettingWithCopyWarning: \n",
      "A value is trying to be set on a copy of a slice from a DataFrame\n",
      "\n",
      "See the caveats in the documentation: https://pandas.pydata.org/pandas-docs/stable/user_guide/indexing.html#returning-a-view-versus-a-copy\n",
      "  return super().drop(\n",
      "/home/xxotto/anaconda3/lib/python3.8/site-packages/pandas/core/frame.py:4308: SettingWithCopyWarning: \n",
      "A value is trying to be set on a copy of a slice from a DataFrame\n",
      "\n",
      "See the caveats in the documentation: https://pandas.pydata.org/pandas-docs/stable/user_guide/indexing.html#returning-a-view-versus-a-copy\n",
      "  return super().drop(\n",
      "/home/xxotto/anaconda3/lib/python3.8/site-packages/pandas/core/frame.py:4308: SettingWithCopyWarning: \n",
      "A value is trying to be set on a copy of a slice from a DataFrame\n",
      "\n",
      "See the caveats in the documentation: https://pandas.pydata.org/pandas-docs/stable/user_guide/indexing.html#returning-a-view-versus-a-copy\n",
      "  return super().drop(\n",
      "/home/xxotto/anaconda3/lib/python3.8/site-packages/pandas/core/frame.py:4308: SettingWithCopyWarning: \n",
      "A value is trying to be set on a copy of a slice from a DataFrame\n",
      "\n",
      "See the caveats in the documentation: https://pandas.pydata.org/pandas-docs/stable/user_guide/indexing.html#returning-a-view-versus-a-copy\n",
      "  return super().drop(\n",
      "/home/xxotto/anaconda3/lib/python3.8/site-packages/pandas/core/frame.py:4308: SettingWithCopyWarning: \n",
      "A value is trying to be set on a copy of a slice from a DataFrame\n",
      "\n",
      "See the caveats in the documentation: https://pandas.pydata.org/pandas-docs/stable/user_guide/indexing.html#returning-a-view-versus-a-copy\n",
      "  return super().drop(\n",
      "/home/xxotto/anaconda3/lib/python3.8/site-packages/pandas/core/frame.py:4308: SettingWithCopyWarning: \n",
      "A value is trying to be set on a copy of a slice from a DataFrame\n",
      "\n",
      "See the caveats in the documentation: https://pandas.pydata.org/pandas-docs/stable/user_guide/indexing.html#returning-a-view-versus-a-copy\n",
      "  return super().drop(\n",
      "/home/xxotto/anaconda3/lib/python3.8/site-packages/pandas/core/frame.py:4308: SettingWithCopyWarning: \n",
      "A value is trying to be set on a copy of a slice from a DataFrame\n",
      "\n",
      "See the caveats in the documentation: https://pandas.pydata.org/pandas-docs/stable/user_guide/indexing.html#returning-a-view-versus-a-copy\n",
      "  return super().drop(\n",
      "/home/xxotto/anaconda3/lib/python3.8/site-packages/pandas/core/frame.py:4308: SettingWithCopyWarning: \n",
      "A value is trying to be set on a copy of a slice from a DataFrame\n",
      "\n",
      "See the caveats in the documentation: https://pandas.pydata.org/pandas-docs/stable/user_guide/indexing.html#returning-a-view-versus-a-copy\n",
      "  return super().drop(\n",
      "/home/xxotto/anaconda3/lib/python3.8/site-packages/pandas/core/frame.py:4308: SettingWithCopyWarning: \n",
      "A value is trying to be set on a copy of a slice from a DataFrame\n",
      "\n",
      "See the caveats in the documentation: https://pandas.pydata.org/pandas-docs/stable/user_guide/indexing.html#returning-a-view-versus-a-copy\n",
      "  return super().drop(\n",
      "/home/xxotto/anaconda3/lib/python3.8/site-packages/pandas/core/frame.py:4308: SettingWithCopyWarning: \n",
      "A value is trying to be set on a copy of a slice from a DataFrame\n",
      "\n",
      "See the caveats in the documentation: https://pandas.pydata.org/pandas-docs/stable/user_guide/indexing.html#returning-a-view-versus-a-copy\n",
      "  return super().drop(\n",
      "/home/xxotto/anaconda3/lib/python3.8/site-packages/pandas/core/frame.py:4308: SettingWithCopyWarning: \n",
      "A value is trying to be set on a copy of a slice from a DataFrame\n",
      "\n",
      "See the caveats in the documentation: https://pandas.pydata.org/pandas-docs/stable/user_guide/indexing.html#returning-a-view-versus-a-copy\n",
      "  return super().drop(\n",
      "/home/xxotto/anaconda3/lib/python3.8/site-packages/pandas/core/frame.py:4308: SettingWithCopyWarning: \n",
      "A value is trying to be set on a copy of a slice from a DataFrame\n",
      "\n",
      "See the caveats in the documentation: https://pandas.pydata.org/pandas-docs/stable/user_guide/indexing.html#returning-a-view-versus-a-copy\n",
      "  return super().drop(\n",
      "/home/xxotto/anaconda3/lib/python3.8/site-packages/pandas/core/frame.py:4308: SettingWithCopyWarning: \n",
      "A value is trying to be set on a copy of a slice from a DataFrame\n",
      "\n",
      "See the caveats in the documentation: https://pandas.pydata.org/pandas-docs/stable/user_guide/indexing.html#returning-a-view-versus-a-copy\n",
      "  return super().drop(\n",
      "/home/xxotto/anaconda3/lib/python3.8/site-packages/pandas/core/frame.py:4308: SettingWithCopyWarning: \n",
      "A value is trying to be set on a copy of a slice from a DataFrame\n",
      "\n",
      "See the caveats in the documentation: https://pandas.pydata.org/pandas-docs/stable/user_guide/indexing.html#returning-a-view-versus-a-copy\n",
      "  return super().drop(\n",
      "/home/xxotto/anaconda3/lib/python3.8/site-packages/pandas/core/frame.py:4308: SettingWithCopyWarning: \n",
      "A value is trying to be set on a copy of a slice from a DataFrame\n",
      "\n",
      "See the caveats in the documentation: https://pandas.pydata.org/pandas-docs/stable/user_guide/indexing.html#returning-a-view-versus-a-copy\n",
      "  return super().drop(\n",
      "/home/xxotto/anaconda3/lib/python3.8/site-packages/pandas/core/frame.py:4308: SettingWithCopyWarning: \n",
      "A value is trying to be set on a copy of a slice from a DataFrame\n",
      "\n",
      "See the caveats in the documentation: https://pandas.pydata.org/pandas-docs/stable/user_guide/indexing.html#returning-a-view-versus-a-copy\n",
      "  return super().drop(\n",
      "/home/xxotto/anaconda3/lib/python3.8/site-packages/pandas/core/frame.py:4308: SettingWithCopyWarning: \n",
      "A value is trying to be set on a copy of a slice from a DataFrame\n",
      "\n",
      "See the caveats in the documentation: https://pandas.pydata.org/pandas-docs/stable/user_guide/indexing.html#returning-a-view-versus-a-copy\n",
      "  return super().drop(\n",
      "/home/xxotto/anaconda3/lib/python3.8/site-packages/pandas/core/frame.py:4308: SettingWithCopyWarning: \n",
      "A value is trying to be set on a copy of a slice from a DataFrame\n",
      "\n",
      "See the caveats in the documentation: https://pandas.pydata.org/pandas-docs/stable/user_guide/indexing.html#returning-a-view-versus-a-copy\n",
      "  return super().drop(\n",
      "/home/xxotto/anaconda3/lib/python3.8/site-packages/pandas/core/frame.py:4308: SettingWithCopyWarning: \n",
      "A value is trying to be set on a copy of a slice from a DataFrame\n",
      "\n",
      "See the caveats in the documentation: https://pandas.pydata.org/pandas-docs/stable/user_guide/indexing.html#returning-a-view-versus-a-copy\n",
      "  return super().drop(\n",
      "/home/xxotto/anaconda3/lib/python3.8/site-packages/pandas/core/frame.py:4308: SettingWithCopyWarning: \n",
      "A value is trying to be set on a copy of a slice from a DataFrame\n",
      "\n",
      "See the caveats in the documentation: https://pandas.pydata.org/pandas-docs/stable/user_guide/indexing.html#returning-a-view-versus-a-copy\n",
      "  return super().drop(\n",
      "/home/xxotto/anaconda3/lib/python3.8/site-packages/pandas/core/frame.py:4308: SettingWithCopyWarning: \n",
      "A value is trying to be set on a copy of a slice from a DataFrame\n",
      "\n",
      "See the caveats in the documentation: https://pandas.pydata.org/pandas-docs/stable/user_guide/indexing.html#returning-a-view-versus-a-copy\n",
      "  return super().drop(\n",
      "/home/xxotto/anaconda3/lib/python3.8/site-packages/pandas/core/frame.py:4308: SettingWithCopyWarning: \n",
      "A value is trying to be set on a copy of a slice from a DataFrame\n",
      "\n",
      "See the caveats in the documentation: https://pandas.pydata.org/pandas-docs/stable/user_guide/indexing.html#returning-a-view-versus-a-copy\n",
      "  return super().drop(\n",
      "/home/xxotto/anaconda3/lib/python3.8/site-packages/pandas/core/frame.py:4308: SettingWithCopyWarning: \n",
      "A value is trying to be set on a copy of a slice from a DataFrame\n",
      "\n",
      "See the caveats in the documentation: https://pandas.pydata.org/pandas-docs/stable/user_guide/indexing.html#returning-a-view-versus-a-copy\n",
      "  return super().drop(\n",
      "/home/xxotto/anaconda3/lib/python3.8/site-packages/pandas/core/frame.py:4308: SettingWithCopyWarning: \n",
      "A value is trying to be set on a copy of a slice from a DataFrame\n",
      "\n",
      "See the caveats in the documentation: https://pandas.pydata.org/pandas-docs/stable/user_guide/indexing.html#returning-a-view-versus-a-copy\n",
      "  return super().drop(\n",
      "/home/xxotto/anaconda3/lib/python3.8/site-packages/pandas/core/frame.py:4308: SettingWithCopyWarning: \n",
      "A value is trying to be set on a copy of a slice from a DataFrame\n",
      "\n",
      "See the caveats in the documentation: https://pandas.pydata.org/pandas-docs/stable/user_guide/indexing.html#returning-a-view-versus-a-copy\n",
      "  return super().drop(\n",
      "/home/xxotto/anaconda3/lib/python3.8/site-packages/pandas/core/frame.py:4308: SettingWithCopyWarning: \n",
      "A value is trying to be set on a copy of a slice from a DataFrame\n",
      "\n",
      "See the caveats in the documentation: https://pandas.pydata.org/pandas-docs/stable/user_guide/indexing.html#returning-a-view-versus-a-copy\n",
      "  return super().drop(\n",
      "/home/xxotto/anaconda3/lib/python3.8/site-packages/pandas/core/frame.py:4308: SettingWithCopyWarning: \n",
      "A value is trying to be set on a copy of a slice from a DataFrame\n",
      "\n",
      "See the caveats in the documentation: https://pandas.pydata.org/pandas-docs/stable/user_guide/indexing.html#returning-a-view-versus-a-copy\n",
      "  return super().drop(\n",
      "/home/xxotto/anaconda3/lib/python3.8/site-packages/pandas/core/frame.py:4308: SettingWithCopyWarning: \n",
      "A value is trying to be set on a copy of a slice from a DataFrame\n",
      "\n",
      "See the caveats in the documentation: https://pandas.pydata.org/pandas-docs/stable/user_guide/indexing.html#returning-a-view-versus-a-copy\n",
      "  return super().drop(\n",
      "/home/xxotto/anaconda3/lib/python3.8/site-packages/pandas/core/frame.py:4308: SettingWithCopyWarning: \n",
      "A value is trying to be set on a copy of a slice from a DataFrame\n",
      "\n",
      "See the caveats in the documentation: https://pandas.pydata.org/pandas-docs/stable/user_guide/indexing.html#returning-a-view-versus-a-copy\n",
      "  return super().drop(\n",
      "/home/xxotto/anaconda3/lib/python3.8/site-packages/pandas/core/frame.py:4308: SettingWithCopyWarning: \n",
      "A value is trying to be set on a copy of a slice from a DataFrame\n",
      "\n",
      "See the caveats in the documentation: https://pandas.pydata.org/pandas-docs/stable/user_guide/indexing.html#returning-a-view-versus-a-copy\n",
      "  return super().drop(\n",
      "/home/xxotto/anaconda3/lib/python3.8/site-packages/pandas/core/frame.py:4308: SettingWithCopyWarning: \n",
      "A value is trying to be set on a copy of a slice from a DataFrame\n",
      "\n",
      "See the caveats in the documentation: https://pandas.pydata.org/pandas-docs/stable/user_guide/indexing.html#returning-a-view-versus-a-copy\n",
      "  return super().drop(\n",
      "/home/xxotto/anaconda3/lib/python3.8/site-packages/pandas/core/frame.py:4308: SettingWithCopyWarning: \n",
      "A value is trying to be set on a copy of a slice from a DataFrame\n",
      "\n",
      "See the caveats in the documentation: https://pandas.pydata.org/pandas-docs/stable/user_guide/indexing.html#returning-a-view-versus-a-copy\n",
      "  return super().drop(\n",
      "/home/xxotto/anaconda3/lib/python3.8/site-packages/pandas/core/frame.py:4308: SettingWithCopyWarning: \n",
      "A value is trying to be set on a copy of a slice from a DataFrame\n",
      "\n",
      "See the caveats in the documentation: https://pandas.pydata.org/pandas-docs/stable/user_guide/indexing.html#returning-a-view-versus-a-copy\n",
      "  return super().drop(\n",
      "/home/xxotto/anaconda3/lib/python3.8/site-packages/pandas/core/frame.py:4308: SettingWithCopyWarning: \n",
      "A value is trying to be set on a copy of a slice from a DataFrame\n",
      "\n",
      "See the caveats in the documentation: https://pandas.pydata.org/pandas-docs/stable/user_guide/indexing.html#returning-a-view-versus-a-copy\n",
      "  return super().drop(\n",
      "/home/xxotto/anaconda3/lib/python3.8/site-packages/pandas/core/frame.py:4308: SettingWithCopyWarning: \n",
      "A value is trying to be set on a copy of a slice from a DataFrame\n",
      "\n",
      "See the caveats in the documentation: https://pandas.pydata.org/pandas-docs/stable/user_guide/indexing.html#returning-a-view-versus-a-copy\n",
      "  return super().drop(\n",
      "/home/xxotto/anaconda3/lib/python3.8/site-packages/pandas/core/frame.py:4308: SettingWithCopyWarning: \n",
      "A value is trying to be set on a copy of a slice from a DataFrame\n",
      "\n",
      "See the caveats in the documentation: https://pandas.pydata.org/pandas-docs/stable/user_guide/indexing.html#returning-a-view-versus-a-copy\n",
      "  return super().drop(\n",
      "/home/xxotto/anaconda3/lib/python3.8/site-packages/pandas/core/frame.py:4308: SettingWithCopyWarning: \n",
      "A value is trying to be set on a copy of a slice from a DataFrame\n",
      "\n",
      "See the caveats in the documentation: https://pandas.pydata.org/pandas-docs/stable/user_guide/indexing.html#returning-a-view-versus-a-copy\n",
      "  return super().drop(\n",
      "/home/xxotto/anaconda3/lib/python3.8/site-packages/pandas/core/frame.py:4308: SettingWithCopyWarning: \n",
      "A value is trying to be set on a copy of a slice from a DataFrame\n",
      "\n",
      "See the caveats in the documentation: https://pandas.pydata.org/pandas-docs/stable/user_guide/indexing.html#returning-a-view-versus-a-copy\n",
      "  return super().drop(\n",
      "/home/xxotto/anaconda3/lib/python3.8/site-packages/pandas/core/frame.py:4308: SettingWithCopyWarning: \n",
      "A value is trying to be set on a copy of a slice from a DataFrame\n",
      "\n",
      "See the caveats in the documentation: https://pandas.pydata.org/pandas-docs/stable/user_guide/indexing.html#returning-a-view-versus-a-copy\n",
      "  return super().drop(\n",
      "/home/xxotto/anaconda3/lib/python3.8/site-packages/pandas/core/frame.py:4308: SettingWithCopyWarning: \n",
      "A value is trying to be set on a copy of a slice from a DataFrame\n",
      "\n",
      "See the caveats in the documentation: https://pandas.pydata.org/pandas-docs/stable/user_guide/indexing.html#returning-a-view-versus-a-copy\n",
      "  return super().drop(\n",
      "/home/xxotto/anaconda3/lib/python3.8/site-packages/pandas/core/frame.py:4308: SettingWithCopyWarning: \n",
      "A value is trying to be set on a copy of a slice from a DataFrame\n",
      "\n",
      "See the caveats in the documentation: https://pandas.pydata.org/pandas-docs/stable/user_guide/indexing.html#returning-a-view-versus-a-copy\n",
      "  return super().drop(\n",
      "/tmp/ipykernel_16023/1853732497.py:14: SettingWithCopyWarning: \n",
      "A value is trying to be set on a copy of a slice from a DataFrame.\n",
      "Try using .loc[row_indexer,col_indexer] = value instead\n",
      "\n",
      "See the caveats in the documentation: https://pandas.pydata.org/pandas-docs/stable/user_guide/indexing.html#returning-a-view-versus-a-copy\n",
      "  df['vacunado'] = 1  # To count each case\n",
      "/tmp/ipykernel_16023/1853732497.py:15: SettingWithCopyWarning: \n",
      "A value is trying to be set on a copy of a slice from a DataFrame.\n",
      "Try using .loc[row_indexer,col_indexer] = value instead\n",
      "\n",
      "See the caveats in the documentation: https://pandas.pydata.org/pandas-docs/stable/user_guide/indexing.html#returning-a-view-versus-a-copy\n",
      "  df['vacunado'] = df['vacunado'].apply(np.int8)\n"
     ]
    }
   ],
   "source": [
    "vac_url = \"RawData/TB_VACUNACION_COVID19.csv\"\n",
    "vacxdep = vac_department(vac_url)\n",
    "del vac_url"
   ]
  },
  {
   "cell_type": "code",
   "execution_count": 30,
   "metadata": {},
   "outputs": [
    {
     "name": "stdout",
     "output_type": "stream",
     "text": [
      "Head of the first chunk of all fully vaccinated people in Peru (2 doses) per place of vaccination:\n",
      "  fecha_vacunacion  id_centro_vacunacion  vacunado\n",
      "0       19/07/2021                    17         1\n",
      "1       17/06/2021                  1828         1\n",
      "2       11/06/2021                103617         1\n",
      "3       28/07/2021                   891         1\n",
      "7        5/06/2021                108281         1\n"
     ]
    }
   ],
   "source": [
    "print(\"Head of the first chunk of all fully vaccinated people in Peru (2 doses) per place of vaccination:\")\n",
    "print(vacxdep[0].head())"
   ]
  },
  {
   "cell_type": "markdown",
   "metadata": {},
   "source": [
    "Note how each fully vaccinated person has a location id. Now it is necessary to collect each fully vaccine case by this id."
   ]
  },
  {
   "cell_type": "markdown",
   "metadata": {},
   "source": [
    "## 2. From a list of chunks to a summary dataframe of people fully vaccinated (2 doses) per department\n",
    "\n",
    "**IMPORTANT:** \"vacxdep\" variable is actually a list of *dataframes* or *chunks*."
   ]
  },
  {
   "cell_type": "code",
   "execution_count": 6,
   "metadata": {},
   "outputs": [],
   "source": [
    "def vacxdep_chunks(dfs_vac):\n",
    "    \"\"\"\n",
    "    Devuelve un dataframe con el TOTAL DE VACUNADOS por DEPARTAMENTO \n",
    "    del PERÚ (recibe una lista de dataframes o chunks)\n",
    "    \"\"\"\n",
    "    var_holder = {}     # Diccionario para guardar nombres                                             \n",
    "    lst_epi_vac = []    # Lista de dfs para cada sumatoria de chunks\n",
    "                                         \n",
    "    for i, chunk in enumerate(dfs_vac):\n",
    "        var_holder['epi_vac_' + str(i)]= pd.crosstab(index=[chunk['id_centro_vacunacion']],\n",
    "                                                     columns=chunk['vacunado'])\n",
    "        lst_epi_vac.append(var_holder['epi_vac_' + str(i)])\n",
    "    \n",
    "    merged_epivac = pd.concat(lst_epi_vac, axis=1)  # Merge all dfs\n",
    "    epi_vac = pd.DataFrame(merged_epivac.sum(numeric_only=True, axis=1))\n",
    "    epi_vac.columns = ['vacunados']\n",
    "    epi_vac['vacunados'] = epi_vac['vacunados'].astype(np.int64)\n",
    "    epi_vac.reset_index(level=0, inplace=True)\n",
    "\n",
    "    return epi_vac"
   ]
  },
  {
   "cell_type": "code",
   "execution_count": 7,
   "metadata": {},
   "outputs": [
    {
     "name": "stdout",
     "output_type": "stream",
     "text": [
      "Head of a SUMMARY dataframe of all fully vaccinated people in Peru (2 doses) per place of vaccination:\n",
      "   id_centro_vacunacion  vacunados\n",
      "0                     1        331\n",
      "1                     3     150269\n",
      "2                     5       7998\n",
      "3                     6      33530\n",
      "4                     8      44992\n",
      "\n",
      "\n",
      "Fully vaccinated (2 doses): 15676507\n"
     ]
    }
   ],
   "source": [
    "vacxdep_sum = vacxdep_chunks(vacxdep)\n",
    "print(\"Head of a SUMMARY dataframe of all fully vaccinated people in Peru (2 doses) per place of vaccination:\")\n",
    "print(vacxdep_sum.head()), print(\"\\n\")\n",
    "\n",
    "print('Fully vaccinated (2 doses): ' + str(vacxdep_sum['vacunados'].sum())) "
   ]
  },
  {
   "cell_type": "markdown",
   "metadata": {},
   "source": [
    "## 3. Getting the department of each vaccination center\n",
    "Read the 2 other csv with the directions\n",
    "\n",
    "For this case is necesary to match ..."
   ]
  },
  {
   "cell_type": "code",
   "execution_count": 12,
   "metadata": {},
   "outputs": [
    {
     "name": "stdout",
     "output_type": "stream",
     "text": [
      "Head of the merged dataframe (vaccenter) with: 'id_centro_vacunacion' and 'departamento'\n",
      "   id_centro_vacunacion departamento\n",
      "0                  2021         PUNO\n",
      "1                  3699   SAN MARTIN\n",
      "2                   154   SAN MARTIN\n",
      "3                   155   SAN MARTIN\n",
      "4                  3260   SAN MARTIN\n",
      "5                  2906       ANCASH\n",
      "6                  2907       ANCASH\n",
      "7                  2909       ANCASH\n",
      "8                  2910       ANCASH\n",
      "9                  2912       ANCASH\n"
     ]
    }
   ],
   "source": [
    "ubigeo_url = 'RawData/TB_UBIGEOS.csv'\n",
    "vaccenter_url = 'RawData/TB_CENTRO_VACUNACION.csv'\n",
    "\n",
    "ubigeo = pd.read_csv(ubigeo_url, usecols = ['id_ubigeo', 'departamento'])\n",
    "vaccenter = pd.read_csv(vaccenter_url, usecols= ['id_centro_vacunacion','id_ubigeo'])\n",
    "\n",
    "del ubigeo_url, vaccenter_url\n",
    "\n",
    "vaccenter = vaccenter.merge(ubigeo, on = 'id_ubigeo', how = 'left')\n",
    "del vaccenter['id_ubigeo']\n",
    "\n",
    "print(\"Head of the merged dataframe (vaccenter) with: 'id_centro_vacunacion' and 'departamento'\") \n",
    "print(vaccenter.head(10))\n",
    "\n"
   ]
  },
  {
   "cell_type": "markdown",
   "metadata": {},
   "source": [
    "Note that the new dataframe **'vaccenter'** can be used to get the department of each vaccination center"
   ]
  },
  {
   "cell_type": "markdown",
   "metadata": {},
   "source": [
    "## 4. Found the deparment of all people fully vaccinated (2 doses)"
   ]
  },
  {
   "cell_type": "code",
   "execution_count": null,
   "metadata": {},
   "outputs": [],
   "source": [
    "vacxdep_sum = vacxdep_sum.merge(vaccenter, on = 'id_centro_vacunacion', how = 'left')\n",
    "del vacxdep_sum['id_centro_vacunacion']\n",
    "\n",
    "print(vacxdep_sum.head())"
   ]
  },
  {
   "cell_type": "markdown",
   "metadata": {},
   "source": [
    "Finally just get the total of vaccinated grouping by department."
   ]
  },
  {
   "cell_type": "code",
   "execution_count": null,
   "metadata": {},
   "outputs": [],
   "source": [
    "ct_vacxdep = vacxdep_sum.groupby(['departamento']).sum()    # Sum by departments\n",
    "ct_vacxdep.loc['PERU',:] = ct_vacxdep.sum(axis = 0)         # Total of fully vaccinated\n",
    "ct_vacxdep['vacunados'] = ct_vacxdep['vacunados'].apply(np.int64) \n",
    "\n",
    "print(ct_vacxdep)"
   ]
  },
  {
   "cell_type": "markdown",
   "metadata": {},
   "source": [
    "# 5. Merge fully vaccinated and confirmed deaths from COVID-19 per departments"
   ]
  },
  {
   "cell_type": "code",
   "execution_count": null,
   "metadata": {},
   "outputs": [],
   "source": [
    "vndxdep = pd.concat([ct_vacxdep, dep_deaths], axis=1)\n",
    "vndxdep.reset_index(level=0, inplace=True)\n",
    "vndxdep.rename(columns = {'index':'departamento'}, inplace = True)\n",
    "\n",
    "print(vndxdep)"
   ]
  },
  {
   "cell_type": "markdown",
   "metadata": {},
   "source": [
    "# 6. Adding the number of inhabitants per department\n",
    "\n",
    "Population based on: https://es.wikipedia.org/wiki/Anexo:Departamentos_del_Per%C3%BA_por_poblaci%C3%B3n"
   ]
  },
  {
   "cell_type": "code",
   "execution_count": 11,
   "metadata": {},
   "outputs": [],
   "source": [
    "dic_dep = {\n",
    "    \"AMAZONAS\"\t:\t426806,\n",
    "    \"ANCASH\"\t:\t1180638,\n",
    "    \"APURIMAC\"\t:\t430736,\n",
    "    \"AREQUIPA\"\t:\t1497438,\n",
    "    \"AYACUCHO\"\t:\t668213,\n",
    "    \"CAJAMARCA\"\t:\t1453711,\n",
    "    \"CALLAO\"\t:\t1129854,\n",
    "    \"CUSCO\"\t    :\t1357075,\n",
    "    \"HUANCAVELICA\":\t365317,\n",
    "    \"HUANUCO\"\t:\t760267,\n",
    "    \"ICA\"\t    :\t975182,\n",
    "    \"JUNIN\"\t    :\t1361467,\n",
    "    \"LA LIBERTAD\":\t2016771,\n",
    "    \"LAMBAYEQUE\":\t1310785,\n",
    "    \"LIMA\"\t    :\t10628470,\n",
    "    \"LORETO\"\t:\t1027559,\n",
    "    \"MADRE DE DIOS\":173811,\n",
    "    \"MOQUEGUA\"\t:\t192740,\n",
    "    \"PASCO\"\t    :\t271904,\n",
    "    \"PIURA\"\t    :\t2047954,\n",
    "    \"PUNO\"\t    :\t1237997,\n",
    "    \"SAN MARTIN\":\t899648,\n",
    "    \"TACNA\"\t    :\t370974,\n",
    "    \"TUMBES\"\t:\t251521,\n",
    "    \"UCAYALI\"\t:\t589110,\n",
    "    \"PERU\"  \t:\t32625948,\n",
    "}"
   ]
  },
  {
   "cell_type": "code",
   "execution_count": null,
   "metadata": {},
   "outputs": [],
   "source": [
    "vndxdep['no_habitantes'] = vndxdep['departamento'].map(dic_dep)\n",
    "vndxdep = vndxdep[['departamento', 'no_habitantes', 'vacunados', 'fallecidos']]\n",
    "\n",
    "# Mortality rate per 100k per department\n",
    "vndxdep['tasa_mortalidad'] = (vndxdep['fallecidos']/vndxdep['no_habitantes'])*100000\n",
    "\n",
    "# % of people fully vaccinated per department\n",
    "vndxdep['vac_porcentaje'] = (vndxdep['vacunados']*100)/vndxdep['no_habitantes']\n",
    "\n",
    "print(vndxdep)"
   ]
  },
  {
   "cell_type": "markdown",
   "metadata": {},
   "source": [
    "Guardamos:"
   ]
  },
  {
   "cell_type": "code",
   "execution_count": null,
   "metadata": {},
   "outputs": [],
   "source": [
    "vndxdep.to_csv('Data/vac_fal_x_departamento.csv',index = False)"
   ]
  },
  {
   "cell_type": "markdown",
   "metadata": {},
   "source": [
    "# Número de vacunados por semana epidemiológica de cada departamento\n",
    "\n",
    "## 0. Usamos la data incial de vacunados por departamento (vacxdep)"
   ]
  },
  {
   "cell_type": "code",
   "execution_count": 31,
   "metadata": {},
   "outputs": [
    {
     "name": "stdout",
     "output_type": "stream",
     "text": [
      "Head of the first chunk of all fully vaccinated people in Peru (2 doses) per place of vaccination:\n",
      "  fecha_vacunacion  id_centro_vacunacion  vacunado\n",
      "0       19/07/2021                    17         1\n",
      "1       17/06/2021                  1828         1\n",
      "2       11/06/2021                103617         1\n",
      "3       28/07/2021                   891         1\n",
      "7        5/06/2021                108281         1\n"
     ]
    }
   ],
   "source": [
    "print(\"Head of the first chunk of all fully vaccinated people in Peru (2 doses) per place of vaccination:\")\n",
    "print(vacxdep[0].head())"
   ]
  },
  {
   "cell_type": "markdown",
   "metadata": {},
   "source": [
    "## 1. Transformamos a formato fecha (yyyy-mm-dd) la columna \"fecha_vacunacion\" de todos los chunks"
   ]
  },
  {
   "cell_type": "code",
   "execution_count": 32,
   "metadata": {},
   "outputs": [],
   "source": [
    "for i, chunk in enumerate(vacxdep):\n",
    "    chunk = fn.variable_fecha_ymd(chunk, \"fecha_vacunacion\")\n",
    "    # print(vacxdep[i][\"fecha_vacunacion\"].head())"
   ]
  },
  {
   "cell_type": "markdown",
   "metadata": {},
   "source": [
    "## 2. Obtenemos la semana epidemiológica y año de la columna \"fecha_vacunacion\" ahora en formato fecha (yyyy-mm-dd) de todos los chunks"
   ]
  },
  {
   "cell_type": "code",
   "execution_count": 33,
   "metadata": {},
   "outputs": [
    {
     "name": "stdout",
     "output_type": "stream",
     "text": [
      "   id_centro_vacunacion  vacunado  epi_year  epi_week\n",
      "0                    17         1      2021        29\n",
      "1                  1828         1      2021        24\n",
      "2                103617         1      2021        23\n",
      "3                   891         1      2021        30\n",
      "7                108281         1      2021        22\n"
     ]
    }
   ],
   "source": [
    "for i, chunk in enumerate(vacxdep):\n",
    "    chunk = fn.date_to_epiweek(chunk, \"fecha_vacunacion\")\n",
    "\n",
    "print(vacxdep[0].head())"
   ]
  },
  {
   "cell_type": "markdown",
   "metadata": {},
   "source": [
    "## 3. Obtener el total de vacunados por id_centro_vacunacion"
   ]
  },
  {
   "cell_type": "code",
   "execution_count": 43,
   "metadata": {},
   "outputs": [
    {
     "name": "stdout",
     "output_type": "stream",
     "text": [
      "        id_centro_vacunacion  vacunado  epi_year  epi_week\n",
      "0                         17         1      2021        29\n",
      "1                       1828         1      2021        24\n",
      "2                     103617         1      2021        23\n",
      "3                        891         1      2021        30\n",
      "7                     108281         1      2021        22\n",
      "...                      ...       ...       ...       ...\n",
      "499685                  1919         1      2021        32\n",
      "499758                103558         1      2021        13\n",
      "499777                101160         1      2021        29\n",
      "499846                102235         1      2021        40\n",
      "499866                127123         1      2021        11\n",
      "\n",
      "[23759 rows x 4 columns]\n"
     ]
    }
   ],
   "source": [
    "df = vacxdep[0].groupby(['id_centro_vacunacion']).sum()\n",
    "\n",
    "print(df.head())"
   ]
  },
  {
   "cell_type": "markdown",
   "metadata": {},
   "source": [
    "## 3. Unimos nu"
   ]
  },
  {
   "cell_type": "code",
   "execution_count": 34,
   "metadata": {},
   "outputs": [],
   "source": [
    "def vacxdep_chunks(dfs_vac):\n",
    "    \"\"\"\n",
    "    Devuelve un dataframe con el TOTAL DE VACUNADOS por DEPARTAMENTO \n",
    "    del PERÚ (recibe una lista de dataframes o chunks)\n",
    "    \"\"\"\n",
    "    var_holder = {}     # Diccionario para guardar nombres                                             \n",
    "    lst_epi_vac = []    # Lista de dfs para cada sumatoria de chunks\n",
    "                                         \n",
    "    for i, chunk in enumerate(dfs_vac):\n",
    "        var_holder['epi_vac_' + str(i)]= pd.crosstab(index = [chunk['epi_year'], chunk['epi_week']],\n",
    "                                                     columns =[chunk['vacunado'], chunk['id_centro_vacunacion']])\n",
    "        lst_epi_vac.append(var_holder['epi_vac_' + str(i)])\n",
    "\n",
    "    merged_epivac = pd.concat(lst_epi_vac, axis=1)  # Merge all dfs\n",
    "    epi_vac = pd.DataFrame(merged_epivac.sum(numeric_only=True, axis=1))\n",
    "    #epi_vac.columns = ['vacunados']\n",
    "    #epi_vac['vacunados'] = epi_vac['vacunados'].astype(np.int64)\n",
    "    #epi_vac.reset_index(level=0, inplace=True)\n",
    "\n",
    "    return epi_vac"
   ]
  },
  {
   "cell_type": "code",
   "execution_count": 35,
   "metadata": {},
   "outputs": [],
   "source": [
    "vacxdepxsemEpi = vacxdep_chunks(vacxdep)"
   ]
  },
  {
   "cell_type": "code",
   "execution_count": 36,
   "metadata": {},
   "outputs": [
    {
     "name": "stdout",
     "output_type": "stream",
     "text": [
      "                           0\n",
      "epi_year epi_week           \n",
      "2021     6               1.0\n",
      "         7               4.0\n",
      "         8              19.0\n",
      "         9           93044.0\n",
      "         10          80891.0\n",
      "         11         120498.0\n",
      "         12          38699.0\n",
      "         13          65417.0\n",
      "         14         101913.0\n",
      "         15         111395.0\n",
      "         16          29749.0\n",
      "         17          60094.0\n",
      "         18          51057.0\n",
      "         19         106779.0\n",
      "         20         174047.0\n",
      "         21         239365.0\n",
      "         22         209601.0\n",
      "         23         560825.0\n",
      "         24         618950.0\n",
      "         25         364838.0\n",
      "         26         447494.0\n",
      "         27         258135.0\n",
      "         28         322031.0\n",
      "         29         484105.0\n",
      "         30         830158.0\n",
      "         31         931170.0\n",
      "         32         687158.0\n",
      "         33         595969.0\n",
      "         34         583498.0\n",
      "         35         554480.0\n",
      "         36         396321.0\n",
      "         37         538237.0\n",
      "         38         726539.0\n",
      "         39        1444448.0\n",
      "         40        1560272.0\n",
      "         41         936383.0\n",
      "         42         833027.0\n",
      "         43         519896.0\n"
     ]
    }
   ],
   "source": [
    "print(vacxdepxsemEpi.head(50))"
   ]
  },
  {
   "cell_type": "markdown",
   "metadata": {},
   "source": []
  }
 ],
 "metadata": {
  "interpreter": {
   "hash": "bea6116dd68ddf91c3cc5a29b631ef213aeb122ee277ca2ecd46a4cdc426254a"
  },
  "kernelspec": {
   "display_name": "Python 3 (ipykernel)",
   "language": "python",
   "name": "python3"
  },
  "language_info": {
   "codemirror_mode": {
    "name": "ipython",
    "version": 3
   },
   "file_extension": ".py",
   "mimetype": "text/x-python",
   "name": "python",
   "nbconvert_exporter": "python",
   "pygments_lexer": "ipython3",
   "version": "3.8.8"
  }
 },
 "nbformat": 4,
 "nbformat_minor": 2
}
