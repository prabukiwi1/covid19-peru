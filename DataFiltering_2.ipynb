{
 "cells": [
  {
   "cell_type": "markdown",
   "metadata": {},
   "source": [
    "# Obteniendo el número de muertes confirmadas por COVID-19 por **semana epidemiológica** de cada uno de los **24 departamentos** del Perú\n",
    "\n",
    "## 0. Cargar librerías"
   ]
  },
  {
   "cell_type": "code",
   "execution_count": 126,
   "metadata": {},
   "outputs": [],
   "source": [
    "import pandas as pd\n",
    "import numpy as np\n",
    "\n",
    "import functions as fn"
   ]
  },
  {
   "cell_type": "markdown",
   "metadata": {},
   "source": [
    "## 1. Cargamos direcciones de RawData"
   ]
  },
  {
   "cell_type": "code",
   "execution_count": 127,
   "metadata": {},
   "outputs": [],
   "source": [
    "vac_url = 'RawData/TB_VACUNACION_COVID19.csv'\n",
    "fal_url = 'RawData/fallecidos_covid.csv'"
   ]
  },
  {
   "cell_type": "markdown",
   "metadata": {},
   "source": [
    "## 2. Procesamos el dataset de fallecidos"
   ]
  },
  {
   "cell_type": "markdown",
   "metadata": {},
   "source": [
    "### 2.1. Añadimos el año, semana epidemiológica y departamento de cada fallecido"
   ]
  },
  {
   "cell_type": "code",
   "execution_count": 128,
   "metadata": {},
   "outputs": [],
   "source": [
    "def just_cities(fal_url):\n",
    "    \"\"\"\n",
    "    Función para filtrar a cada fallecido reportado en su año\n",
    "    y semana epidemiológica por depatamento (Fallecidos = fal)\n",
    "    \"\"\"         \n",
    "    fal_col = ['FECHA_FALLECIMIENTO', 'DEPARTAMENTO']\n",
    "    df_fal = fn.read_largeCSV_file(fal_url, ';', fal_col)\n",
    "    fn.variable_fecha(df_fal, 'FECHA_FALLECIMIENTO')\n",
    "    fn.date_to_epiweek(df_fal,'FECHA_FALLECIMIENTO')\n",
    "    df_fal['fallecido'] = 1     # To count cases                                   \n",
    "    df_fal['fallecido'].apply(np.int8) \n",
    "    \n",
    "    return df_fal"
   ]
  },
  {
   "cell_type": "code",
   "execution_count": 129,
   "metadata": {},
   "outputs": [],
   "source": [
    "falxdep = just_cities(fal_url)"
   ]
  },
  {
   "cell_type": "code",
   "execution_count": 69,
   "metadata": {},
   "outputs": [
    {
     "name": "stdout",
     "output_type": "stream",
     "text": [
      "  DEPARTAMENTO  epi_year  epi_week  fallecido\n",
      "0   LAMBAYEQUE      2021        23          1\n",
      "1        PIURA      2021        11          1\n",
      "2          ICA      2021        22          1\n",
      "3     AREQUIPA      2021        26          1\n",
      "4         LIMA      2021        18          1\n"
     ]
    }
   ],
   "source": [
    "print(falxdep.head())"
   ]
  },
  {
   "cell_type": "markdown",
   "metadata": {},
   "source": [
    "**IMPORTANTE:** No tenemos el total de fallecidos por departamento y semana epidemiológica, sino el departamento y semana epidemiológica de cada caso."
   ]
  },
  {
   "cell_type": "markdown",
   "metadata": {},
   "source": [
    "### 2.2. Realizamos una crosstab de fallecidos por COVID-19 por departamento de Perú, para cada semana epidemiológica y año\n",
    "\n",
    "Esto para obtener el TOTAL de fallecidos por cada departamento y semana epidemiológica"
   ]
  },
  {
   "cell_type": "code",
   "execution_count": 70,
   "metadata": {},
   "outputs": [],
   "source": [
    "ct_falxdep = pd.crosstab(index=[falxdep['epi_year'], falxdep['epi_week']],\n",
    "                       columns=[falxdep['fallecido'], falxdep['DEPARTAMENTO']],\n",
    "                       margins = False)"
   ]
  },
  {
   "cell_type": "code",
   "execution_count": 71,
   "metadata": {},
   "outputs": [
    {
     "name": "stdout",
     "output_type": "stream",
     "text": [
      "fallecido                1                  ...                     \n",
      "DEPARTAMENTO      AMAZONAS ANCASH APURIMAC  ... TACNA TUMBES UCAYALI\n",
      "epi_year epi_week                           ...                     \n",
      "2020     10              0      0        0  ...     0      0       0\n",
      "         11              0      0        0  ...     0      0       0\n",
      "         12              0      0        0  ...     0      0       2\n",
      "         13              0      4        0  ...     0      0       3\n",
      "         14              0      0        0  ...     1      3      11\n",
      "\n",
      "[5 rows x 25 columns]\n"
     ]
    }
   ],
   "source": [
    "print(ct_falxdep.head())"
   ]
  },
  {
   "cell_type": "markdown",
   "metadata": {},
   "source": [
    "Ahora tenemos el TOTAL de fallecidos por cada departamento y semana epidemiológica"
   ]
  },
  {
   "cell_type": "code",
   "execution_count": 72,
   "metadata": {},
   "outputs": [],
   "source": [
    "ct_falxdep.to_csv('Data/fallecidos_x_departamentos_x_semanasEpi.csv')"
   ]
  },
  {
   "cell_type": "markdown",
   "metadata": {},
   "source": [
    "### 2.3. Arreglamos los índices\n",
    "(Buscar una manera más eficiente de hacerlo, en lugar de guardar y leer el dataset nuevamente)"
   ]
  },
  {
   "cell_type": "code",
   "execution_count": 73,
   "metadata": {},
   "outputs": [],
   "source": [
    "ct_falxdep = pd.read_csv('Data/fallecidos_x_departamentos_x_semanasEpi.csv')"
   ]
  },
  {
   "cell_type": "code",
   "execution_count": 74,
   "metadata": {},
   "outputs": [],
   "source": [
    "def filtering_data_dep(falxdep_df):\n",
    "    \"\"\"Function to fix the indexes of the data of deceased by department of Peru.\n",
    "    IMPORTANT: There are more efficient ways to modify indexes using 'loc' and \n",
    "    'iloc' but this method at least 'works'\"\"\"\n",
    "\n",
    "    time = falxdep_df[[\"fallecido\", \"Unnamed: 1\"]]   # Get the col of epidemiological weeks\n",
    "    time = time.rename(columns=time.iloc[1])     # Put the first row (epi_week) as header\n",
    "    time = time.drop([0,1, len(time)-1],axis=0)  # Drop the first and last row (header, nan and total)\n",
    "    time = time.reset_index(drop=True)           # Reset index\n",
    "\n",
    "    departments = falxdep_df.drop([\"Unnamed: 1\", 'fallecido'], axis=1)    # Drop cols that are not departments\n",
    "    departments = departments.rename(columns=departments.iloc[0])     # Put the first row (epi_week) as header\n",
    "    departments = departments.drop([0,1, len(departments)-1],axis=0)  # Drop the first and last row (header, nan and total)\n",
    "    departments = departments.reset_index(drop=True)                  # Reset index\n",
    "\n",
    "    falxdep_df = pd.concat([time, departments], axis=1)\n",
    "    return falxdep_df"
   ]
  },
  {
   "cell_type": "code",
   "execution_count": 77,
   "metadata": {},
   "outputs": [
    {
     "name": "stdout",
     "output_type": "stream",
     "text": [
      "  epi_year epi_week AMAZONAS ANCASH  ... SAN MARTIN TACNA TUMBES UCAYALI\n",
      "0     2020       10        0      0  ...          2     0      0       0\n",
      "1     2020       11        0      0  ...          0     0      0       0\n",
      "2     2020       12        0      0  ...          0     0      0       2\n",
      "3     2020       13        0      4  ...          0     0      0       3\n",
      "4     2020       14        0      0  ...          3     1      3      11\n",
      "\n",
      "[5 rows x 27 columns]\n"
     ]
    }
   ],
   "source": [
    "ct_falxdep_fix = filtering_data_dep(ct_falxdep)\n",
    "print(ct_falxdep_fix.head())"
   ]
  },
  {
   "cell_type": "code",
   "execution_count": 78,
   "metadata": {},
   "outputs": [],
   "source": [
    "ct_falxdep_fix.to_csv('Data/fallecidos_x_departamentos_x_semanasEpi.csv', index = False)"
   ]
  },
  {
   "cell_type": "markdown",
   "metadata": {},
   "source": [
    "# Obteniendo el número **TOTAL de personas completamente vacunadas (2 dosis)** y el número **TOTAL de muertes** confirmadas por COVID-19 por cada uno de los **24 departamentos** del Perú \n",
    "\n",
    "## 0. Procesamos el dataset de fallecidos\n",
    "\n",
    "Realizamos una crosstab del TOTAL de muertes confirmadas por COVID-19 por departamento. Usamos el dataframe \"falxdep\" usado anteriormente."
   ]
  },
  {
   "cell_type": "code",
   "execution_count": 171,
   "metadata": {},
   "outputs": [],
   "source": [
    "dep_deaths = pd.crosstab(index = falxdep['DEPARTAMENTO'], columns = falxdep['fallecido'])\n",
    "dep_deaths.columns = ['fallecidos']\n",
    "\n",
    "# Adding an extra row of the total deaths for the whole country\n",
    "dep_deaths.loc['PERU'] = dep_deaths.sum()"
   ]
  },
  {
   "cell_type": "code",
   "execution_count": 108,
   "metadata": {},
   "outputs": [
    {
     "name": "stdout",
     "output_type": "stream",
     "text": [
      "               fallecidos\n",
      "DEPARTAMENTO             \n",
      "AMAZONAS             1273\n",
      "ANCASH               6728\n",
      "APURIMAC             1519\n",
      "AREQUIPA             9718\n",
      "AYACUCHO             2148\n",
      "CAJAMARCA            4149\n",
      "CALLAO              10055\n",
      "CUSCO                4812\n",
      "HUANCAVELICA         1176\n",
      "HUANUCO              2701\n",
      "ICA                  8569\n",
      "JUNIN                7061\n",
      "LA LIBERTAD         10324\n",
      "LAMBAYEQUE           8642\n",
      "LIMA                89006\n",
      "LORETO               4266\n",
      "MADRE DE DIOS         772\n",
      "MOQUEGUA             1526\n",
      "PASCO                1046\n",
      "PIURA               12163\n",
      "PUNO                 4228\n",
      "SAN MARTIN           3030\n",
      "TACNA                1970\n",
      "TUMBES               1586\n",
      "UCAYALI              3059\n",
      "PERU               201527\n"
     ]
    }
   ],
   "source": [
    "print(dep_deaths)"
   ]
  },
  {
   "cell_type": "markdown",
   "metadata": {},
   "source": [
    "## 1. Procesamos el dataset de vacunados\n",
    "\n",
    "No existe una forma directa de calcular el total de personas completamente vacunadas por departamento. Para lograrlo se prevee lo siguiente:\n",
    "\n",
    "1. El dataset de vacunación **(RawData/TB_VACUNACION_COVID19.csv)** solo proporciona información sobre el centro de vacunación llamado *id_centro_vacunacion*. NO el departamento u otra ubicación relevante.\n",
    "\n",
    "2. El dataset de los centros de vacunación **(RawData/TB_CENTRO_VACUNACION.csv)** se puede utilizar para hacer \"match\" del *id_centro_vacunacion* con el *id_ubigeo*. Que es una variable numérica de 0 a 1894 del departamento.\n",
    "\n",
    "3. Finalmente, con el dataset de UBIGEO **(RawData/TB_UBIGEOS.csv)** es posible reemplazar a cada *id_ubigeo* con el departamento respectivo.\n"
   ]
  },
  {
   "cell_type": "markdown",
   "metadata": {},
   "source": [
    "### 1.1. Obtenemos el total de personas COMPLETAMENTE VACUNADAS (2 dosis) por los 24 departamentos del Perú"
   ]
  },
  {
   "cell_type": "code",
   "execution_count": 154,
   "metadata": {},
   "outputs": [],
   "source": [
    "def vac_department(vac_url):\n",
    "    \"\"\"\n",
    "    Función que toma la dirección del dataset de vacunados y devuelve el número de VACUNADOS \n",
    "    por los 24 departamentos del Perú\n",
    "    \"\"\"\n",
    "    vac_col = ['id_centro_vacunacion', 'dosis']                     \n",
    "    df_vac = fn.read_largeCSV_file(vac_url, ',', vac_col)    \n",
    "    lst_vac = fn.df_into_chunks(df_vac)               \n",
    "    \n",
    "    # Que cada 'chunk' de lst_vac sea solamente cuando dosis = 2, es decir tengan 2 dosis\n",
    "    lst_vac = [chunk.loc[chunk.loc[:, 'dosis'] == 2] for chunk in lst_vac]\n",
    "\n",
    "    # Creamos columnas de 1 en cada chunk para contabilizar cada caso de vacunado\n",
    "    for chunk in lst_vac:                                        \n",
    "        chunk['vacunado'] = 1\n",
    "        chunk['vacunado'].apply(np.int8)\n",
    "        del chunk['dosis']  # Borramos columna dosis llena de número 2\n",
    "    del chunk # Borramos el último chunk que queda al final\n",
    "    \n",
    "    return lst_vac"
   ]
  },
  {
   "cell_type": "code",
   "execution_count": 172,
   "metadata": {},
   "outputs": [],
   "source": [
    "vacxdep = vac_department(vac_url)"
   ]
  },
  {
   "cell_type": "code",
   "execution_count": 180,
   "metadata": {},
   "outputs": [
    {
     "name": "stdout",
     "output_type": "stream",
     "text": [
      "        id_centro_vacunacion  vacunado\n",
      "0                         62         1\n",
      "1                        752         1\n",
      "3                       3138         1\n",
      "13                         3         1\n",
      "16                         0         1\n",
      "...                      ...       ...\n",
      "499988                     0         1\n",
      "499989                  1813         1\n",
      "499991                   705         1\n",
      "499997                    38         1\n",
      "499998                    46         1\n",
      "\n",
      "[220365 rows x 2 columns]\n"
     ]
    }
   ],
   "source": [
    "print(vacxdep[0])"
   ]
  },
  {
   "cell_type": "markdown",
   "metadata": {},
   "source": [
    "**IMPORTANTE:** Tener en cuenta que cada caso o persona completamente vacunada (fila) tiene una identificación de ubicación. Ahora es necesario recopilar cada caso de vacuna completa con esta identificación. Es decir obtener el TOTAL de vacunados por cada *id_centro_vacunacion*."
   ]
  },
  {
   "cell_type": "markdown",
   "metadata": {},
   "source": [
    "### 1.2. De cada caso de vacunado a una crosstab del TOTAL de personas completamente vacunadas (2 dosis) por *id_centro_vacunacion*\n",
    "\n",
    "**IMPORTANTE:** La variable \"vacxdep\" es en realidad una lista de *dataframes* o *chunks*."
   ]
  },
  {
   "cell_type": "code",
   "execution_count": 165,
   "metadata": {},
   "outputs": [],
   "source": [
    "def vacxdep_chunks(dfs_vac):\n",
    "    \"\"\"\n",
    "    Devuelve un dataframe con el TOTAL DE VACUNADOS por DEPARTAMENTO \n",
    "    del PERÚ (recibe una lista de dataframes o chunks)\n",
    "    \"\"\"\n",
    "    var_holder = {}     # Diccionario para guardar nombres                                             \n",
    "    lst_epi_vac = []    # Lista de dfs para cada sumatoria de chunks\n",
    "                                         \n",
    "    for i, chunk in enumerate(dfs_vac):\n",
    "        var_holder['epi_vac_' + str(i)]= pd.crosstab(index=[chunk['id_centro_vacunacion']],\n",
    "                                                     columns=chunk['vacunado'])\n",
    "        lst_epi_vac.append(var_holder['epi_vac_' + str(i)])\n",
    "    \n",
    "    merged_epivac = pd.concat(lst_epi_vac, axis=1)  # Merge all dfs\n",
    "    epi_vac = pd.DataFrame(merged_epivac.sum(numeric_only=True, axis=1))\n",
    "    epi_vac.columns = ['vacunados']\n",
    "    epi_vac['vacunados'] = epi_vac['vacunados'].astype(np.int64)\n",
    "    epi_vac.reset_index(level=0, inplace=True)\n",
    "\n",
    "    return epi_vac"
   ]
  },
  {
   "cell_type": "code",
   "execution_count": 166,
   "metadata": {},
   "outputs": [],
   "source": [
    "vacxdep_sum = vacxdep_chunks(vacxdep)"
   ]
  },
  {
   "cell_type": "code",
   "execution_count": 170,
   "metadata": {},
   "outputs": [
    {
     "name": "stdout",
     "output_type": "stream",
     "text": [
      "   id_centro_vacunacion  vacunados\n",
      "0                     0    5039407\n",
      "1                     1        344\n",
      "2                     3     182818\n",
      "3                     5      10024\n",
      "4                     6      40121\n",
      "\n",
      "\n",
      "Totalmente vacunados (2 dosis): 19291391\n"
     ]
    }
   ],
   "source": [
    "print(vacxdep_sum.head()), print(\"\\n\")\n",
    "\n",
    "print('Totalmente vacunados (2 dosis): ' + str(vacxdep_sum['vacunados'].sum())) "
   ]
  },
  {
   "cell_type": "markdown",
   "metadata": {},
   "source": [
    "## 2. Obteniendo el departamento de cada centro de vacunación (*id_centro_vacunacion*)"
   ]
  },
  {
   "cell_type": "markdown",
   "metadata": {},
   "source": [
    "### 2.1. Cargamos las direccions de RawData\n",
    "\n",
    "En este caso el dataset de **UBIGEO** y **CENTROS DE VACUNACIÓN**."
   ]
  },
  {
   "cell_type": "code",
   "execution_count": 138,
   "metadata": {},
   "outputs": [],
   "source": [
    "ubigeo_url = 'RawData/TB_UBIGEOS.csv'\n",
    "vaccenter_url = 'RawData/TB_CENTRO_VACUNACION.csv'"
   ]
  },
  {
   "cell_type": "markdown",
   "metadata": {},
   "source": [
    "### 2.2. Procesamos los datasets"
   ]
  },
  {
   "cell_type": "code",
   "execution_count": 139,
   "metadata": {},
   "outputs": [
    {
     "name": "stdout",
     "output_type": "stream",
     "text": [
      "   id_centro_vacunacion departamento\n",
      "0                  2021         PUNO\n",
      "1                  3699   SAN MARTIN\n",
      "2                   154   SAN MARTIN\n",
      "3                   155   SAN MARTIN\n",
      "4                  3260   SAN MARTIN\n",
      "5                  2906       ANCASH\n",
      "6                  2907       ANCASH\n",
      "7                  2909       ANCASH\n",
      "8                  2910       ANCASH\n",
      "9                  2912       ANCASH\n"
     ]
    }
   ],
   "source": [
    "ubigeo = pd.read_csv(ubigeo_url, usecols = ['id_ubigeo', 'departamento'])\n",
    "vaccenter = pd.read_csv(vaccenter_url, usecols= ['id_centro_vacunacion','id_ubigeo'])\n",
    "\n",
    "vaccenter = vaccenter.merge(ubigeo, on = 'id_ubigeo', how = 'left')\n",
    "del vaccenter['id_ubigeo']\n",
    "\n",
    "print(vaccenter.head(10))"
   ]
  },
  {
   "cell_type": "markdown",
   "metadata": {},
   "source": [
    "**IMPORTANTE:** Tenga en cuenta que el nuevo dataset **\"vaccenter\"** se puede utilizar para obtener el departamento de cada centro de vacunación de nuestro anterior dataset llamado **\"vacxdep_sum\"**."
   ]
  },
  {
   "cell_type": "markdown",
   "metadata": {},
   "source": [
    "### 2.2. Encontrar el departamento correspondiente de todas las personas completamente vacunadas (2 dosis)"
   ]
  },
  {
   "cell_type": "code",
   "execution_count": 140,
   "metadata": {},
   "outputs": [],
   "source": [
    "vacxdep_sum = vacxdep_sum.merge(vaccenter, on = 'id_centro_vacunacion', how = 'left')\n",
    "del vacxdep_sum[\"id_centro_vacunacion\"]"
   ]
  },
  {
   "cell_type": "code",
   "execution_count": 145,
   "metadata": {},
   "outputs": [
    {
     "name": "stdout",
     "output_type": "stream",
     "text": [
      "   vacunados departamento\n",
      "0    5039407     AMAZONAS\n",
      "1        344         LIMA\n",
      "2     182818         LIMA\n",
      "3      10024         LIMA\n",
      "4      40121         LIMA\n"
     ]
    }
   ],
   "source": [
    "print(vacxdep_sum.head())"
   ]
  },
  {
   "cell_type": "markdown",
   "metadata": {},
   "source": [
    "### 2.3. Agrupar a todos los vacunados por departamento."
   ]
  },
  {
   "cell_type": "code",
   "execution_count": 146,
   "metadata": {},
   "outputs": [],
   "source": [
    "ct_vacxdep = vacxdep_sum.groupby(['departamento']).sum()    # Sum by departments\n",
    "ct_vacxdep.loc['PERU',:] = ct_vacxdep.sum(axis = 0)         # Total of fully vaccinated\n",
    "ct_vacxdep['vacunados'] = ct_vacxdep['vacunados'].apply(np.int64) "
   ]
  },
  {
   "cell_type": "code",
   "execution_count": 147,
   "metadata": {},
   "outputs": [
    {
     "name": "stdout",
     "output_type": "stream",
     "text": [
      "               vacunados\n",
      "departamento            \n",
      "AMAZONAS         5142271\n",
      "ANCASH            463675\n",
      "APURIMAC          149049\n",
      "AREQUIPA          843156\n",
      "AYACUCHO          156990\n",
      "CAJAMARCA         428833\n",
      "CALLAO            715241\n",
      "CUSCO               2003\n",
      "HUANCAVELICA       62718\n",
      "HUANUCO           163078\n",
      "ICA               548606\n",
      "JUNIN             519661\n",
      "LA LIBERTAD       834518\n",
      "LAMBAYEQUE        567017\n",
      "LIMA             6354311\n",
      "LORETO            259498\n",
      "MADRE DE DIOS      53349\n",
      "MOQUEGUA           96511\n",
      "PASCO              81308\n",
      "PIURA             694375\n",
      "PUNO              303010\n",
      "SAN MARTIN        350882\n",
      "TACNA             190169\n",
      "TUMBES             83342\n",
      "UCAYALI           157200\n",
      "PERU            19220771\n"
     ]
    }
   ],
   "source": [
    "print(ct_vacxdep)"
   ]
  },
  {
   "cell_type": "markdown",
   "metadata": {},
   "source": [
    "## 3. Unir el dataset del TOTAL de muertes confirmadas y TOTAL vacunados por departamento"
   ]
  },
  {
   "cell_type": "code",
   "execution_count": 148,
   "metadata": {},
   "outputs": [],
   "source": [
    "vndxdep = pd.concat([ct_vacxdep, dep_deaths], axis=1)\n",
    "vndxdep.reset_index(level=0, inplace=True)\n",
    "vndxdep.rename(columns = {'index':'departamento'}, inplace = True)"
   ]
  },
  {
   "cell_type": "code",
   "execution_count": 149,
   "metadata": {},
   "outputs": [
    {
     "name": "stdout",
     "output_type": "stream",
     "text": [
      "     departamento  vacunados  fallecidos\n",
      "0        AMAZONAS    5142271        1273\n",
      "1          ANCASH     463675        6728\n",
      "2        APURIMAC     149049        1519\n",
      "3        AREQUIPA     843156        9718\n",
      "4        AYACUCHO     156990        2148\n",
      "5       CAJAMARCA     428833        4149\n",
      "6          CALLAO     715241       10055\n",
      "7           CUSCO       2003        4812\n",
      "8    HUANCAVELICA      62718        1176\n",
      "9         HUANUCO     163078        2701\n",
      "10            ICA     548606        8569\n",
      "11          JUNIN     519661        7061\n",
      "12    LA LIBERTAD     834518       10324\n",
      "13     LAMBAYEQUE     567017        8642\n",
      "14           LIMA    6354311       89006\n",
      "15         LORETO     259498        4266\n",
      "16  MADRE DE DIOS      53349         772\n",
      "17       MOQUEGUA      96511        1526\n",
      "18          PASCO      81308        1046\n",
      "19          PIURA     694375       12163\n",
      "20           PUNO     303010        4228\n",
      "21     SAN MARTIN     350882        3030\n",
      "22          TACNA     190169        1970\n",
      "23         TUMBES      83342        1586\n",
      "24        UCAYALI     157200        3059\n",
      "25           PERU   19220771      201527\n"
     ]
    }
   ],
   "source": [
    "print(vndxdep)"
   ]
  },
  {
   "cell_type": "markdown",
   "metadata": {},
   "source": [
    "## 4. Procesar el dataset por el número de habitantes correspondiente a cada departamento\n",
    "\n",
    "Datos de población estimada para el 2020 obtenida del reporte [«PERÚ:Estimaciones y Proyecciones de Población por Departamento, Provincia y Distrito, 2018 - 2020»](https://www.inei.gob.pe/media/MenuRecursivo/publicaciones_digitales/Est/Lib1715/Libro.pdf). Página 39 estimaciones de población total proyectada para 2020. Fuente: [INEI](https://www.inei.gob.pe/)."
   ]
  },
  {
   "cell_type": "code",
   "execution_count": 150,
   "metadata": {},
   "outputs": [],
   "source": [
    "dic_dep = {\n",
    "    \"AMAZONAS\"\t:\t426806,\n",
    "    \"ANCASH\"\t:\t1180638,\n",
    "    \"APURIMAC\"\t:\t430736,\n",
    "    \"AREQUIPA\"\t:\t1497438,\n",
    "    \"AYACUCHO\"\t:\t668213,\n",
    "    \"CAJAMARCA\"\t:\t1453711,\n",
    "    \"CALLAO\"\t:\t1129854,\n",
    "    \"CUSCO\"\t    :\t1357075,\n",
    "    \"HUANCAVELICA\":\t365317,\n",
    "    \"HUANUCO\"\t:\t760267,\n",
    "    \"ICA\"\t    :\t975182,\n",
    "    \"JUNIN\"\t    :\t1361467,\n",
    "    \"LA LIBERTAD\":\t2016771,\n",
    "    \"LAMBAYEQUE\":\t1310785,\n",
    "    \"LIMA\"\t    :\t10628470,\n",
    "    \"LORETO\"\t:\t1027559,\n",
    "    \"MADRE DE DIOS\":173811,\n",
    "    \"MOQUEGUA\"\t:\t192740,\n",
    "    \"PASCO\"\t    :\t271904,\n",
    "    \"PIURA\"\t    :\t2047954,\n",
    "    \"PUNO\"\t    :\t1237997,\n",
    "    \"SAN MARTIN\":\t899648,\n",
    "    \"TACNA\"\t    :\t370974,\n",
    "    \"TUMBES\"\t:\t251521,\n",
    "    \"UCAYALI\"\t:\t589110,\n",
    "    \"PERU\"  \t:\t32625948,\n",
    "}"
   ]
  },
  {
   "cell_type": "code",
   "execution_count": 151,
   "metadata": {},
   "outputs": [],
   "source": [
    "vndxdep['no_habitantes'] = vndxdep['departamento'].map(dic_dep)\n",
    "vndxdep = vndxdep[['departamento', 'no_habitantes', 'vacunados', 'fallecidos']]\n",
    "\n",
    "# Mortality rate per 100k per department\n",
    "vndxdep['tasa_mortalidad'] = round((vndxdep['fallecidos']/vndxdep['no_habitantes'])*100000,2)\n",
    "\n",
    "# % of people fully vaccinated per department\n",
    "vndxdep['vac_porcentaje'] = round((vndxdep['vacunados']*100)/vndxdep['no_habitantes'],2)"
   ]
  },
  {
   "cell_type": "code",
   "execution_count": 152,
   "metadata": {},
   "outputs": [
    {
     "name": "stdout",
     "output_type": "stream",
     "text": [
      "     departamento  no_habitantes  ...  tasa_mortalidad  vac_porcentaje\n",
      "0        AMAZONAS         426806  ...           298.26         1204.83\n",
      "1          ANCASH        1180638  ...           569.86           39.27\n",
      "2        APURIMAC         430736  ...           352.65           34.60\n",
      "3        AREQUIPA        1497438  ...           648.98           56.31\n",
      "4        AYACUCHO         668213  ...           321.45           23.49\n",
      "5       CAJAMARCA        1453711  ...           285.41           29.50\n",
      "6          CALLAO        1129854  ...           889.94           63.30\n",
      "7           CUSCO        1357075  ...           354.59            0.15\n",
      "8    HUANCAVELICA         365317  ...           321.91           17.17\n",
      "9         HUANUCO         760267  ...           355.27           21.45\n",
      "10            ICA         975182  ...           878.71           56.26\n",
      "11          JUNIN        1361467  ...           518.63           38.17\n",
      "12    LA LIBERTAD        2016771  ...           511.91           41.38\n",
      "13     LAMBAYEQUE        1310785  ...           659.30           43.26\n",
      "14           LIMA       10628470  ...           837.43           59.79\n",
      "15         LORETO        1027559  ...           415.16           25.25\n",
      "16  MADRE DE DIOS         173811  ...           444.16           30.69\n",
      "17       MOQUEGUA         192740  ...           791.74           50.07\n",
      "18          PASCO         271904  ...           384.69           29.90\n",
      "19          PIURA        2047954  ...           593.91           33.91\n",
      "20           PUNO        1237997  ...           341.52           24.48\n",
      "21     SAN MARTIN         899648  ...           336.80           39.00\n",
      "22          TACNA         370974  ...           531.03           51.26\n",
      "23         TUMBES         251521  ...           630.56           33.14\n",
      "24        UCAYALI         589110  ...           519.26           26.68\n",
      "25           PERU       32625948  ...           617.69           58.91\n",
      "\n",
      "[26 rows x 6 columns]\n"
     ]
    }
   ],
   "source": [
    "print(vndxdep)"
   ]
  },
  {
   "cell_type": "markdown",
   "metadata": {},
   "source": [
    "Guardamos:"
   ]
  },
  {
   "cell_type": "code",
   "execution_count": 21,
   "metadata": {},
   "outputs": [],
   "source": [
    "vndxdep.to_csv('Data/TOTAL_vacunados_y_fallecidos_x_departamento.csv',index = False)"
   ]
  }
 ],
 "metadata": {
  "interpreter": {
   "hash": "bea6116dd68ddf91c3cc5a29b631ef213aeb122ee277ca2ecd46a4cdc426254a"
  },
  "kernelspec": {
   "display_name": "Python 3 (Spyder)",
   "language": "python3",
   "name": "python3"
  },
  "language_info": {
   "codemirror_mode": {
    "name": "ipython",
    "version": 3
   },
   "file_extension": ".py",
   "mimetype": "text/x-python",
   "name": "python",
   "nbconvert_exporter": "python",
   "pygments_lexer": "ipython3",
   "version": "3.9.7"
  }
 },
 "nbformat": 4,
 "nbformat_minor": 4
}
