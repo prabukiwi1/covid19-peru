{
 "cells": [
  {
   "cell_type": "markdown",
   "metadata": {},
   "source": [
    "# Análisis exploratorio y descripción general de los datos a usar (RawData)\n",
    "\n",
    "## Introducción\n",
    "\n",
    "(Añadir descripción de cómo usar DataFiltering)"
   ]
  },
  {
   "cell_type": "markdown",
   "metadata": {},
   "source": [
    "## 0. Cargar librerías"
   ]
  },
  {
   "cell_type": "code",
   "execution_count": 1,
   "metadata": {},
   "outputs": [],
   "source": [
    "import pandas as pd\n",
    "import numpy as np\n",
    "import time as time\n",
    "import dask.dataframe as dd\n",
    "from tqdm import tqdm\n",
    "\n",
    "import functions as fn"
   ]
  },
  {
   "cell_type": "markdown",
   "metadata": {},
   "source": [
    "## 1. Cargar el dataset de fallecidos por COVID-19\n",
    "\n",
    "### Cargar el dataset"
   ]
  },
  {
   "cell_type": "code",
   "execution_count": 2,
   "metadata": {},
   "outputs": [
    {
     "data": {
      "text/html": [
       "<div>\n",
       "<style scoped>\n",
       "    .dataframe tbody tr th:only-of-type {\n",
       "        vertical-align: middle;\n",
       "    }\n",
       "\n",
       "    .dataframe tbody tr th {\n",
       "        vertical-align: top;\n",
       "    }\n",
       "\n",
       "    .dataframe thead th {\n",
       "        text-align: right;\n",
       "    }\n",
       "</style>\n",
       "<table border=\"1\" class=\"dataframe\">\n",
       "  <thead>\n",
       "    <tr style=\"text-align: right;\">\n",
       "      <th></th>\n",
       "      <th>FECHA_CORTE</th>\n",
       "      <th>FECHA_FALLECIMIENTO</th>\n",
       "      <th>EDAD_DECLARADA</th>\n",
       "      <th>SEXO</th>\n",
       "      <th>CLASIFICACION_DEF</th>\n",
       "      <th>DEPARTAMENTO</th>\n",
       "      <th>PROVINCIA</th>\n",
       "      <th>DISTRITO</th>\n",
       "      <th>UBIGEO</th>\n",
       "      <th>id_persona</th>\n",
       "    </tr>\n",
       "  </thead>\n",
       "  <tbody>\n",
       "    <tr>\n",
       "      <th>0</th>\n",
       "      <td>20220101</td>\n",
       "      <td>20211127</td>\n",
       "      <td>77</td>\n",
       "      <td>MASCULINO</td>\n",
       "      <td>Criterio virolÃ³gico</td>\n",
       "      <td>ANCASH</td>\n",
       "      <td>SANTA</td>\n",
       "      <td>NEPEÃA</td>\n",
       "      <td>021806</td>\n",
       "      <td>25819410.0</td>\n",
       "    </tr>\n",
       "    <tr>\n",
       "      <th>1</th>\n",
       "      <td>20220101</td>\n",
       "      <td>20210425</td>\n",
       "      <td>70</td>\n",
       "      <td>MASCULINO</td>\n",
       "      <td>Criterio virolÃ³gico</td>\n",
       "      <td>LIMA</td>\n",
       "      <td>LIMA</td>\n",
       "      <td>VILLA MARIA DEL TRIUNFO</td>\n",
       "      <td>150143</td>\n",
       "      <td>24693187.0</td>\n",
       "    </tr>\n",
       "    <tr>\n",
       "      <th>2</th>\n",
       "      <td>20220101</td>\n",
       "      <td>20210428</td>\n",
       "      <td>70</td>\n",
       "      <td>MASCULINO</td>\n",
       "      <td>Criterio virolÃ³gico</td>\n",
       "      <td>LIMA</td>\n",
       "      <td>LIMA</td>\n",
       "      <td>SAN JUAN DE MIRAFLORES</td>\n",
       "      <td>150133</td>\n",
       "      <td>24693271.0</td>\n",
       "    </tr>\n",
       "    <tr>\n",
       "      <th>3</th>\n",
       "      <td>20220101</td>\n",
       "      <td>20210430</td>\n",
       "      <td>59</td>\n",
       "      <td>FEMENINO</td>\n",
       "      <td>Criterio virolÃ³gico</td>\n",
       "      <td>AYACUCHO</td>\n",
       "      <td>HUANTA</td>\n",
       "      <td>HUANTA</td>\n",
       "      <td>050401</td>\n",
       "      <td>24735448.0</td>\n",
       "    </tr>\n",
       "    <tr>\n",
       "      <th>4</th>\n",
       "      <td>20220101</td>\n",
       "      <td>20210421</td>\n",
       "      <td>55</td>\n",
       "      <td>MASCULINO</td>\n",
       "      <td>Criterio SINADEF</td>\n",
       "      <td>LIMA</td>\n",
       "      <td>LIMA</td>\n",
       "      <td>ATE</td>\n",
       "      <td>150103</td>\n",
       "      <td>24786629.0</td>\n",
       "    </tr>\n",
       "  </tbody>\n",
       "</table>\n",
       "</div>"
      ],
      "text/plain": [
       "   FECHA_CORTE  FECHA_FALLECIMIENTO  EDAD_DECLARADA       SEXO  \\\n",
       "0     20220101             20211127              77  MASCULINO   \n",
       "1     20220101             20210425              70  MASCULINO   \n",
       "2     20220101             20210428              70  MASCULINO   \n",
       "3     20220101             20210430              59   FEMENINO   \n",
       "4     20220101             20210421              55  MASCULINO   \n",
       "\n",
       "      CLASIFICACION_DEF DEPARTAMENTO PROVINCIA                 DISTRITO  \\\n",
       "0  Criterio virolÃ³gico       ANCASH     SANTA                  NEPEÃA   \n",
       "1  Criterio virolÃ³gico         LIMA      LIMA  VILLA MARIA DEL TRIUNFO   \n",
       "2  Criterio virolÃ³gico         LIMA      LIMA   SAN JUAN DE MIRAFLORES   \n",
       "3  Criterio virolÃ³gico     AYACUCHO    HUANTA                   HUANTA   \n",
       "4      Criterio SINADEF         LIMA      LIMA                      ATE   \n",
       "\n",
       "   UBIGEO  id_persona  \n",
       "0  021806  25819410.0  \n",
       "1  150143  24693187.0  \n",
       "2  150133  24693271.0  \n",
       "3  050401  24735448.0  \n",
       "4  150103  24786629.0  "
      ]
     },
     "execution_count": 2,
     "metadata": {},
     "output_type": "execute_result"
    }
   ],
   "source": [
    "url_fal = 'RawData/fallecidos_covid.csv'\n",
    "df_fal = pd.read_csv(url_fal, sep = \";\", encoding= \"utf8\", low_memory=False)\n",
    "\n",
    "del url_fal\n",
    "df_fal.head()"
   ]
  },
  {
   "cell_type": "markdown",
   "metadata": {},
   "source": [
    "### Información general del dataset"
   ]
  },
  {
   "cell_type": "code",
   "execution_count": 6,
   "metadata": {},
   "outputs": [
    {
     "name": "stdout",
     "output_type": "stream",
     "text": [
      "<class 'pandas.core.frame.DataFrame'>\n",
      "RangeIndex: 202782 entries, 0 to 202781\n",
      "Data columns (total 10 columns):\n",
      " #   Column               Non-Null Count   Dtype  \n",
      "---  ------               --------------   -----  \n",
      " 0   FECHA_CORTE          202782 non-null  int64  \n",
      " 1   FECHA_FALLECIMIENTO  202782 non-null  int64  \n",
      " 2   EDAD_DECLARADA       202782 non-null  int64  \n",
      " 3   SEXO                 202782 non-null  object \n",
      " 4   CLASIFICACION_DEF    202782 non-null  object \n",
      " 5   DEPARTAMENTO         202782 non-null  object \n",
      " 6   PROVINCIA            202777 non-null  object \n",
      " 7   DISTRITO             202777 non-null  object \n",
      " 8   UBIGEO               202782 non-null  object \n",
      " 9   id_persona           199373 non-null  float64\n",
      "dtypes: float64(1), int64(3), object(6)\n",
      "memory usage: 15.5+ MB\n"
     ]
    }
   ],
   "source": [
    "df_fal.info()"
   ]
  },
  {
   "cell_type": "markdown",
   "metadata": {},
   "source": [
    "### Porcentaje de datos perdidos de cada variable"
   ]
  },
  {
   "cell_type": "code",
   "execution_count": 7,
   "metadata": {},
   "outputs": [
    {
     "data": {
      "text/html": [
       "<div>\n",
       "<style scoped>\n",
       "    .dataframe tbody tr th:only-of-type {\n",
       "        vertical-align: middle;\n",
       "    }\n",
       "\n",
       "    .dataframe tbody tr th {\n",
       "        vertical-align: top;\n",
       "    }\n",
       "\n",
       "    .dataframe thead th {\n",
       "        text-align: right;\n",
       "    }\n",
       "</style>\n",
       "<table border=\"1\" class=\"dataframe\">\n",
       "  <thead>\n",
       "    <tr style=\"text-align: right;\">\n",
       "      <th></th>\n",
       "      <th>index</th>\n",
       "      <th>percent_missing</th>\n",
       "    </tr>\n",
       "  </thead>\n",
       "  <tbody>\n",
       "    <tr>\n",
       "      <th>0</th>\n",
       "      <td>FECHA_CORTE</td>\n",
       "      <td>0.000000</td>\n",
       "    </tr>\n",
       "    <tr>\n",
       "      <th>1</th>\n",
       "      <td>FECHA_FALLECIMIENTO</td>\n",
       "      <td>0.000000</td>\n",
       "    </tr>\n",
       "    <tr>\n",
       "      <th>2</th>\n",
       "      <td>EDAD_DECLARADA</td>\n",
       "      <td>0.000000</td>\n",
       "    </tr>\n",
       "    <tr>\n",
       "      <th>3</th>\n",
       "      <td>SEXO</td>\n",
       "      <td>0.000000</td>\n",
       "    </tr>\n",
       "    <tr>\n",
       "      <th>4</th>\n",
       "      <td>CLASIFICACION_DEF</td>\n",
       "      <td>0.000000</td>\n",
       "    </tr>\n",
       "    <tr>\n",
       "      <th>5</th>\n",
       "      <td>DEPARTAMENTO</td>\n",
       "      <td>0.000000</td>\n",
       "    </tr>\n",
       "    <tr>\n",
       "      <th>6</th>\n",
       "      <td>PROVINCIA</td>\n",
       "      <td>0.002466</td>\n",
       "    </tr>\n",
       "    <tr>\n",
       "      <th>7</th>\n",
       "      <td>DISTRITO</td>\n",
       "      <td>0.002466</td>\n",
       "    </tr>\n",
       "    <tr>\n",
       "      <th>8</th>\n",
       "      <td>UBIGEO</td>\n",
       "      <td>0.000000</td>\n",
       "    </tr>\n",
       "    <tr>\n",
       "      <th>9</th>\n",
       "      <td>id_persona</td>\n",
       "      <td>1.681116</td>\n",
       "    </tr>\n",
       "  </tbody>\n",
       "</table>\n",
       "</div>"
      ],
      "text/plain": [
       "                 index  percent_missing\n",
       "0          FECHA_CORTE         0.000000\n",
       "1  FECHA_FALLECIMIENTO         0.000000\n",
       "2       EDAD_DECLARADA         0.000000\n",
       "3                 SEXO         0.000000\n",
       "4    CLASIFICACION_DEF         0.000000\n",
       "5         DEPARTAMENTO         0.000000\n",
       "6            PROVINCIA         0.002466\n",
       "7             DISTRITO         0.002466\n",
       "8               UBIGEO         0.000000\n",
       "9           id_persona         1.681116"
      ]
     },
     "execution_count": 7,
     "metadata": {},
     "output_type": "execute_result"
    }
   ],
   "source": [
    "fn.missing_values(df_fal)"
   ]
  },
  {
   "cell_type": "markdown",
   "metadata": {},
   "source": [
    "### Analizar cada variable del dataset de fallecidos"
   ]
  },
  {
   "cell_type": "markdown",
   "metadata": {},
   "source": [
    "#### 1.1. FECHA_CORTE"
   ]
  },
  {
   "cell_type": "code",
   "execution_count": 8,
   "metadata": {},
   "outputs": [
    {
     "name": "stdout",
     "output_type": "stream",
     "text": [
      "Fecha de corte:\n"
     ]
    },
    {
     "data": {
      "text/plain": [
       "20220101    202782\n",
       "Name: FECHA_CORTE, dtype: int64"
      ]
     },
     "execution_count": 8,
     "metadata": {},
     "output_type": "execute_result"
    }
   ],
   "source": [
    "print('Fecha de corte:')\n",
    "df_fal['FECHA_CORTE'].value_counts().sort_index()"
   ]
  },
  {
   "cell_type": "markdown",
   "metadata": {},
   "source": [
    "Todos los valores son iguales. La misma fecha de corte para n número de casos, variable no necesaria."
   ]
  },
  {
   "cell_type": "markdown",
   "metadata": {},
   "source": [
    "#### 1.2. FECHA_FALLECIMIENTO"
   ]
  },
  {
   "cell_type": "code",
   "execution_count": 9,
   "metadata": {},
   "outputs": [
    {
     "name": "stdout",
     "output_type": "stream",
     "text": [
      "Fecha del primer fallecido reportado: 2020-03-03\n",
      "Fecha del último fallecido reportado: 2022-01-01\n"
     ]
    }
   ],
   "source": [
    "# Fecha del primer fallecido reportado\n",
    "date_a = pd.to_datetime(df_fal['FECHA_FALLECIMIENTO'], format = '%Y%m%d').dt.date\n",
    "date_a = date_a.min()\n",
    "print(f'Fecha del primer fallecido reportado: {date_a}')\n",
    "del date_a\n",
    "\n",
    "# Fecha del último fallecido reportado\n",
    "date_b = pd.to_datetime(df_fal['FECHA_FALLECIMIENTO'], format = '%Y%m%d').dt.date\n",
    "date_b = date_b.max()\n",
    "print(f'Fecha del último fallecido reportado: {date_b}')\n",
    "del date_b"
   ]
  },
  {
   "cell_type": "markdown",
   "metadata": {},
   "source": [
    "#### 1.3. EDAD_DECLARADA"
   ]
  },
  {
   "cell_type": "code",
   "execution_count": 11,
   "metadata": {},
   "outputs": [
    {
     "name": "stdout",
     "output_type": "stream",
     "text": [
      "Edad (años): no_casos\n",
      "Desde la edad más común de fallecimientos a la menos común.\n",
      "\n",
      "66: 5501 80: 4144 48: 2221 34: 642   1: 149 102: 40\n",
      "67: 5407 58: 4027 89: 2085 33: 625  20: 113   5: 40\n",
      "65: 5394 79: 4020 47: 2029 95: 566  19: 111   6: 37\n",
      "68: 5356 57: 4003 90: 1870 32: 555 100: 106 103: 21\n",
      "70: 5255 82: 3856 46: 1855 96: 459   18: 89 104: 16\n",
      "72: 5200 81: 3823 45: 1780 31: 435    2: 83  106: 9\n",
      "73: 5188 56: 3714 44: 1679 30: 426   17: 77  108: 6\n",
      "69: 5164 55: 3694 43: 1504 29: 347   16: 77  105: 5\n",
      "64: 5100 83: 3566 91: 1446 27: 317  101: 71  107: 3\n",
      "74: 5084 54: 3442 42: 1357 28: 315    4: 63  109: 2\n",
      "71: 5065 84: 3399 92: 1351 97: 309   15: 56  113: 2\n",
      "63: 5055 85: 3217 41: 1268 26: 269   14: 53  110: 2\n",
      "61: 5047 53: 3112 40: 1094 98: 245   11: 52   -9: 1\n",
      "75: 4935 86: 2845 39: 1064 25: 244    8: 52  117: 1\n",
      "62: 4909 52: 2810 93: 1018 24: 204    9: 52  114: 1\n",
      "76: 4808 51: 2712  38: 975 99: 191    3: 51    None\n",
      "60: 4594 87: 2668  37: 834 23: 189   10: 50    None\n",
      "77: 4588 50: 2567  94: 760 21: 173    7: 46    None\n",
      "78: 4441 88: 2406  36: 690  0: 156   13: 44    None\n",
      "59: 4290 49: 2398  35: 652 22: 156   12: 42    None\n"
     ]
    }
   ],
   "source": [
    "fal_edad = df_fal['EDAD_DECLARADA'].value_counts()\n",
    "\n",
    "print('Edad (años): no_casos \\nDesde la edad más común de fallecimientos a la menos común.\\n')\n",
    "lst = []\n",
    "\n",
    "for idx, edad in enumerate(fal_edad):\n",
    "    index = fal_edad.index\n",
    "    lst.append(f'{index[idx]}: {edad}')\n",
    "    \n",
    "chunks = [lst[x:x+20] for x in range(0, len(lst), 20)]\n",
    "df = pd.DataFrame.from_records(chunks)\n",
    "df = df.transpose()\n",
    "print(df.to_string(index=False, header=False))\n",
    "\n",
    "del fal_edad, chunks, df, lst, edad, idx, index"
   ]
  },
  {
   "cell_type": "markdown",
   "metadata": {},
   "source": [
    "Existen valores negativos, necesario correguir. Edad mínima 0 años y edad máxima 117 años."
   ]
  },
  {
   "cell_type": "markdown",
   "metadata": {},
   "source": [
    "#### 1.4. SEXO"
   ]
  },
  {
   "cell_type": "code",
   "execution_count": 13,
   "metadata": {},
   "outputs": [
    {
     "name": "stdout",
     "output_type": "stream",
     "text": [
      ".: 3\n",
      "FEMENINO: 73685\n",
      "MASCULINO: 129094\n"
     ]
    }
   ],
   "source": [
    "fal_sexo = df_fal['SEXO'].value_counts().sort_index()\n",
    "\n",
    "for idx, sex in enumerate(fal_sexo):\n",
    "    index = fal_sexo.index\n",
    "    print(f'{index[idx]}: {sex}')\n",
    "\n",
    "del fal_sexo, sex, idx, index"
   ]
  },
  {
   "cell_type": "markdown",
   "metadata": {},
   "source": [
    "Hay puntos en lugar de vacíos."
   ]
  },
  {
   "cell_type": "markdown",
   "metadata": {},
   "source": [
    "#### 1.5. CLASIFICACION_DEF"
   ]
  },
  {
   "cell_type": "code",
   "execution_count": 15,
   "metadata": {},
   "outputs": [
    {
     "name": "stdout",
     "output_type": "stream",
     "text": [
      "Criterio SINADEF: 57884\n",
      "Criterio clÃ­nico: 9756\n",
      "Criterio investigaciÃ³n EpidemiolÃ³gica: 16078\n",
      "Criterio nexo epidemiolÃ³gico: 2951\n",
      "Criterio radiolÃ³gico: 6718\n",
      "Criterio serolÃ³gico: 44532\n",
      "Criterio virolÃ³gico: 64863\n"
     ]
    }
   ],
   "source": [
    "fal_cla = df_fal['CLASIFICACION_DEF'].value_counts().sort_index()\n",
    "\n",
    "for idx, clase in enumerate(fal_cla):\n",
    "    index = fal_cla.index\n",
    "    print(f'{index[idx]}: {clase}')\n",
    "\n",
    "del fal_cla, clase, idx, index"
   ]
  },
  {
   "cell_type": "markdown",
   "metadata": {},
   "source": [
    "#### 1.6. DEPARTAMENTO"
   ]
  },
  {
   "cell_type": "code",
   "execution_count": 16,
   "metadata": {},
   "outputs": [
    {
     "name": "stdout",
     "output_type": "stream",
     "text": [
      "AMAZONAS: 1288\n",
      "ANCASH: 6771\n",
      "APURIMAC: 1526\n",
      "AREQUIPA: 9765\n",
      "AYACUCHO: 2162\n",
      "CAJAMARCA: 4193\n",
      "CALLAO: 10123\n",
      "CUSCO: 4838\n",
      "HUANCAVELICA: 1183\n",
      "HUANUCO: 2721\n",
      "ICA: 8612\n",
      "JUNIN: 7106\n",
      "LA LIBERTAD: 10400\n",
      "LAMBAYEQUE: 8691\n",
      "LIMA: 89521\n",
      "LORETO: 4283\n",
      "MADRE DE DIOS: 777\n",
      "MOQUEGUA: 1537\n",
      "PASCO: 1056\n",
      "PIURA: 12279\n",
      "PUNO: 4264\n",
      "SAN MARTIN: 3048\n",
      "TACNA: 1978\n",
      "TUMBES: 1595\n",
      "UCAYALI: 3065\n",
      "\n",
      "Total fallecidos: 202782\n"
     ]
    }
   ],
   "source": [
    "fal_dep = df_fal['DEPARTAMENTO'].value_counts().sort_index()\n",
    "\n",
    "for idx, dep in enumerate(fal_dep):\n",
    "    index = fal_dep.index\n",
    "    print(f'{index[idx]}: {dep}')\n",
    "print(f'\\nTotal fallecidos: {fal_dep.sum()}')\n",
    "\n",
    "del fal_dep, dep, idx, index"
   ]
  },
  {
   "cell_type": "markdown",
   "metadata": {},
   "source": [
    "#### 1.7. PROVINCIAS"
   ]
  },
  {
   "cell_type": "code",
   "execution_count": 17,
   "metadata": {},
   "outputs": [
    {
     "name": "stdout",
     "output_type": "stream",
     "text": [
      "Igual que la variable departamento pero con 196 provincias.\n"
     ]
    }
   ],
   "source": [
    "fal_pro = df_fal['PROVINCIA'].value_counts().sort_index()\n",
    "print(f'Igual que la variable departamento pero con {len(fal_pro)} provincias.')\n",
    "del fal_pro"
   ]
  },
  {
   "cell_type": "markdown",
   "metadata": {},
   "source": [
    "#### 1.8. DISTRITO"
   ]
  },
  {
   "cell_type": "code",
   "execution_count": 18,
   "metadata": {},
   "outputs": [
    {
     "name": "stdout",
     "output_type": "stream",
     "text": [
      "Igual que la variable departamento pero con 1646 distritos.\n"
     ]
    }
   ],
   "source": [
    "fal_dis = df_fal['DISTRITO'].value_counts().sort_index()\n",
    "print(f'Igual que la variable departamento pero con {len(fal_dis)} distritos.')\n",
    "del fal_dis"
   ]
  },
  {
   "cell_type": "markdown",
   "metadata": {},
   "source": [
    "#### 1.9. UBIGEO"
   ]
  },
  {
   "cell_type": "code",
   "execution_count": 19,
   "metadata": {},
   "outputs": [
    {
     "name": "stdout",
     "output_type": "stream",
     "text": [
      "1781 códigos de UBIGEO, para localizar zonas.\n"
     ]
    }
   ],
   "source": [
    "fal_ubi = df_fal['UBIGEO'].value_counts().sort_index()\n",
    "print(f'{len(fal_ubi)} códigos de UBIGEO, para localizar zonas.')\n",
    "del fal_ubi"
   ]
  },
  {
   "cell_type": "markdown",
   "metadata": {},
   "source": [
    "#### 1.10. id_persona"
   ]
  },
  {
   "cell_type": "code",
   "execution_count": 25,
   "metadata": {},
   "outputs": [
    {
     "name": "stdout",
     "output_type": "stream",
     "text": [
      "ID únicos para identificar a cada persona: \n",
      "0    25819410\n",
      "1    24693187\n",
      "2    24693271\n",
      "3    24735448\n",
      "4    24786629\n"
     ]
    }
   ],
   "source": [
    "df_fal['id_persona'] = df_fal['id_persona'].fillna(0)\n",
    "df_fal['id_persona'] = df_fal['id_persona'].apply(np.int64)\n",
    "\n",
    "print('ID únicos para identificar a cada persona: ')\n",
    "print(df_fal['id_persona'].head().to_string(header=False))"
   ]
  },
  {
   "cell_type": "code",
   "execution_count": 26,
   "metadata": {},
   "outputs": [],
   "source": [
    "del df_fal"
   ]
  },
  {
   "cell_type": "markdown",
   "metadata": {},
   "source": [
    "## 2. Cargar el dataset de vacunados contra COVID-19\n",
    "\n",
    "### Cargar usando dask, debido al tamaño del csv"
   ]
  },
  {
   "cell_type": "code",
   "execution_count": 4,
   "metadata": {},
   "outputs": [
    {
     "name": "stdout",
     "output_type": "stream",
     "text": [
      "Read csv with dask:  0.02258753776550293 sec\n"
     ]
    },
    {
     "data": {
      "text/html": [
       "<div>\n",
       "<style scoped>\n",
       "    .dataframe tbody tr th:only-of-type {\n",
       "        vertical-align: middle;\n",
       "    }\n",
       "\n",
       "    .dataframe tbody tr th {\n",
       "        vertical-align: top;\n",
       "    }\n",
       "\n",
       "    .dataframe thead th {\n",
       "        text-align: right;\n",
       "    }\n",
       "</style>\n",
       "<table border=\"1\" class=\"dataframe\">\n",
       "  <thead>\n",
       "    <tr style=\"text-align: right;\">\n",
       "      <th></th>\n",
       "      <th>id_persona</th>\n",
       "      <th>id_vacunados_covid19</th>\n",
       "      <th>fecha_vacunacion</th>\n",
       "      <th>id_eess</th>\n",
       "      <th>id_centro_vacunacion</th>\n",
       "      <th>id_vacuna</th>\n",
       "      <th>id_grupo_riesgo</th>\n",
       "      <th>dosis</th>\n",
       "      <th>edad</th>\n",
       "    </tr>\n",
       "  </thead>\n",
       "  <tbody>\n",
       "    <tr>\n",
       "      <th>0</th>\n",
       "      <td>5619296</td>\n",
       "      <td>27392550</td>\n",
       "      <td>20211211</td>\n",
       "      <td>26148</td>\n",
       "      <td>154</td>\n",
       "      <td>1</td>\n",
       "      <td>68</td>\n",
       "      <td>1</td>\n",
       "      <td>36.0</td>\n",
       "    </tr>\n",
       "    <tr>\n",
       "      <th>1</th>\n",
       "      <td>5736337</td>\n",
       "      <td>27393830</td>\n",
       "      <td>20210922</td>\n",
       "      <td>8915</td>\n",
       "      <td>3361</td>\n",
       "      <td>6</td>\n",
       "      <td>68</td>\n",
       "      <td>2</td>\n",
       "      <td>33.0</td>\n",
       "    </tr>\n",
       "    <tr>\n",
       "      <th>2</th>\n",
       "      <td>9191009</td>\n",
       "      <td>39824666</td>\n",
       "      <td>20211217</td>\n",
       "      <td>25811</td>\n",
       "      <td>1813</td>\n",
       "      <td>5</td>\n",
       "      <td>77</td>\n",
       "      <td>2</td>\n",
       "      <td>16.0</td>\n",
       "    </tr>\n",
       "    <tr>\n",
       "      <th>3</th>\n",
       "      <td>11009648</td>\n",
       "      <td>45081339</td>\n",
       "      <td>20211123</td>\n",
       "      <td>26478</td>\n",
       "      <td>2968</td>\n",
       "      <td>1</td>\n",
       "      <td>71</td>\n",
       "      <td>1</td>\n",
       "      <td>21.0</td>\n",
       "    </tr>\n",
       "    <tr>\n",
       "      <th>4</th>\n",
       "      <td>9280212</td>\n",
       "      <td>38775211</td>\n",
       "      <td>20211116</td>\n",
       "      <td>15610</td>\n",
       "      <td>0</td>\n",
       "      <td>6</td>\n",
       "      <td>71</td>\n",
       "      <td>1</td>\n",
       "      <td>28.0</td>\n",
       "    </tr>\n",
       "  </tbody>\n",
       "</table>\n",
       "</div>"
      ],
      "text/plain": [
       "   id_persona  id_vacunados_covid19  fecha_vacunacion  id_eess  \\\n",
       "0     5619296              27392550          20211211    26148   \n",
       "1     5736337              27393830          20210922     8915   \n",
       "2     9191009              39824666          20211217    25811   \n",
       "3    11009648              45081339          20211123    26478   \n",
       "4     9280212              38775211          20211116    15610   \n",
       "\n",
       "  id_centro_vacunacion id_vacuna id_grupo_riesgo dosis  edad  \n",
       "0                  154         1              68     1  36.0  \n",
       "1                 3361         6              68     2  33.0  \n",
       "2                 1813         5              77     2  16.0  \n",
       "3                 2968         1              71     1  21.0  \n",
       "4                    0         6              71     1  28.0  "
      ]
     },
     "execution_count": 4,
     "metadata": {},
     "output_type": "execute_result"
    }
   ],
   "source": [
    "url_vac = 'RawData/TB_VACUNACION_COVID19.csv'\n",
    "\n",
    "start = time.time()\n",
    "df_vac = dd.read_csv(url_vac, sep = \",\", dtype = {'fecha_vacunacion':'int32', 'id_eess': 'int32',\n",
    "                                                  'dosis': 'category','id_centro_vacunacion': 'category',\n",
    "                                                  'id_vacuna': 'category','id_grupo_riesgo': 'category', \n",
    "                                                  'edad':'float64'})\n",
    "end = time.time()\n",
    "print(\"Read csv with dask: \",(end-start),\"sec\")\n",
    "\n",
    "del url_vac, start, end\n",
    "df_vac.head()"
   ]
  },
  {
   "cell_type": "markdown",
   "metadata": {},
   "source": [
    "### Porcentaje de datos perdidos de cada variable"
   ]
  },
  {
   "cell_type": "code",
   "execution_count": 69,
   "metadata": {},
   "outputs": [
    {
     "data": {
      "text/html": [
       "<div>\n",
       "<style scoped>\n",
       "    .dataframe tbody tr th:only-of-type {\n",
       "        vertical-align: middle;\n",
       "    }\n",
       "\n",
       "    .dataframe tbody tr th {\n",
       "        vertical-align: top;\n",
       "    }\n",
       "\n",
       "    .dataframe thead th {\n",
       "        text-align: right;\n",
       "    }\n",
       "</style>\n",
       "<table border=\"1\" class=\"dataframe\">\n",
       "  <thead>\n",
       "    <tr style=\"text-align: right;\">\n",
       "      <th></th>\n",
       "      <th>index</th>\n",
       "      <th>percent_missing</th>\n",
       "    </tr>\n",
       "  </thead>\n",
       "  <tbody>\n",
       "    <tr>\n",
       "      <th>0</th>\n",
       "      <td>0</td>\n",
       "      <td>0.000000</td>\n",
       "    </tr>\n",
       "    <tr>\n",
       "      <th>1</th>\n",
       "      <td>1</td>\n",
       "      <td>0.000000</td>\n",
       "    </tr>\n",
       "    <tr>\n",
       "      <th>2</th>\n",
       "      <td>2</td>\n",
       "      <td>0.000000</td>\n",
       "    </tr>\n",
       "    <tr>\n",
       "      <th>3</th>\n",
       "      <td>3</td>\n",
       "      <td>0.000000</td>\n",
       "    </tr>\n",
       "    <tr>\n",
       "      <th>4</th>\n",
       "      <td>4</td>\n",
       "      <td>0.000000</td>\n",
       "    </tr>\n",
       "    <tr>\n",
       "      <th>5</th>\n",
       "      <td>5</td>\n",
       "      <td>0.000000</td>\n",
       "    </tr>\n",
       "    <tr>\n",
       "      <th>6</th>\n",
       "      <td>6</td>\n",
       "      <td>0.000000</td>\n",
       "    </tr>\n",
       "    <tr>\n",
       "      <th>7</th>\n",
       "      <td>7</td>\n",
       "      <td>0.000000</td>\n",
       "    </tr>\n",
       "    <tr>\n",
       "      <th>8</th>\n",
       "      <td>8</td>\n",
       "      <td>0.008505</td>\n",
       "    </tr>\n",
       "  </tbody>\n",
       "</table>\n",
       "</div>"
      ],
      "text/plain": [
       "   index  percent_missing\n",
       "0      0         0.000000\n",
       "1      1         0.000000\n",
       "2      2         0.000000\n",
       "3      3         0.000000\n",
       "4      4         0.000000\n",
       "5      5         0.000000\n",
       "6      6         0.000000\n",
       "7      7         0.000000\n",
       "8      8         0.008505"
      ]
     },
     "execution_count": 69,
     "metadata": {},
     "output_type": "execute_result"
    }
   ],
   "source": [
    "fn.missing_values(df_vac)"
   ]
  },
  {
   "cell_type": "markdown",
   "metadata": {},
   "source": [
    "### Analizar cada variable del dataset de vacunados"
   ]
  },
  {
   "cell_type": "markdown",
   "metadata": {},
   "source": [
    "#### 2.1. id_persona"
   ]
  },
  {
   "cell_type": "code",
   "execution_count": 3,
   "metadata": {},
   "outputs": [
    {
     "name": "stdout",
     "output_type": "stream",
     "text": [
      "ID únicos para identificar a cada persona:\n"
     ]
    },
    {
     "data": {
      "text/plain": [
       "0    8255057\n",
       "1    5239468\n",
       "2    5922737\n",
       "3    1139188\n",
       "4    1076540\n",
       "Name: id_persona, dtype: int64"
      ]
     },
     "execution_count": 3,
     "metadata": {},
     "output_type": "execute_result"
    }
   ],
   "source": [
    "print('ID únicos para identificar a cada persona:')\n",
    "df_vac['id_persona'].head()"
   ]
  },
  {
   "cell_type": "markdown",
   "metadata": {},
   "source": [
    "#### 2.2. id_vacunados_covid19"
   ]
  },
  {
   "cell_type": "code",
   "execution_count": 30,
   "metadata": {},
   "outputs": [
    {
     "name": "stdout",
     "output_type": "stream",
     "text": [
      "ID únicos para identificar a cada vacunado (como un contador de cada vacuna aplicada):\n"
     ]
    },
    {
     "data": {
      "text/plain": [
       "0    45853675\n",
       "1    31291708\n",
       "2    33782258\n",
       "3     3818412\n",
       "4     3819052\n",
       "Name: id_vacunados_covid19, dtype: int64"
      ]
     },
     "execution_count": 30,
     "metadata": {},
     "output_type": "execute_result"
    }
   ],
   "source": [
    "print('ID únicos para identificar a cada vacunado (como un contador de cada vacuna aplicada):')\n",
    "df_vac['id_vacunados_covid19'].head()"
   ]
  },
  {
   "cell_type": "markdown",
   "metadata": {},
   "source": [
    "#### 2.3. fecha_vacunacion"
   ]
  },
  {
   "cell_type": "code",
   "execution_count": 3,
   "metadata": {},
   "outputs": [
    {
     "name": "stdout",
     "output_type": "stream",
     "text": [
      "Fecha de inicio de vacunación: 2020-04-27 00:00:00 \n",
      "Fecha última vacunación: 2022-01-03 00:00:00\n"
     ]
    }
   ],
   "source": [
    "date_a = df_vac['fecha_vacunacion'].min().compute()\n",
    "date_a = pd.to_datetime(date_a, format = '%Y%m%d')\n",
    "\n",
    "date_b = df_vac['fecha_vacunacion'].max().compute()\n",
    "date_b = pd.to_datetime(date_b, format = '%Y%m%d')\n",
    "\n",
    "print(f'Fecha de inicio de vacunación: {date_a} \\nFecha última vacunación: {date_b}')\n",
    "del date_a, date_b"
   ]
  },
  {
   "cell_type": "markdown",
   "metadata": {},
   "source": [
    "#### 2.4. id_eess"
   ]
  },
  {
   "cell_type": "code",
   "execution_count": 4,
   "metadata": {},
   "outputs": [
    {
     "name": "stdout",
     "output_type": "stream",
     "text": [
      "id_iess\tnumber\n"
     ]
    },
    {
     "data": {
      "text/plain": [
       "33          36\n",
       "49         220\n",
       "51        1419\n",
       "52        2143\n",
       "53          63\n",
       "         ...  \n",
       "28772      731\n",
       "28780       23\n",
       "28791      611\n",
       "28806    11035\n",
       "28820      691\n",
       "Name: id_eess, Length: 7875, dtype: int64"
      ]
     },
     "execution_count": 4,
     "metadata": {},
     "output_type": "execute_result"
    }
   ],
   "source": [
    "print(f'id_iess\\tnumber')\n",
    "df_vac.id_eess.value_counts().compute().sort_index()"
   ]
  },
  {
   "cell_type": "markdown",
   "metadata": {},
   "source": [
    "#### 2.5. id_centro_vacunacion\t"
   ]
  },
  {
   "cell_type": "code",
   "execution_count": 38,
   "metadata": {},
   "outputs": [
    {
     "name": "stdout",
     "output_type": "stream",
     "text": [
      "id_centro_vacunacion\tnumber\n"
     ]
    },
    {
     "data": {
      "text/plain": [
       "0       14609823\n",
       "1           1924\n",
       "3         453905\n",
       "5          24562\n",
       "6         103575\n",
       "          ...   \n",
       "4986         316\n",
       "4987           6\n",
       "4993          93\n",
       "4997           6\n",
       "4998          15\n",
       "Name: id_centro_vacunacion, Length: 3436, dtype: int64"
      ]
     },
     "execution_count": 38,
     "metadata": {},
     "output_type": "execute_result"
    }
   ],
   "source": [
    "print(f'id_centro_vacunacion\\tnumber')\n",
    "df_vac.id_centro_vacunacion.value_counts().compute().sort_index()"
   ]
  },
  {
   "cell_type": "markdown",
   "metadata": {},
   "source": [
    "#### 2.6. id_vacuna"
   ]
  },
  {
   "cell_type": "code",
   "execution_count": 39,
   "metadata": {},
   "outputs": [
    {
     "name": "stdout",
     "output_type": "stream",
     "text": [
      "id_vacuna\tnumber\n"
     ]
    },
    {
     "data": {
      "text/plain": [
       "1     3155019\n",
       "2      371422\n",
       "3      396775\n",
       "4      700791\n",
       "5    26693862\n",
       "6    18512653\n",
       "Name: id_vacuna, dtype: int64"
      ]
     },
     "execution_count": 39,
     "metadata": {},
     "output_type": "execute_result"
    }
   ],
   "source": [
    "print(f'id_vacuna\\tnumber')\n",
    "df_vac.id_vacuna.value_counts().compute().sort_index()"
   ]
  },
  {
   "cell_type": "markdown",
   "metadata": {},
   "source": [
    "#### 2.7. id_grupo_riesgo"
   ]
  },
  {
   "cell_type": "code",
   "execution_count": 41,
   "metadata": {},
   "outputs": [
    {
     "data": {
      "text/plain": [
       "0        3909\n",
       "1         207\n",
       "4       30366\n",
       "6        2294\n",
       "7      315102\n",
       "11     226950\n",
       "12     334325\n",
       "17    1535045\n",
       "22     111433\n",
       "23     414681\n",
       "24       1657\n",
       "26       4043\n",
       "36      40348\n",
       "40     343179\n",
       "45      16969\n",
       "47      18389\n",
       "50      17481\n",
       "51       9817\n",
       "52       1165\n",
       "53      18131\n",
       "54    9439904\n",
       "56      28974\n",
       "57     106056\n",
       "58     110514\n",
       "59       3061\n",
       "60      30100\n",
       "61      11236\n",
       "62    5945090\n",
       "63      36410\n",
       "64      70599\n",
       "65      44686\n",
       "66     255361\n",
       "67    7387919\n",
       "68    8056930\n",
       "69     129794\n",
       "70    1658634\n",
       "71    8339201\n",
       "72       4924\n",
       "73       4757\n",
       "74       3213\n",
       "75       4633\n",
       "76      17447\n",
       "77    4694589\n",
       "78        918\n",
       "79         81\n",
       "Name: id_grupo_riesgo, dtype: int64"
      ]
     },
     "execution_count": 41,
     "metadata": {},
     "output_type": "execute_result"
    }
   ],
   "source": [
    "df_vac.id_grupo_riesgo.value_counts().compute().sort_index()"
   ]
  },
  {
   "cell_type": "markdown",
   "metadata": {},
   "source": [
    "#### 2.8. dosis"
   ]
  },
  {
   "cell_type": "code",
   "execution_count": 4,
   "metadata": {
    "scrolled": true
   },
   "outputs": [
    {
     "name": "stdout",
     "output_type": "stream",
     "text": [
      "dosis\tnumber\n"
     ]
    },
    {
     "data": {
      "text/plain": [
       "1    24455931\n",
       "2    21472095\n",
       "3     3902389\n",
       "4         101\n",
       "5           6\n",
       "Name: dosis, dtype: int64"
      ]
     },
     "execution_count": 4,
     "metadata": {},
     "output_type": "execute_result"
    }
   ],
   "source": [
    "print(f'dosis\\tnumber')\n",
    "df_vac.dosis.value_counts().compute()"
   ]
  },
  {
   "cell_type": "markdown",
   "metadata": {},
   "source": [
    "#### 2.9. edad"
   ]
  },
  {
   "cell_type": "code",
   "execution_count": 5,
   "metadata": {},
   "outputs": [
    {
     "data": {
      "text/plain": [
       "0.0      3\n",
       "1.0      2\n",
       "2.0      4\n",
       "3.0      2\n",
       "4.0      7\n",
       "        ..\n",
       "141.0    2\n",
       "143.0    2\n",
       "146.0    2\n",
       "147.0    1\n",
       "224.0    2\n",
       "Name: edad, Length: 136, dtype: int64"
      ]
     },
     "execution_count": 5,
     "metadata": {},
     "output_type": "execute_result"
    }
   ],
   "source": [
    "df_vac.edad.value_counts().compute().sort_index()"
   ]
  },
  {
   "cell_type": "markdown",
   "metadata": {},
   "source": [
    "## 3. Cargar el dataset de casos positivos de COVID-19\n",
    "\n",
    "### Cargar el dataset"
   ]
  },
  {
   "cell_type": "code",
   "execution_count": 3,
   "metadata": {},
   "outputs": [
    {
     "data": {
      "text/html": [
       "<div>\n",
       "<style scoped>\n",
       "    .dataframe tbody tr th:only-of-type {\n",
       "        vertical-align: middle;\n",
       "    }\n",
       "\n",
       "    .dataframe tbody tr th {\n",
       "        vertical-align: top;\n",
       "    }\n",
       "\n",
       "    .dataframe thead th {\n",
       "        text-align: right;\n",
       "    }\n",
       "</style>\n",
       "<table border=\"1\" class=\"dataframe\">\n",
       "  <thead>\n",
       "    <tr style=\"text-align: right;\">\n",
       "      <th></th>\n",
       "      <th>FECHA_CORTE</th>\n",
       "      <th>DEPARTAMENTO</th>\n",
       "      <th>PROVINCIA</th>\n",
       "      <th>DISTRITO</th>\n",
       "      <th>METODODX</th>\n",
       "      <th>EDAD</th>\n",
       "      <th>SEXO</th>\n",
       "      <th>FECHA_RESULTADO</th>\n",
       "      <th>UBIGEO</th>\n",
       "      <th>id_persona</th>\n",
       "    </tr>\n",
       "  </thead>\n",
       "  <tbody>\n",
       "    <tr>\n",
       "      <th>0</th>\n",
       "      <td>20220101</td>\n",
       "      <td>LIMA</td>\n",
       "      <td>LIMA</td>\n",
       "      <td>SAN MARTIN DE PORRES</td>\n",
       "      <td>PR</td>\n",
       "      <td>25.0</td>\n",
       "      <td>MASCULINO</td>\n",
       "      <td>20201217.0</td>\n",
       "      <td>150135.0</td>\n",
       "      <td>24662153.0</td>\n",
       "    </tr>\n",
       "    <tr>\n",
       "      <th>1</th>\n",
       "      <td>20220101</td>\n",
       "      <td>ICA</td>\n",
       "      <td>PISCO</td>\n",
       "      <td>PISCO</td>\n",
       "      <td>PR</td>\n",
       "      <td>20.0</td>\n",
       "      <td>FEMENINO</td>\n",
       "      <td>20200822.0</td>\n",
       "      <td>110501.0</td>\n",
       "      <td>24662175.0</td>\n",
       "    </tr>\n",
       "    <tr>\n",
       "      <th>2</th>\n",
       "      <td>20220101</td>\n",
       "      <td>HUANUCO</td>\n",
       "      <td>HUANUCO</td>\n",
       "      <td>HUANUCO</td>\n",
       "      <td>PR</td>\n",
       "      <td>22.0</td>\n",
       "      <td>FEMENINO</td>\n",
       "      <td>20200729.0</td>\n",
       "      <td>100101.0</td>\n",
       "      <td>24662197.0</td>\n",
       "    </tr>\n",
       "    <tr>\n",
       "      <th>3</th>\n",
       "      <td>20220101</td>\n",
       "      <td>ANCASH</td>\n",
       "      <td>SANTA</td>\n",
       "      <td>SANTA</td>\n",
       "      <td>AG</td>\n",
       "      <td>18.0</td>\n",
       "      <td>FEMENINO</td>\n",
       "      <td>20210630.0</td>\n",
       "      <td>21808.0</td>\n",
       "      <td>24662204.0</td>\n",
       "    </tr>\n",
       "    <tr>\n",
       "      <th>4</th>\n",
       "      <td>20220101</td>\n",
       "      <td>ANCASH</td>\n",
       "      <td>SANTA</td>\n",
       "      <td>NUEVO CHIMBOTE</td>\n",
       "      <td>AG</td>\n",
       "      <td>17.0</td>\n",
       "      <td>MASCULINO</td>\n",
       "      <td>20210404.0</td>\n",
       "      <td>21809.0</td>\n",
       "      <td>24662207.0</td>\n",
       "    </tr>\n",
       "  </tbody>\n",
       "</table>\n",
       "</div>"
      ],
      "text/plain": [
       "   FECHA_CORTE DEPARTAMENTO PROVINCIA              DISTRITO METODODX  EDAD  \\\n",
       "0     20220101         LIMA      LIMA  SAN MARTIN DE PORRES       PR  25.0   \n",
       "1     20220101          ICA     PISCO                 PISCO       PR  20.0   \n",
       "2     20220101      HUANUCO   HUANUCO               HUANUCO       PR  22.0   \n",
       "3     20220101       ANCASH     SANTA                 SANTA       AG  18.0   \n",
       "4     20220101       ANCASH     SANTA        NUEVO CHIMBOTE       AG  17.0   \n",
       "\n",
       "        SEXO  FECHA_RESULTADO    UBIGEO  id_persona  \n",
       "0  MASCULINO       20201217.0  150135.0  24662153.0  \n",
       "1   FEMENINO       20200822.0  110501.0  24662175.0  \n",
       "2   FEMENINO       20200729.0  100101.0  24662197.0  \n",
       "3   FEMENINO       20210630.0   21808.0  24662204.0  \n",
       "4  MASCULINO       20210404.0   21809.0  24662207.0  "
      ]
     },
     "execution_count": 3,
     "metadata": {},
     "output_type": "execute_result"
    }
   ],
   "source": [
    "url_cas = 'RawData/positivos_covid.csv'\n",
    "df_cas = pd.read_csv('RawData/positivos_covid.csv', sep = ';')\n",
    "\n",
    "del url_cas\n",
    "df_cas.head()"
   ]
  },
  {
   "cell_type": "markdown",
   "metadata": {},
   "source": [
    "### Porcentaje de datos perdidos de cada variable"
   ]
  },
  {
   "cell_type": "code",
   "execution_count": 5,
   "metadata": {},
   "outputs": [
    {
     "data": {
      "text/html": [
       "<div>\n",
       "<style scoped>\n",
       "    .dataframe tbody tr th:only-of-type {\n",
       "        vertical-align: middle;\n",
       "    }\n",
       "\n",
       "    .dataframe tbody tr th {\n",
       "        vertical-align: top;\n",
       "    }\n",
       "\n",
       "    .dataframe thead th {\n",
       "        text-align: right;\n",
       "    }\n",
       "</style>\n",
       "<table border=\"1\" class=\"dataframe\">\n",
       "  <thead>\n",
       "    <tr style=\"text-align: right;\">\n",
       "      <th></th>\n",
       "      <th>index</th>\n",
       "      <th>percent_missing</th>\n",
       "    </tr>\n",
       "  </thead>\n",
       "  <tbody>\n",
       "    <tr>\n",
       "      <th>0</th>\n",
       "      <td>FECHA_CORTE</td>\n",
       "      <td>0.000000</td>\n",
       "    </tr>\n",
       "    <tr>\n",
       "      <th>1</th>\n",
       "      <td>DEPARTAMENTO</td>\n",
       "      <td>0.000000</td>\n",
       "    </tr>\n",
       "    <tr>\n",
       "      <th>2</th>\n",
       "      <td>PROVINCIA</td>\n",
       "      <td>0.000000</td>\n",
       "    </tr>\n",
       "    <tr>\n",
       "      <th>3</th>\n",
       "      <td>DISTRITO</td>\n",
       "      <td>0.000000</td>\n",
       "    </tr>\n",
       "    <tr>\n",
       "      <th>4</th>\n",
       "      <td>METODODX</td>\n",
       "      <td>0.000000</td>\n",
       "    </tr>\n",
       "    <tr>\n",
       "      <th>5</th>\n",
       "      <td>EDAD</td>\n",
       "      <td>0.015069</td>\n",
       "    </tr>\n",
       "    <tr>\n",
       "      <th>6</th>\n",
       "      <td>SEXO</td>\n",
       "      <td>0.000043</td>\n",
       "    </tr>\n",
       "    <tr>\n",
       "      <th>7</th>\n",
       "      <td>FECHA_RESULTADO</td>\n",
       "      <td>0.087854</td>\n",
       "    </tr>\n",
       "    <tr>\n",
       "      <th>8</th>\n",
       "      <td>UBIGEO</td>\n",
       "      <td>4.884530</td>\n",
       "    </tr>\n",
       "    <tr>\n",
       "      <th>9</th>\n",
       "      <td>id_persona</td>\n",
       "      <td>1.752829</td>\n",
       "    </tr>\n",
       "  </tbody>\n",
       "</table>\n",
       "</div>"
      ],
      "text/plain": [
       "             index  percent_missing\n",
       "0      FECHA_CORTE         0.000000\n",
       "1     DEPARTAMENTO         0.000000\n",
       "2        PROVINCIA         0.000000\n",
       "3         DISTRITO         0.000000\n",
       "4         METODODX         0.000000\n",
       "5             EDAD         0.015069\n",
       "6             SEXO         0.000043\n",
       "7  FECHA_RESULTADO         0.087854\n",
       "8           UBIGEO         4.884530\n",
       "9       id_persona         1.752829"
      ]
     },
     "execution_count": 5,
     "metadata": {},
     "output_type": "execute_result"
    }
   ],
   "source": [
    "fn.missing_values(df_cas)"
   ]
  },
  {
   "cell_type": "markdown",
   "metadata": {},
   "source": [
    "### Analizar cada variable del dataset de casos reportados"
   ]
  }
 ],
 "metadata": {
  "interpreter": {
   "hash": "c5969b0444520e9aeee25788533910dfe0ee1a9ff4ff2cc0b07d55f5d197aaba"
  },
  "kernelspec": {
   "display_name": "Python 3.8.8 64-bit ('base': conda)",
   "language": "python",
   "name": "python3"
  },
  "language_info": {
   "codemirror_mode": {
    "name": "ipython",
    "version": 3
   },
   "file_extension": ".py",
   "mimetype": "text/x-python",
   "name": "python",
   "nbconvert_exporter": "python",
   "pygments_lexer": "ipython3",
   "version": "3.8.12"
  }
 },
 "nbformat": 4,
 "nbformat_minor": 4
}
