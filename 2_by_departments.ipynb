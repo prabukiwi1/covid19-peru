{
 "cells": [
  {
   "cell_type": "markdown",
   "metadata": {},
   "source": [
    "# Getting the TOTAL DEATHS from COVID-19 of the 24 departments of Peru\n",
    "\n",
    "## 0. Run libraries\n",
    "Empezamos cargando las librerías que necesitamos y leyendo nuestro csv actualizado de fallecidos por COVID-19."
   ]
  },
  {
   "cell_type": "code",
   "execution_count": 48,
   "metadata": {},
   "outputs": [],
   "source": [
    "import pandas as pd\n",
    "import numpy as np\n",
    "\n",
    "import functions as fn"
   ]
  },
  {
   "cell_type": "markdown",
   "metadata": {},
   "source": [
    "## 1."
   ]
  },
  {
   "cell_type": "code",
   "execution_count": null,
   "metadata": {},
   "outputs": [],
   "source": [
    "def just_cities(fal_url):\n",
    "    \"\"\"\n",
    "    Función para filtrar a cada fallecido reportado en su año\n",
    "    y semana epidemiológica en ciudad (Fallecidos = fal, Vacunados = vac)\n",
    "    \"\"\"     \n",
    "    # Seleccionamos solo las col 'FECHA_FALLECIMIENTO' y 'DEPARTAMENTO'      \n",
    "    fal_col = ['FECHA_FALLECIMIENTO', 'DEPARTAMENTO']   \n",
    "    df_fal = fn.read_largeCSV_file(fal_url, ';', fal_col)\n",
    "    fn.variable_fecha(df_fal, 'FECHA_FALLECIMIENTO')\n",
    "    fn.date_to_epiweek(df_fal,'FECHA_FALLECIMIENTO')\n",
    "    df_fal['fallecido'] = 1                                         \n",
    "    df_fal['fallecido'].apply(np.int8) \n",
    "    df_fal.info()\n",
    "    \n",
    "    return df_fal\n",
    "\n",
    "\n",
    "fal_url = \"RawData/fallecidos_covid.csv\"\n",
    "df = just_cities(fal_url)\n",
    "del fal_url"
   ]
  },
  {
   "cell_type": "code",
   "execution_count": null,
   "metadata": {},
   "outputs": [],
   "source": [
    "print(df.head())"
   ]
  },
  {
   "cell_type": "markdown",
   "metadata": {},
   "source": [
    "Realizamos un crosstab de del total de fallecidos por COVID-19 por departamento del Perú, por cada semana y año epidemiológico."
   ]
  },
  {
   "cell_type": "code",
   "execution_count": null,
   "metadata": {},
   "outputs": [],
   "source": [
    "epi_ciudades = pd.crosstab(index=[df['epi_year'], df['epi_week']],\n",
    "                           columns=[df['fallecido'], df['DEPARTAMENTO']],\n",
    "                           margins = True)\n",
    "\n",
    "epi_ciudades.to_csv('Data/fallecidosXciudadesXsemanasEpi.csv')\n",
    "                           "
   ]
  },
  {
   "cell_type": "markdown",
   "metadata": {},
   "source": [
    "Ahora realizamos un crosstab del TOTAL de fallecidos por departamento."
   ]
  },
  {
   "cell_type": "code",
   "execution_count": null,
   "metadata": {},
   "outputs": [],
   "source": [
    "fal_ciudades = pd.crosstab(index = df['DEPARTAMENTO'],\n",
    "                           columns = df['fallecido'],\n",
    "                           margins = True)\n",
    "del fal_ciudades[\"All\"]\n",
    "fal_ciudades.columns = ['fallecidos']\n",
    "fal_ciudades.rename(index={'All': 'PERÚ'})"
   ]
  },
  {
   "cell_type": "code",
   "execution_count": null,
   "metadata": {},
   "outputs": [],
   "source": [
    "# https://es.wikipedia.org/wiki/Anexo:Departamentos_del_Per%C3%BA_por_poblaci%C3%B3n\n",
    "dict_dep = {\n",
    "    \"AMAZONAS\"\t:\t426806,\n",
    "    \"ANCASH\"\t:\t1180638,\n",
    "    \"APURIMAC\"\t:\t430736,\n",
    "    \"AREQUIPA\"\t:\t1497438,\n",
    "    \"AYACUCHO\"\t:\t668213,\n",
    "    \"CAJAMARCA\"\t:\t1453711,\n",
    "    \"CALLAO\"\t:\t1129854,\n",
    "    \"CUSCO\"\t    :\t1357075,\n",
    "    \"HUANCAVELICA\":\t365317,\n",
    "    \"HUANUCO\"\t:\t760267,\n",
    "    \"ICA\"\t    :\t975182,\n",
    "    \"JUNIN\"\t    :\t1361467,\n",
    "    \"LALIBERTAD\":\t2016771,\n",
    "    \"LAMBAYEQUE\":\t1310785,\n",
    "    \"LIMA\"\t    :\t10628470,\n",
    "    \"LORETO\"\t:\t1027559,\n",
    "    \"MADREDEDIOS\":\t173811,\n",
    "    \"MOQUEGUA\"\t:\t192740,\n",
    "    \"PASCO\"\t    :\t271904,\n",
    "    \"PIURA\"\t    :\t2047954,\n",
    "    \"PUNO\"\t    :\t1237997,\n",
    "    \"SANMARTIN\"\t:\t899648,\n",
    "    \"TACNA\"\t    :\t370974,\n",
    "    \"TUMBES\"\t:\t251521,\n",
    "    \"UCAYALI\"\t:\t589110,\n",
    "    \"PERÚ\"  \t:\t32625948,\n",
    "}\n",
    "\n",
    "\n",
    "\n",
    "no_habitantes = [426806,\n",
    "                 1180638,\n",
    "                 430736,\n",
    "                 1497438,\n",
    "                 668213,\n",
    "                 1453711,\n",
    "                 1129854,\n",
    "                 1357075,\n",
    "                 365317,\n",
    "                 760267,\n",
    "                 975182,\n",
    "                 1361467,\n",
    "                 2016771,\n",
    "                 1310785,\n",
    "                 10628470,\n",
    "                 1027559,\n",
    "                 173811,\n",
    "                 192740,\n",
    "                 271904,\n",
    "                 2047954,\n",
    "                 1237997,\n",
    "                 899648,\n",
    "                 370974,\n",
    "                 251521,\n",
    "                 589110]\n",
    "\n",
    "no_habitantes.append(sum(no_habitantes))\n",
    "fal_ciudades['no_habitantes'] = no_habitantes\n",
    "del no_habitantes\n",
    "\n",
    "fal_ciudades['tasa_mortalidad'] = (fal_ciudades['fallecidos']/fal_ciudades['no_habitantes'])*100\n",
    "\n",
    "fal_ciudades.to_csv('Data/TOTAL_fallecidosXciudades.csv')"
   ]
  },
  {
   "cell_type": "markdown",
   "metadata": {},
   "source": [
    "# Getting the total of people FULLY VACCINATED (2 doses) by the 24 departments of Peru\n",
    "\n",
    "There are no direct way to found the total of people fully vaccinated per departments. To achieve this the following is planned:\n",
    "\n",
    "1. The vaccination dataset **(RawData/TB_VACUNACION_COVID19.csv)** only gives information about the vaccination center called *id_centro_vacunacion*. NOT the department or another relevant location.\n",
    "\n",
    "2. The vaccination centers dataset **(RawData/TB_CENTRO_VACUNACION.csv)** can be used to \"match\" the *id_centro_vacunacion* with the *id_ubigeo*. Which is a numeric variable from 0 to 1894 of the specifict district.\n",
    "\n",
    "3.  Finally with the UBIGEO dataset **(RawData/TB_UBIGEOS.csv)** it is possible to \"match\" each one with the correct department of Peru.\n"
   ]
  },
  {
   "cell_type": "code",
   "execution_count": 52,
   "metadata": {},
   "outputs": [
    {
     "name": "stdout",
     "output_type": "stream",
     "text": [
      "Read csv with dask:  41.755465269088745 sec\n",
      "<class 'pandas.core.frame.DataFrame'>\n",
      "Int64Index: 34638125 entries, 0 to 544332\n",
      "Columns: 2 entries, id_centro_vacunacion to dosis\n",
      "dtypes: int64(1), int8(1)\n",
      "memory usage: 561.6 MB\n"
     ]
    },
    {
     "ename": "AttributeError",
     "evalue": "module 'functions' has no attribute 'dose'",
     "output_type": "error",
     "traceback": [
      "\u001b[0;31m---------------------------------------------------------------------------\u001b[0m",
      "\u001b[0;31mAttributeError\u001b[0m                            Traceback (most recent call last)",
      "\u001b[0;32m/tmp/ipykernel_4726/4088143391.py\u001b[0m in \u001b[0;36m<module>\u001b[0;34m\u001b[0m\n\u001b[1;32m     24\u001b[0m \u001b[0;34m\u001b[0m\u001b[0m\n\u001b[1;32m     25\u001b[0m \u001b[0mvac_url\u001b[0m \u001b[0;34m=\u001b[0m \u001b[0;34m\"RawData/TB_VACUNACION_COVID19.csv\"\u001b[0m\u001b[0;34m\u001b[0m\u001b[0;34m\u001b[0m\u001b[0m\n\u001b[0;32m---> 26\u001b[0;31m \u001b[0mvac_x_depa\u001b[0m \u001b[0;34m=\u001b[0m \u001b[0mvac_department\u001b[0m\u001b[0;34m(\u001b[0m\u001b[0mvac_url\u001b[0m\u001b[0;34m)\u001b[0m\u001b[0;34m\u001b[0m\u001b[0;34m\u001b[0m\u001b[0m\n\u001b[0m\u001b[1;32m     27\u001b[0m \u001b[0;32mdel\u001b[0m \u001b[0mvac_url\u001b[0m\u001b[0;34m\u001b[0m\u001b[0;34m\u001b[0m\u001b[0m\n\u001b[1;32m     28\u001b[0m \u001b[0;34m\u001b[0m\u001b[0m\n",
      "\u001b[0;32m/tmp/ipykernel_4726/4088143391.py\u001b[0m in \u001b[0;36mvac_department\u001b[0;34m(vac_url)\u001b[0m\n\u001b[1;32m     19\u001b[0m \u001b[0;34m\u001b[0m\u001b[0m\n\u001b[1;32m     20\u001b[0m     \u001b[0;32mfor\u001b[0m \u001b[0mchunk\u001b[0m \u001b[0;32min\u001b[0m \u001b[0mlst_vac\u001b[0m\u001b[0;34m:\u001b[0m\u001b[0;34m\u001b[0m\u001b[0;34m\u001b[0m\u001b[0m\n\u001b[0;32m---> 21\u001b[0;31m         \u001b[0mchunk\u001b[0m \u001b[0;34m=\u001b[0m \u001b[0mfn\u001b[0m\u001b[0;34m.\u001b[0m\u001b[0mdose\u001b[0m\u001b[0;34m(\u001b[0m\u001b[0mchunk\u001b[0m\u001b[0;34m,\u001b[0m \u001b[0;34m\"dosis\"\u001b[0m\u001b[0;34m)\u001b[0m\u001b[0;34m\u001b[0m\u001b[0;34m\u001b[0m\u001b[0m\n\u001b[0m\u001b[1;32m     22\u001b[0m \u001b[0;34m\u001b[0m\u001b[0m\n\u001b[1;32m     23\u001b[0m     \u001b[0;32mreturn\u001b[0m \u001b[0mlst_vac\u001b[0m\u001b[0;34m\u001b[0m\u001b[0;34m\u001b[0m\u001b[0m\n",
      "\u001b[0;31mAttributeError\u001b[0m: module 'functions' has no attribute 'dose'"
     ]
    }
   ],
   "source": [
    "def vac_department(vac_url):\n",
    "    \"\"\"\n",
    "    Función que toma la dirección del  dataset de vacunados y devuelve el número de VACUNADOS \n",
    "    por los 24 departamentos del Perú\n",
    "\n",
    "    Parameters\n",
    "    ----------\n",
    "    vac_url: Directorio o url del dataset de VACUNADOS contra COVID-19\n",
    "\n",
    "    Returns\n",
    "    -------\n",
    "    df_vac: Dataframe con los 24 departamentos del Perú y su total de vacunados\n",
    "\n",
    "    \"\"\"\n",
    "    vac_col = ['id_centro_vacunacion', 'dosis']  # Seleccionar solamente la columna del id de los centros de vac.                        \n",
    "    \n",
    "    df_vac = fn.read_largeCSV_file(vac_url, ',', vac_col)   # Leemos los datasets     \n",
    "    lst_vac = fn.df_into_chunks(df_vac)   #  Dividimos en chunks el dataset de vacunados               \n",
    "    \n",
    "    for chunk in lst_vac:                                           \n",
    "        chunk = fn.dose(chunk, \"dosis\")\n",
    "\n",
    "    return lst_vac\n",
    "\n",
    "vac_url = \"RawData/TB_VACUNACION_COVID19.csv\"\n",
    "vac_x_depa = vac_department(vac_url)\n",
    "del vac_url\n",
    "\n"
   ]
  },
  {
   "cell_type": "code",
   "execution_count": 51,
   "metadata": {},
   "outputs": [],
   "source": [
    "data = {\"a\":[1,2,3,4],\"b\":[0,0,0,0]}\n",
    "df = pd.DataFrame(data)\n",
    "\n",
    "df = df.drop(df[df[\"a\"] == 3].index)"
   ]
  },
  {
   "cell_type": "code",
   "execution_count": 50,
   "metadata": {},
   "outputs": [
    {
     "name": "stdout",
     "output_type": "stream",
     "text": [
      "        id_centro_vacunacion  dosis\n",
      "0                         17      2\n",
      "1                       1828      2\n",
      "2                     103617      2\n",
      "3                        891      2\n",
      "4                     105859      1\n",
      "...                      ...    ...\n",
      "499995                   475      2\n",
      "499996                  4214      2\n",
      "499997                   767      1\n",
      "499998                  3789      1\n",
      "499999                  2681      2\n",
      "\n",
      "[500000 rows x 2 columns]\n"
     ]
    }
   ],
   "source": [
    "print(vac_x_depa[0])"
   ]
  }
 ],
 "metadata": {
  "interpreter": {
   "hash": "bea6116dd68ddf91c3cc5a29b631ef213aeb122ee277ca2ecd46a4cdc426254a"
  },
  "kernelspec": {
   "display_name": "Python 3.9.7 64-bit ('spyder-env': conda)",
   "language": "python",
   "name": "python3"
  },
  "language_info": {
   "codemirror_mode": {
    "name": "ipython",
    "version": 3
   },
   "file_extension": ".py",
   "mimetype": "text/x-python",
   "name": "python",
   "nbconvert_exporter": "python",
   "pygments_lexer": "ipython3",
   "version": "3.8.8"
  },
  "orig_nbformat": 4
 },
 "nbformat": 4,
 "nbformat_minor": 2
}
